{
 "cells": [
  {
   "cell_type": "markdown",
   "metadata": {},
   "source": [
    "# Twitter Sentiment Analysis - Apple vs Google"
   ]
  },
  {
   "cell_type": "markdown",
   "metadata": {},
   "source": [
    "## 1. Introduction and Overview (to update)\n",
    "### Executive summary\n",
    "\n",
    "Summary elements:\n",
    "\n",
    "1. Business and data understanding: what kind of data are you using, and what makes it well-suited for the business problem?\n",
    " - You do not need to include any data visualizations in your summary, but consider including relevant descriptive statistics\n",
    "2. Data preparation: why did you choose the data preparation steps that you did, and what was the result?\n",
    " - This should be specific to the kind of data you are working with. For example, if you are doing an NLP project, what did you decide to do with stopwords?\n",
    " - Be sure to list the packages/libraries used to prepare the data, and why\n",
    "3. Modeling: what modeling package(s) did you use, which model(s) within the package(s), and what tuning steps did you take?\n",
    " - For some projects there may be only one applicable package; you should still briefly explain why this was the appropriate choice\n",
    "4. Evaluation: how well did your final model perform?\n",
    " - Include one or more relevant metrics\n",
    " - Be sure to briefly describe your validation approach"
   ]
  },
  {
   "cell_type": "markdown",
   "metadata": {},
   "source": [
    "## 2. Business Understanding\n",
    "### 2.1 Business Problem\n",
    "\n",
    "Apple and Google companies are interested in understanding public sentiment from Twitter to provide insights into customer satisfaction, product perception, and areas needing improvement. This information can help guide marketing strategies, customer support priorities, and product development decisions for better brand engagement and customer experience. Key stakeholders in this project are:\n",
    " - **Marketing Teams:** They would benefit from insights on public sentiment to create targeted marketing campaigns, enhance brand perception, and better understand customer preferences for Apple and Google products.\n",
    " - **Product Development Teams:** They need feedback on specific products to make informed decisions regarding feature enhancements, new product features, and overall product improvements.\n",
    " - **Customer Service Teams:** They could use sentiment analysis to proactively address negative sentiments, prioritize customer issues, and improve the overall customer experience by responding to customer feedback more effectively.\n",
    "\n",
    "### 2.2 Objectives\n",
    "\n",
    "- Develop an accurate model that can classify tweets into positive, negative, or neutral sentiments. This will enable the stakeholders to gauge customer sentiment quickly and efficiently on a large scale.\n",
    "- Provide insights into the sentiment distribution for each product category. This would help marketing and product development teams understand how individual products are perceived and which ones might require attention or promotion.\n",
    "- Identify patterns or trends in sentiment that may indicate areas for improvement or strengths in Apple and Google products. These insights can guide proactive customer service responses and highlight potential product issues before they escalate."
   ]
  },
  {
   "cell_type": "markdown",
   "metadata": {},
   "source": [
    "### 3. Data Understanding\n",
    "This section will explore the data to become familiar with its characteristics as well as identify data quality issues and gather initial insights to guide further analysis."
   ]
  },
  {
   "cell_type": "code",
   "execution_count": 1,
   "metadata": {},
   "outputs": [
    {
     "name": "stderr",
     "output_type": "stream",
     "text": [
      "[nltk_data] Downloading package stopwords to\n",
      "[nltk_data]     C:\\Users\\user\\AppData\\Roaming\\nltk_data...\n",
      "[nltk_data]   Package stopwords is already up-to-date!\n",
      "[nltk_data] Downloading package wordnet to\n",
      "[nltk_data]     C:\\Users\\user\\AppData\\Roaming\\nltk_data...\n",
      "[nltk_data]   Package wordnet is already up-to-date!\n",
      "[nltk_data] Downloading package averaged_perceptron_tagger to\n",
      "[nltk_data]     C:\\Users\\user\\AppData\\Roaming\\nltk_data...\n",
      "[nltk_data]   Package averaged_perceptron_tagger is already up-to-\n",
      "[nltk_data]       date!\n"
     ]
    }
   ],
   "source": [
    "#importing the necessary libraries\n",
    "# Data manipulation\n",
    "import pandas as pd\n",
    "import numpy as np\n",
    "\n",
    "# plotting\n",
    "import seaborn as sns\n",
    "import matplotlib.pyplot as plt\n",
    "\n",
    "# nltk\n",
    "import re\n",
    "import string\n",
    "import nltk\n",
    "from nltk.corpus import stopwords\n",
    "from nltk.probability import FreqDist\n",
    "from nltk.stem import WordNetLemmatizer\n",
    "\n",
    "# Download required NLTK data\n",
    "nltk.download('stopwords')\n",
    "nltk.download('wordnet')\n",
    "nltk.download('averaged_perceptron_tagger')\n",
    "\n",
    "# Surpress Warnings\n",
    "import warnings\n",
    "warnings.filterwarnings('ignore')"
   ]
  },
  {
   "cell_type": "code",
   "execution_count": 2,
   "metadata": {},
   "outputs": [
    {
     "data": {
      "text/html": [
       "<div>\n",
       "<style scoped>\n",
       "    .dataframe tbody tr th:only-of-type {\n",
       "        vertical-align: middle;\n",
       "    }\n",
       "\n",
       "    .dataframe tbody tr th {\n",
       "        vertical-align: top;\n",
       "    }\n",
       "\n",
       "    .dataframe thead th {\n",
       "        text-align: right;\n",
       "    }\n",
       "</style>\n",
       "<table border=\"1\" class=\"dataframe\">\n",
       "  <thead>\n",
       "    <tr style=\"text-align: right;\">\n",
       "      <th></th>\n",
       "      <th>tweet_text</th>\n",
       "      <th>emotion_in_tweet_is_directed_at</th>\n",
       "      <th>is_there_an_emotion_directed_at_a_brand_or_product</th>\n",
       "    </tr>\n",
       "  </thead>\n",
       "  <tbody>\n",
       "    <tr>\n",
       "      <th>0</th>\n",
       "      <td>.@wesley83 I have a 3G iPhone. After 3 hrs twe...</td>\n",
       "      <td>iPhone</td>\n",
       "      <td>Negative emotion</td>\n",
       "    </tr>\n",
       "    <tr>\n",
       "      <th>1</th>\n",
       "      <td>@jessedee Know about @fludapp ? Awesome iPad/i...</td>\n",
       "      <td>iPad or iPhone App</td>\n",
       "      <td>Positive emotion</td>\n",
       "    </tr>\n",
       "    <tr>\n",
       "      <th>2</th>\n",
       "      <td>@swonderlin Can not wait for #iPad 2 also. The...</td>\n",
       "      <td>iPad</td>\n",
       "      <td>Positive emotion</td>\n",
       "    </tr>\n",
       "    <tr>\n",
       "      <th>3</th>\n",
       "      <td>@sxsw I hope this year's festival isn't as cra...</td>\n",
       "      <td>iPad or iPhone App</td>\n",
       "      <td>Negative emotion</td>\n",
       "    </tr>\n",
       "    <tr>\n",
       "      <th>4</th>\n",
       "      <td>@sxtxstate great stuff on Fri #SXSW: Marissa M...</td>\n",
       "      <td>Google</td>\n",
       "      <td>Positive emotion</td>\n",
       "    </tr>\n",
       "    <tr>\n",
       "      <th>...</th>\n",
       "      <td>...</td>\n",
       "      <td>...</td>\n",
       "      <td>...</td>\n",
       "    </tr>\n",
       "    <tr>\n",
       "      <th>9088</th>\n",
       "      <td>Ipad everywhere. #SXSW {link}</td>\n",
       "      <td>iPad</td>\n",
       "      <td>Positive emotion</td>\n",
       "    </tr>\n",
       "    <tr>\n",
       "      <th>9089</th>\n",
       "      <td>Wave, buzz... RT @mention We interrupt your re...</td>\n",
       "      <td>NaN</td>\n",
       "      <td>No emotion toward brand or product</td>\n",
       "    </tr>\n",
       "    <tr>\n",
       "      <th>9090</th>\n",
       "      <td>Google's Zeiger, a physician never reported po...</td>\n",
       "      <td>NaN</td>\n",
       "      <td>No emotion toward brand or product</td>\n",
       "    </tr>\n",
       "    <tr>\n",
       "      <th>9091</th>\n",
       "      <td>Some Verizon iPhone customers complained their...</td>\n",
       "      <td>NaN</td>\n",
       "      <td>No emotion toward brand or product</td>\n",
       "    </tr>\n",
       "    <tr>\n",
       "      <th>9092</th>\n",
       "      <td>Ï¡Ïàü_ÊÎÒ£Áââ_£â_ÛâRT @...</td>\n",
       "      <td>NaN</td>\n",
       "      <td>No emotion toward brand or product</td>\n",
       "    </tr>\n",
       "  </tbody>\n",
       "</table>\n",
       "<p>9093 rows × 3 columns</p>\n",
       "</div>"
      ],
      "text/plain": [
       "                                             tweet_text  \\\n",
       "0     .@wesley83 I have a 3G iPhone. After 3 hrs twe...   \n",
       "1     @jessedee Know about @fludapp ? Awesome iPad/i...   \n",
       "2     @swonderlin Can not wait for #iPad 2 also. The...   \n",
       "3     @sxsw I hope this year's festival isn't as cra...   \n",
       "4     @sxtxstate great stuff on Fri #SXSW: Marissa M...   \n",
       "...                                                 ...   \n",
       "9088                      Ipad everywhere. #SXSW {link}   \n",
       "9089  Wave, buzz... RT @mention We interrupt your re...   \n",
       "9090  Google's Zeiger, a physician never reported po...   \n",
       "9091  Some Verizon iPhone customers complained their...   \n",
       "9092  Ï¡Ïàü_ÊÎÒ£Áââ_£â_ÛâRT @...   \n",
       "\n",
       "     emotion_in_tweet_is_directed_at  \\\n",
       "0                             iPhone   \n",
       "1                 iPad or iPhone App   \n",
       "2                               iPad   \n",
       "3                 iPad or iPhone App   \n",
       "4                             Google   \n",
       "...                              ...   \n",
       "9088                            iPad   \n",
       "9089                             NaN   \n",
       "9090                             NaN   \n",
       "9091                             NaN   \n",
       "9092                             NaN   \n",
       "\n",
       "     is_there_an_emotion_directed_at_a_brand_or_product  \n",
       "0                                      Negative emotion  \n",
       "1                                      Positive emotion  \n",
       "2                                      Positive emotion  \n",
       "3                                      Negative emotion  \n",
       "4                                      Positive emotion  \n",
       "...                                                 ...  \n",
       "9088                                   Positive emotion  \n",
       "9089                 No emotion toward brand or product  \n",
       "9090                 No emotion toward brand or product  \n",
       "9091                 No emotion toward brand or product  \n",
       "9092                 No emotion toward brand or product  \n",
       "\n",
       "[9093 rows x 3 columns]"
      ]
     },
     "execution_count": 2,
     "metadata": {},
     "output_type": "execute_result"
    }
   ],
   "source": [
    "#Loading and previewing the twitter sentiments dataset\n",
    "df = pd.read_csv(r'\\Users\\user\\Desktop\\DS_Projects\\phase_4_project\\twitter-sentiment-analysis\\data\\judge-1377884607_tweet_product_company.csv', encoding='ISO-8859-1')\n",
    "df"
   ]
  },
  {
   "cell_type": "markdown",
   "metadata": {},
   "source": [
    "Exploring the data to gain insights about the data."
   ]
  },
  {
   "cell_type": "code",
   "execution_count": 3,
   "metadata": {},
   "outputs": [
    {
     "data": {
      "text/html": [
       "<div>\n",
       "<style scoped>\n",
       "    .dataframe tbody tr th:only-of-type {\n",
       "        vertical-align: middle;\n",
       "    }\n",
       "\n",
       "    .dataframe tbody tr th {\n",
       "        vertical-align: top;\n",
       "    }\n",
       "\n",
       "    .dataframe thead th {\n",
       "        text-align: right;\n",
       "    }\n",
       "</style>\n",
       "<table border=\"1\" class=\"dataframe\">\n",
       "  <thead>\n",
       "    <tr style=\"text-align: right;\">\n",
       "      <th></th>\n",
       "      <th>tweet_text</th>\n",
       "      <th>emotion_in_tweet_is_directed_at</th>\n",
       "      <th>is_there_an_emotion_directed_at_a_brand_or_product</th>\n",
       "    </tr>\n",
       "  </thead>\n",
       "  <tbody>\n",
       "    <tr>\n",
       "      <th>0</th>\n",
       "      <td>.@wesley83 I have a 3G iPhone. After 3 hrs twe...</td>\n",
       "      <td>iPhone</td>\n",
       "      <td>Negative emotion</td>\n",
       "    </tr>\n",
       "    <tr>\n",
       "      <th>1</th>\n",
       "      <td>@jessedee Know about @fludapp ? Awesome iPad/i...</td>\n",
       "      <td>iPad or iPhone App</td>\n",
       "      <td>Positive emotion</td>\n",
       "    </tr>\n",
       "    <tr>\n",
       "      <th>2</th>\n",
       "      <td>@swonderlin Can not wait for #iPad 2 also. The...</td>\n",
       "      <td>iPad</td>\n",
       "      <td>Positive emotion</td>\n",
       "    </tr>\n",
       "    <tr>\n",
       "      <th>3</th>\n",
       "      <td>@sxsw I hope this year's festival isn't as cra...</td>\n",
       "      <td>iPad or iPhone App</td>\n",
       "      <td>Negative emotion</td>\n",
       "    </tr>\n",
       "    <tr>\n",
       "      <th>4</th>\n",
       "      <td>@sxtxstate great stuff on Fri #SXSW: Marissa M...</td>\n",
       "      <td>Google</td>\n",
       "      <td>Positive emotion</td>\n",
       "    </tr>\n",
       "  </tbody>\n",
       "</table>\n",
       "</div>"
      ],
      "text/plain": [
       "                                          tweet_text  \\\n",
       "0  .@wesley83 I have a 3G iPhone. After 3 hrs twe...   \n",
       "1  @jessedee Know about @fludapp ? Awesome iPad/i...   \n",
       "2  @swonderlin Can not wait for #iPad 2 also. The...   \n",
       "3  @sxsw I hope this year's festival isn't as cra...   \n",
       "4  @sxtxstate great stuff on Fri #SXSW: Marissa M...   \n",
       "\n",
       "  emotion_in_tweet_is_directed_at  \\\n",
       "0                          iPhone   \n",
       "1              iPad or iPhone App   \n",
       "2                            iPad   \n",
       "3              iPad or iPhone App   \n",
       "4                          Google   \n",
       "\n",
       "  is_there_an_emotion_directed_at_a_brand_or_product  \n",
       "0                                   Negative emotion  \n",
       "1                                   Positive emotion  \n",
       "2                                   Positive emotion  \n",
       "3                                   Negative emotion  \n",
       "4                                   Positive emotion  "
      ]
     },
     "execution_count": 3,
     "metadata": {},
     "output_type": "execute_result"
    }
   ],
   "source": [
    "# Previewing the top of the dataset\n",
    "df.head()"
   ]
  },
  {
   "cell_type": "code",
   "execution_count": 4,
   "metadata": {},
   "outputs": [
    {
     "data": {
      "text/html": [
       "<div>\n",
       "<style scoped>\n",
       "    .dataframe tbody tr th:only-of-type {\n",
       "        vertical-align: middle;\n",
       "    }\n",
       "\n",
       "    .dataframe tbody tr th {\n",
       "        vertical-align: top;\n",
       "    }\n",
       "\n",
       "    .dataframe thead th {\n",
       "        text-align: right;\n",
       "    }\n",
       "</style>\n",
       "<table border=\"1\" class=\"dataframe\">\n",
       "  <thead>\n",
       "    <tr style=\"text-align: right;\">\n",
       "      <th></th>\n",
       "      <th>tweet_text</th>\n",
       "      <th>emotion_in_tweet_is_directed_at</th>\n",
       "      <th>is_there_an_emotion_directed_at_a_brand_or_product</th>\n",
       "    </tr>\n",
       "  </thead>\n",
       "  <tbody>\n",
       "    <tr>\n",
       "      <th>9088</th>\n",
       "      <td>Ipad everywhere. #SXSW {link}</td>\n",
       "      <td>iPad</td>\n",
       "      <td>Positive emotion</td>\n",
       "    </tr>\n",
       "    <tr>\n",
       "      <th>9089</th>\n",
       "      <td>Wave, buzz... RT @mention We interrupt your re...</td>\n",
       "      <td>NaN</td>\n",
       "      <td>No emotion toward brand or product</td>\n",
       "    </tr>\n",
       "    <tr>\n",
       "      <th>9090</th>\n",
       "      <td>Google's Zeiger, a physician never reported po...</td>\n",
       "      <td>NaN</td>\n",
       "      <td>No emotion toward brand or product</td>\n",
       "    </tr>\n",
       "    <tr>\n",
       "      <th>9091</th>\n",
       "      <td>Some Verizon iPhone customers complained their...</td>\n",
       "      <td>NaN</td>\n",
       "      <td>No emotion toward brand or product</td>\n",
       "    </tr>\n",
       "    <tr>\n",
       "      <th>9092</th>\n",
       "      <td>Ï¡Ïàü_ÊÎÒ£Áââ_£â_ÛâRT @...</td>\n",
       "      <td>NaN</td>\n",
       "      <td>No emotion toward brand or product</td>\n",
       "    </tr>\n",
       "  </tbody>\n",
       "</table>\n",
       "</div>"
      ],
      "text/plain": [
       "                                             tweet_text  \\\n",
       "9088                      Ipad everywhere. #SXSW {link}   \n",
       "9089  Wave, buzz... RT @mention We interrupt your re...   \n",
       "9090  Google's Zeiger, a physician never reported po...   \n",
       "9091  Some Verizon iPhone customers complained their...   \n",
       "9092  Ï¡Ïàü_ÊÎÒ£Áââ_£â_ÛâRT @...   \n",
       "\n",
       "     emotion_in_tweet_is_directed_at  \\\n",
       "9088                            iPad   \n",
       "9089                             NaN   \n",
       "9090                             NaN   \n",
       "9091                             NaN   \n",
       "9092                             NaN   \n",
       "\n",
       "     is_there_an_emotion_directed_at_a_brand_or_product  \n",
       "9088                                   Positive emotion  \n",
       "9089                 No emotion toward brand or product  \n",
       "9090                 No emotion toward brand or product  \n",
       "9091                 No emotion toward brand or product  \n",
       "9092                 No emotion toward brand or product  "
      ]
     },
     "execution_count": 4,
     "metadata": {},
     "output_type": "execute_result"
    }
   ],
   "source": [
    "# Previewing the bottom of the dataset\n",
    "df.tail()"
   ]
  },
  {
   "cell_type": "code",
   "execution_count": 5,
   "metadata": {},
   "outputs": [
    {
     "data": {
      "text/plain": [
       "(9093, 3)"
      ]
     },
     "execution_count": 5,
     "metadata": {},
     "output_type": "execute_result"
    }
   ],
   "source": [
    "# Checking the dimensions of the data\n",
    "df.shape"
   ]
  },
  {
   "cell_type": "markdown",
   "metadata": {},
   "source": [
    "This output shows:\n",
    "\n",
    " - Number of Rows (Observations): There are 9093 rows in the DataFrame.\n",
    " - Number of Columns (Variables): There are 3 columns (or variables) in the DataFrame."
   ]
  },
  {
   "cell_type": "code",
   "execution_count": 6,
   "metadata": {},
   "outputs": [
    {
     "name": "stdout",
     "output_type": "stream",
     "text": [
      "<class 'pandas.core.frame.DataFrame'>\n",
      "RangeIndex: 9093 entries, 0 to 9092\n",
      "Data columns (total 3 columns):\n",
      " #   Column                                              Non-Null Count  Dtype \n",
      "---  ------                                              --------------  ----- \n",
      " 0   tweet_text                                          9092 non-null   object\n",
      " 1   emotion_in_tweet_is_directed_at                     3291 non-null   object\n",
      " 2   is_there_an_emotion_directed_at_a_brand_or_product  9093 non-null   object\n",
      "dtypes: object(3)\n",
      "memory usage: 213.2+ KB\n"
     ]
    }
   ],
   "source": [
    "# Checking on the data type\n",
    "df.info()"
   ]
  },
  {
   "cell_type": "code",
   "execution_count": 7,
   "metadata": {},
   "outputs": [
    {
     "data": {
      "text/plain": [
       "Index(['tweet_text', 'emotion_in_tweet_is_directed_at',\n",
       "       'is_there_an_emotion_directed_at_a_brand_or_product'],\n",
       "      dtype='object')"
      ]
     },
     "execution_count": 7,
     "metadata": {},
     "output_type": "execute_result"
    }
   ],
   "source": [
    "#Checking columns\n",
    "df.columns"
   ]
  },
  {
   "cell_type": "code",
   "execution_count": 8,
   "metadata": {},
   "outputs": [
    {
     "data": {
      "text/plain": [
       "No emotion toward brand or product    5389\n",
       "Positive emotion                      2978\n",
       "Negative emotion                       570\n",
       "I can't tell                           156\n",
       "Name: is_there_an_emotion_directed_at_a_brand_or_product, dtype: int64"
      ]
     },
     "execution_count": 8,
     "metadata": {},
     "output_type": "execute_result"
    }
   ],
   "source": [
    "#Checking unique values\n",
    "emotion_counts = df['is_there_an_emotion_directed_at_a_brand_or_product'].value_counts()\n",
    "emotion_counts"
   ]
  },
  {
   "cell_type": "code",
   "execution_count": 9,
   "metadata": {},
   "outputs": [
    {
     "data": {
      "text/plain": [
       "iPad                               946\n",
       "Apple                              661\n",
       "iPad or iPhone App                 470\n",
       "Google                             430\n",
       "iPhone                             297\n",
       "Other Google product or service    293\n",
       "Android App                         81\n",
       "Android                             78\n",
       "Other Apple product or service      35\n",
       "Name: emotion_in_tweet_is_directed_at, dtype: int64"
      ]
     },
     "execution_count": 9,
     "metadata": {},
     "output_type": "execute_result"
    }
   ],
   "source": [
    "#Checking unique values\n",
    "product_counts = df['emotion_in_tweet_is_directed_at'].value_counts()\n",
    "product_counts"
   ]
  },
  {
   "cell_type": "markdown",
   "metadata": {},
   "source": [
    "From the output these are the columns in our data and their descriptions based on a review of our data and information from our data source:\n",
    "\n",
    " - **tweet_text:** Contains the text of each Tweet.\n",
    " - **emotion_in_tweet_is_directed_at:** Specifies the product or brand the emotion is directed at; *iPad, Apple, iPad or iPhone App, Google, iPhone, Other Google product or service, Android App, Android, Other Apple product or service.*\n",
    " - **is_there_an_emotion_directed_at_a_brand_or_product:** Indicates the sentiment associated with the Tweet; *No emotion toward brand or product, Positive emotion, Negative emotion, I can't tell.*"
   ]
  },
  {
   "cell_type": "markdown",
   "metadata": {},
   "source": [
    "## 4. Data Preparation"
   ]
  },
  {
   "cell_type": "markdown",
   "metadata": {},
   "source": [
    "Here I will clean and preprocess the data, including selecting relevant features, handling missing values, and transforming data into the desired format for modeling"
   ]
  },
  {
   "cell_type": "markdown",
   "metadata": {},
   "source": [
    "### 4.1 Exploratory Data Analysis\n",
    "#### Check for any missing values"
   ]
  },
  {
   "cell_type": "code",
   "execution_count": 10,
   "metadata": {},
   "outputs": [
    {
     "data": {
      "text/plain": [
       "tweet_text                                               1\n",
       "emotion_in_tweet_is_directed_at                       5802\n",
       "is_there_an_emotion_directed_at_a_brand_or_product       0\n",
       "dtype: int64"
      ]
     },
     "execution_count": 10,
     "metadata": {},
     "output_type": "execute_result"
    }
   ],
   "source": [
    "# Checking for missing values\n",
    "df.isnull().sum()"
   ]
  },
  {
   "cell_type": "markdown",
   "metadata": {},
   "source": [
    "From the output we can conclude that:\n",
    " - Only **1** row is missing in the `tweet_text` column, and **5,802** rows have missing values in `emotion_in_tweet_is_directed_at`.\n",
    " - The missing values from `emotion_in_tweet_is_directed_at` are quite significant being more than half of the observation meaning these might/will impact sentiment classification. To deal with these rather than dropping the rows they'll instead be filled in with the *'NaN'* value.\n",
    " - The missing value from `tweet_text` is not significant meaning these will not impact sentiment classification therefore the row can be dropped."
   ]
  },
  {
   "cell_type": "markdown",
   "metadata": {},
   "source": [
    "#### Check for any duplicate values"
   ]
  },
  {
   "cell_type": "code",
   "execution_count": 11,
   "metadata": {},
   "outputs": [
    {
     "data": {
      "text/plain": [
       "22"
      ]
     },
     "execution_count": 11,
     "metadata": {},
     "output_type": "execute_result"
    }
   ],
   "source": [
    "# Checking for duplicates\n",
    "df.duplicated().sum()"
   ]
  },
  {
   "cell_type": "markdown",
   "metadata": {},
   "source": [
    "From the output there are **22** duplicate values within this dataset. Duplicate rows will be dropped from the dataset."
   ]
  },
  {
   "cell_type": "markdown",
   "metadata": {},
   "source": [
    "### 4.2 Data Cleaning\n",
    "#### 4.2.1 Filling in the missing values in the `emotion_in_tweet_is_directed_at` column"
   ]
  },
  {
   "cell_type": "code",
   "execution_count": 12,
   "metadata": {},
   "outputs": [
    {
     "data": {
      "text/plain": [
       "tweet_text                                            1\n",
       "emotion_in_tweet_is_directed_at                       0\n",
       "is_there_an_emotion_directed_at_a_brand_or_product    0\n",
       "dtype: int64"
      ]
     },
     "execution_count": 12,
     "metadata": {},
     "output_type": "execute_result"
    }
   ],
   "source": [
    "# Replace missing values in 'emotion_in_tweet_is_directed_at' column with 'NaN'\n",
    "df['emotion_in_tweet_is_directed_at'].fillna('NaN', inplace=True)\n",
    "\n",
    "# Confirm replacement of missing values\n",
    "missing_values_after_replacement = df.isnull().sum()\n",
    "missing_values_after_replacement"
   ]
  },
  {
   "cell_type": "markdown",
   "metadata": {},
   "source": [
    "#### 4.2.2 Dropping the missing value in the `tweet_text` column"
   ]
  },
  {
   "cell_type": "code",
   "execution_count": 13,
   "metadata": {},
   "outputs": [],
   "source": [
    "# Drop row with missing value in 'tweet_text' column\n",
    "df = df.dropna(subset=['tweet_text'])"
   ]
  },
  {
   "cell_type": "code",
   "execution_count": 14,
   "metadata": {},
   "outputs": [
    {
     "data": {
      "text/plain": [
       "tweet_text                                            0\n",
       "emotion_in_tweet_is_directed_at                       0\n",
       "is_there_an_emotion_directed_at_a_brand_or_product    0\n",
       "dtype: int64"
      ]
     },
     "execution_count": 14,
     "metadata": {},
     "output_type": "execute_result"
    }
   ],
   "source": [
    "# Confirm that there are no more missing values in the dataset\n",
    "missing_values_final = df.isnull().sum()\n",
    "missing_values_final"
   ]
  },
  {
   "cell_type": "markdown",
   "metadata": {},
   "source": [
    "From the output there are no more missing or duplicate values within the dataset."
   ]
  },
  {
   "cell_type": "markdown",
   "metadata": {},
   "source": [
    "#### 4.2.3 Dropping the duplicate values"
   ]
  },
  {
   "cell_type": "code",
   "execution_count": 15,
   "metadata": {},
   "outputs": [
    {
     "data": {
      "text/plain": [
       "0"
      ]
     },
     "execution_count": 15,
     "metadata": {},
     "output_type": "execute_result"
    }
   ],
   "source": [
    "# Remove duplicates\n",
    "df = df.drop_duplicates()\n",
    "\n",
    "# Display the cleaned dataset information to confirm the changes\n",
    "df.duplicated().sum()"
   ]
  },
  {
   "cell_type": "markdown",
   "metadata": {},
   "source": [
    "### 4.3 Column Renaming"
   ]
  },
  {
   "cell_type": "code",
   "execution_count": 16,
   "metadata": {},
   "outputs": [
    {
     "data": {
      "text/html": [
       "<div>\n",
       "<style scoped>\n",
       "    .dataframe tbody tr th:only-of-type {\n",
       "        vertical-align: middle;\n",
       "    }\n",
       "\n",
       "    .dataframe tbody tr th {\n",
       "        vertical-align: top;\n",
       "    }\n",
       "\n",
       "    .dataframe thead th {\n",
       "        text-align: right;\n",
       "    }\n",
       "</style>\n",
       "<table border=\"1\" class=\"dataframe\">\n",
       "  <thead>\n",
       "    <tr style=\"text-align: right;\">\n",
       "      <th></th>\n",
       "      <th>tweet</th>\n",
       "      <th>product</th>\n",
       "      <th>emotion</th>\n",
       "    </tr>\n",
       "  </thead>\n",
       "  <tbody>\n",
       "    <tr>\n",
       "      <th>0</th>\n",
       "      <td>.@wesley83 I have a 3G iPhone. After 3 hrs twe...</td>\n",
       "      <td>iPhone</td>\n",
       "      <td>Negative emotion</td>\n",
       "    </tr>\n",
       "    <tr>\n",
       "      <th>1</th>\n",
       "      <td>@jessedee Know about @fludapp ? Awesome iPad/i...</td>\n",
       "      <td>iPad or iPhone App</td>\n",
       "      <td>Positive emotion</td>\n",
       "    </tr>\n",
       "    <tr>\n",
       "      <th>2</th>\n",
       "      <td>@swonderlin Can not wait for #iPad 2 also. The...</td>\n",
       "      <td>iPad</td>\n",
       "      <td>Positive emotion</td>\n",
       "    </tr>\n",
       "    <tr>\n",
       "      <th>3</th>\n",
       "      <td>@sxsw I hope this year's festival isn't as cra...</td>\n",
       "      <td>iPad or iPhone App</td>\n",
       "      <td>Negative emotion</td>\n",
       "    </tr>\n",
       "    <tr>\n",
       "      <th>4</th>\n",
       "      <td>@sxtxstate great stuff on Fri #SXSW: Marissa M...</td>\n",
       "      <td>Google</td>\n",
       "      <td>Positive emotion</td>\n",
       "    </tr>\n",
       "  </tbody>\n",
       "</table>\n",
       "</div>"
      ],
      "text/plain": [
       "                                               tweet             product  \\\n",
       "0  .@wesley83 I have a 3G iPhone. After 3 hrs twe...              iPhone   \n",
       "1  @jessedee Know about @fludapp ? Awesome iPad/i...  iPad or iPhone App   \n",
       "2  @swonderlin Can not wait for #iPad 2 also. The...                iPad   \n",
       "3  @sxsw I hope this year's festival isn't as cra...  iPad or iPhone App   \n",
       "4  @sxtxstate great stuff on Fri #SXSW: Marissa M...              Google   \n",
       "\n",
       "            emotion  \n",
       "0  Negative emotion  \n",
       "1  Positive emotion  \n",
       "2  Positive emotion  \n",
       "3  Negative emotion  \n",
       "4  Positive emotion  "
      ]
     },
     "execution_count": 16,
     "metadata": {},
     "output_type": "execute_result"
    }
   ],
   "source": [
    "# Renaming columns to shorter names\n",
    "df = df.rename(columns={\n",
    "    'tweet_text': 'tweet',\n",
    "    'emotion_in_tweet_is_directed_at': 'product',\n",
    "    'is_there_an_emotion_directed_at_a_brand_or_product': 'emotion'\n",
    "})\n",
    "\n",
    "# Previewing the top of the dataset\n",
    "df.head()"
   ]
  },
  {
   "cell_type": "markdown",
   "metadata": {},
   "source": [
    "### 4.4 Data Visualization\n",
    "#### 4.4.1 Emotion Distribution"
   ]
  },
  {
   "cell_type": "code",
   "execution_count": 17,
   "metadata": {},
   "outputs": [
    {
     "data": {
      "text/plain": [
       "No emotion toward brand or product    5375\n",
       "Positive emotion                      2970\n",
       "Negative emotion                       569\n",
       "I can't tell                           156\n",
       "Name: emotion, dtype: int64"
      ]
     },
     "execution_count": 17,
     "metadata": {},
     "output_type": "execute_result"
    }
   ],
   "source": [
    "emotion_counts = df['emotion'].value_counts()\n",
    "\n",
    "emotion_counts.head()"
   ]
  },
  {
   "cell_type": "code",
   "execution_count": 18,
   "metadata": {},
   "outputs": [
    {
     "data": {
      "image/png": "[encoded data removed]",
      "text/plain": [
       "<Figure size 576x432 with 1 Axes>"
      ]
     },
     "metadata": {
      "needs_background": "light"
     },
     "output_type": "display_data"
    }
   ],
   "source": [
    "import matplotlib.pyplot as plt\n",
    "\n",
    "# Plot the distribution of emotions\n",
    "emotion_counts = df['emotion'].value_counts()\n",
    "\n",
    "# Create the bar plot\n",
    "plt.figure(figsize=(8, 6))\n",
    "emotion_counts.plot(kind='bar')\n",
    "plt.title('Distribution of Emotions in Tweets')\n",
    "plt.xlabel('Emotion')\n",
    "plt.ylabel('Count')\n",
    "plt.xticks(rotation=45)\n",
    "plt.show()"
   ]
  },
  {
   "cell_type": "markdown",
   "metadata": {},
   "source": [
    "The bar plot shows the distribution of emotions in the tweets. This visualization provides an overview of the sentiment balance within the dataset.For a cleaner visualization;\n",
    " - The `No emotion toward brand or product` column name will be replaced with `Neutral emotion`.\n",
    " - The `I can't tell` column will then be dropped since it does not contribute to the sentiment analysis."
   ]
  },
  {
   "cell_type": "code",
   "execution_count": 19,
   "metadata": {},
   "outputs": [],
   "source": [
    "# Replace 'No emotion toward brand or product' with 'Neutral emotion'\n",
    "df['emotion'] = df['emotion'].replace(\n",
    "    'No emotion toward brand or product', 'Neutral emotion'\n",
    ")\n",
    "\n",
    "# Drop rows with 'I can't tell' in 'emotion' column\n",
    "df = df[df['emotion'] != \"I can't tell\"]"
   ]
  },
  {
   "cell_type": "code",
   "execution_count": 20,
   "metadata": {},
   "outputs": [
    {
     "data": {
      "image/png": "[encoded data removed]",
      "text/plain": [
       "<Figure size 576x432 with 1 Axes>"
      ]
     },
     "metadata": {
      "needs_background": "light"
     },
     "output_type": "display_data"
    }
   ],
   "source": [
    "# Re-plot with horizontal labels and different bar colors\n",
    "emotion_counts_cleaned = df['emotion'].value_counts()\n",
    "\n",
    "plt.figure(figsize=(8, 6))\n",
    "emotion_counts_cleaned.plot(kind='bar', color=['skyblue', 'salmon', 'lightgreen'])\n",
    "plt.title('Distribution of Emotions in Tweets (Cleaned)')\n",
    "plt.xlabel('Emotion')\n",
    "plt.ylabel('Count')\n",
    "plt.xticks(rotation=0)  # Rotate labels horizontally\n",
    "\n",
    "plt.show()"
   ]
  },
  {
   "cell_type": "markdown",
   "metadata": {},
   "source": [
    "Above is the updated bar plot showing the distribution of emotions after renaming `No emotion toward brand or product` to `Neutral emotion` and dropping the `I can't tell` category. This should provide a clearer view of the sentiment distribution relevant to the analysis.\n",
    "\n",
    "**Observation**\n",
    "- The emotion distribution plot reveals a higher proportion of **Positive** emotions compared to **Negative** emotions. This suggests that, in general, users tend to express positive sentiments when discussing Apple and Google products on Twitter.\n",
    "- **Neutral** emotions are also quite prevalent, indicating that a significant portion of users simply mention these products without conveying a strong sentiment.\n",
    "- The presence of Negative emotions, although smaller, is notable and could be important for identifying areas of customer dissatisfaction.\n",
    "\n",
    "This insight can guide the sentiment analysis approach. For example, if Positive and Negative sentiments are key for business insights, we might place greater focus on ensuring accurate classification between these two categories."
   ]
  },
  {
   "cell_type": "markdown",
   "metadata": {},
   "source": [
    "#### 4.4.2 Product Distribution"
   ]
  },
  {
   "cell_type": "code",
   "execution_count": 21,
   "metadata": {},
   "outputs": [
    {
     "data": {
      "image/png": "[encoded data removed]",
      "text/plain": [
       "<Figure size 720x576 with 1 Axes>"
      ]
     },
     "metadata": {
      "needs_background": "light"
     },
     "output_type": "display_data"
    }
   ],
   "source": [
    "# Plot the distribution of products\n",
    "product_counts = df['product'].value_counts()\n",
    "\n",
    "# Create the bar plot\n",
    "plt.figure(figsize=(10, 8))\n",
    "product_counts.sort_values().plot(kind='barh')\n",
    "plt.title('Distribution of Products Mentioned in Tweets')\n",
    "plt.xlabel('Count')\n",
    "plt.ylabel('Product')\n",
    "\n",
    "plt.show()"
   ]
  },
  {
   "cell_type": "markdown",
   "metadata": {},
   "source": [
    "**Observation**\n",
    "- The product distribution plot shows which specific products or categories are mentioned most frequently by users.\n",
    "- Specific products (e.g., **iPhone**, **iPad**, etc.) are dominant, it indicates these are the products people are most engaged with.\n",
    "- This distribution helps in targeting the sentiment analysis; knowing which products are frequently mentioned can help in customizing marketing or support efforts. Products with fewer mentions might be areas where the company could increase visibility or engagement."
   ]
  },
  {
   "cell_type": "markdown",
   "metadata": {},
   "source": [
    "### 4.5 Text Preprocessing\n",
    "Text preprocessing is an essential step in natural language processing (NLP) that involves cleaning and transforming unstructured text data to prepare it for analysis. It includes tokenization, stemming, lemmatization, stop-word removal, and part-of-speech tagging\n",
    "\n",
    "1. Text Cleaning\n",
    " - Remove URLs, special characters, and emojis to ensure that only meaningful text remains.\n",
    "2. Tokenization and Stopword Removal\n",
    " - Tokenize the tweets into individual words.\n",
    " - Remove common stopwords to focus on significant terms.\n",
    "3. Lemmatization\n",
    " - Reduce words to their base forms to standardize the vocabulary.\n",
    "\n",
    "##### Cleaning the `tweet_text` column"
   ]
  },
  {
   "cell_type": "code",
   "execution_count": 22,
   "metadata": {},
   "outputs": [
    {
     "name": "stderr",
     "output_type": "stream",
     "text": [
      "[nltk_data] Downloading package punkt to\n",
      "[nltk_data]     C:\\Users\\user\\AppData\\Roaming\\nltk_data...\n",
      "[nltk_data]   Package punkt is already up-to-date!\n",
      "[nltk_data] Downloading package stopwords to\n",
      "[nltk_data]     C:\\Users\\user\\AppData\\Roaming\\nltk_data...\n",
      "[nltk_data]   Package stopwords is already up-to-date!\n",
      "[nltk_data] Downloading package wordnet to\n",
      "[nltk_data]     C:\\Users\\user\\AppData\\Roaming\\nltk_data...\n",
      "[nltk_data]   Package wordnet is already up-to-date!\n"
     ]
    },
    {
     "data": {
      "text/html": [
       "<div>\n",
       "<style scoped>\n",
       "    .dataframe tbody tr th:only-of-type {\n",
       "        vertical-align: middle;\n",
       "    }\n",
       "\n",
       "    .dataframe tbody tr th {\n",
       "        vertical-align: top;\n",
       "    }\n",
       "\n",
       "    .dataframe thead th {\n",
       "        text-align: right;\n",
       "    }\n",
       "</style>\n",
       "<table border=\"1\" class=\"dataframe\">\n",
       "  <thead>\n",
       "    <tr style=\"text-align: right;\">\n",
       "      <th></th>\n",
       "      <th>tweet</th>\n",
       "      <th>cleaned_tweet</th>\n",
       "    </tr>\n",
       "  </thead>\n",
       "  <tbody>\n",
       "    <tr>\n",
       "      <th>0</th>\n",
       "      <td>.@wesley83 I have a 3G iPhone. After 3 hrs twe...</td>\n",
       "      <td>g iphone hr tweeting dead need upgrade plugin ...</td>\n",
       "    </tr>\n",
       "    <tr>\n",
       "      <th>1</th>\n",
       "      <td>@jessedee Know about @fludapp ? Awesome iPad/i...</td>\n",
       "      <td>know awesome ipadiphone app youll likely appre...</td>\n",
       "    </tr>\n",
       "    <tr>\n",
       "      <th>2</th>\n",
       "      <td>@swonderlin Can not wait for #iPad 2 also. The...</td>\n",
       "      <td>wait also sale</td>\n",
       "    </tr>\n",
       "    <tr>\n",
       "      <th>3</th>\n",
       "      <td>@sxsw I hope this year's festival isn't as cra...</td>\n",
       "      <td>hope year festival isnt crashy year iphone app</td>\n",
       "    </tr>\n",
       "    <tr>\n",
       "      <th>4</th>\n",
       "      <td>@sxtxstate great stuff on Fri #SXSW: Marissa M...</td>\n",
       "      <td>great stuff fri marissa mayer google tim oreil...</td>\n",
       "    </tr>\n",
       "  </tbody>\n",
       "</table>\n",
       "</div>"
      ],
      "text/plain": [
       "                                               tweet  \\\n",
       "0  .@wesley83 I have a 3G iPhone. After 3 hrs twe...   \n",
       "1  @jessedee Know about @fludapp ? Awesome iPad/i...   \n",
       "2  @swonderlin Can not wait for #iPad 2 also. The...   \n",
       "3  @sxsw I hope this year's festival isn't as cra...   \n",
       "4  @sxtxstate great stuff on Fri #SXSW: Marissa M...   \n",
       "\n",
       "                                       cleaned_tweet  \n",
       "0  g iphone hr tweeting dead need upgrade plugin ...  \n",
       "1  know awesome ipadiphone app youll likely appre...  \n",
       "2                                     wait also sale  \n",
       "3     hope year festival isnt crashy year iphone app  \n",
       "4  great stuff fri marissa mayer google tim oreil...  "
      ]
     },
     "execution_count": 22,
     "metadata": {},
     "output_type": "execute_result"
    }
   ],
   "source": [
    "# Re-import required libraries for text preprocessing and update the function as provided\n",
    "import re\n",
    "from nltk.corpus import stopwords\n",
    "from nltk.tokenize import word_tokenize\n",
    "from nltk.stem import WordNetLemmatizer\n",
    "import nltk\n",
    "import pandas as pd\n",
    "\n",
    "# Download required NLTK data\n",
    "nltk.download('punkt')\n",
    "nltk.download('stopwords')\n",
    "nltk.download('wordnet')\n",
    "\n",
    "# Define the optimized text cleaning and preprocessing function\n",
    "def clean_tweets(tweet_series):\n",
    "    # Handle non-string entries and convert to strings\n",
    "    def convert_to_string(x):\n",
    "        if pd.isna(x):  # Handle NaN values\n",
    "            return \"\"\n",
    "        return str(x)   # Convert everything else to string\n",
    "    \n",
    "    tweets_strings = tweet_series.apply(convert_to_string)\n",
    "    \n",
    "    # Convert to lowercase and remove URLs, mentions, hashtags, punctuation, numbers, and extra whitespace\n",
    "    tweets_lower = tweets_strings.str.lower()\n",
    "    tweets_no_urls = tweets_lower.apply(lambda x: re.sub(r'http\\S+|www\\S+|https\\S+', '', x, flags=re.MULTILINE))\n",
    "    tweets_no_mentions = tweets_no_urls.apply(lambda x: re.sub(r'@\\w+', '', x))\n",
    "    tweets_no_hashtags = tweets_no_mentions.apply(lambda x: re.sub(r'#\\w+', '', x))\n",
    "    tweets_no_punct = tweets_no_hashtags.apply(lambda x: re.sub(r'[^\\w\\s]', '', x))\n",
    "    tweets_no_numbers = tweets_no_punct.apply(lambda x: re.sub(r'\\d+', '', x))\n",
    "    tweets_clean = tweets_no_numbers.apply(lambda x: ' '.join(x.split()))\n",
    "    \n",
    "    # Tokenization\n",
    "    tweets_tokenized = tweets_clean.apply(lambda x: word_tokenize(x) if x.strip() else [])\n",
    "    \n",
    "    # Stopword removal\n",
    "    stop_words = set(stopwords.words('english'))\n",
    "    tweets_no_stopwords = tweets_tokenized.apply(lambda x: [word for word in x if word not in stop_words])\n",
    "    \n",
    "    # Lemmatization\n",
    "    lemmatizer = WordNetLemmatizer()\n",
    "    tweets_lemmatized = tweets_no_stopwords.apply(lambda x: [lemmatizer.lemmatize(word) for word in x])\n",
    "    \n",
    "    # Concatenate tokens back into sentences\n",
    "    tweets_final = tweets_lemmatized.apply(lambda x: ' '.join(x))\n",
    "    \n",
    "    return tweets_final\n",
    "\n",
    "# Apply the updated function to preprocess the tweet data\n",
    "df['cleaned_tweet'] = clean_tweets(df['tweet'])\n",
    "\n",
    "# Display the first few rows to confirm the cleaning process\n",
    "df[['tweet', 'cleaned_tweet']].head()"
   ]
  },
  {
   "cell_type": "markdown",
   "metadata": {},
   "source": [
    "The tweets have been successfully cleaned and preprocessed using the optimized function. The resulting `cleaned_tweet` column now contains text that is lowercased, with URLs, mentions, hashtags, punctuation, and numbers removed. Additionally, stopwords have been removed, and words have been lemmatized."
   ]
  },
  {
   "cell_type": "markdown",
   "metadata": {},
   "source": [
    "## 5. Modeling\n",
    "\n",
    "To start the modeling phase, I'll first prepare the data for a binary classification task (positive vs. negative), as per the plan to build a simple model first. Here are the steps:\n",
    "\n",
    " - **Label Encoding:** Convert the sentiment labels to numerical values for binary classification.\n",
    " - **Vectorization:** Use TF-IDF(Term Frequency Inverse Document Frequency) to convert the text data into numerical features.\n",
    " - **Train-Test Split:** Split the data into training and testing sets.\n",
    " - **Modeling:** Train a baseline model (e.g., Logistic Regression) to classify tweets as positive or negative."
   ]
  },
  {
   "cell_type": "markdown",
   "metadata": {},
   "source": [
    "### 5.1 Encoding sentiment labels"
   ]
  },
  {
   "cell_type": "code",
   "execution_count": 23,
   "metadata": {},
   "outputs": [
    {
     "data": {
      "text/plain": [
       "{'Negative emotion': 0, 'Neutral emotion': 1, 'Positive emotion': 2}"
      ]
     },
     "execution_count": 23,
     "metadata": {},
     "output_type": "execute_result"
    }
   ],
   "source": [
    "from sklearn.model_selection import train_test_split\n",
    "from sklearn.feature_extraction.text import TfidfVectorizer\n",
    "from sklearn.preprocessing import LabelEncoder\n",
    "\n",
    "# Label Encoding: Convert sentiment labels to numerical values\n",
    "label_encoder = LabelEncoder()\n",
    "df['emotion_encoded'] = label_encoder.fit_transform(df['emotion'])\n",
    "\n",
    "# Display the mapping of labels to numbers\n",
    "label_mapping = dict(zip(label_encoder.classes_, label_encoder.transform(label_encoder.classes_)))\n",
    "label_mapping"
   ]
  },
  {
   "cell_type": "markdown",
   "metadata": {},
   "source": [
    "The sentiment labels have been encoded as follows:\n",
    "\n",
    " - **Negative emotion: 0**\n",
    " - **Neutral emotion: 1**\n",
    " - **Positive emotion: 2**"
   ]
  },
  {
   "cell_type": "markdown",
   "metadata": {},
   "source": [
    "### 5.2 Vectorization"
   ]
  },
  {
   "cell_type": "code",
   "execution_count": 24,
   "metadata": {},
   "outputs": [
    {
     "data": {
      "text/plain": [
       "(8914, 5000)"
      ]
     },
     "execution_count": 24,
     "metadata": {},
     "output_type": "execute_result"
    }
   ],
   "source": [
    "# Vectorization: Convert the text data into numerical features using TF-IDF\n",
    "tfidf_vectorizer = TfidfVectorizer(max_features=5000)  # Limiting to top 5000 features for simplicity\n",
    "X = tfidf_vectorizer.fit_transform(df['cleaned_tweet'])\n",
    "\n",
    "# Display the shape of the resulting TF-IDF matrix\n",
    "X.shape"
   ]
  },
  {
   "cell_type": "markdown",
   "metadata": {},
   "source": [
    "The TF-IDF vectorization has transformed the text data into a matrix with dimensions (8914, 5000), where **8,914** is the number of tweets and **5,000** represents the selected top features. The data is now ready for building the classification model."
   ]
  },
  {
   "cell_type": "markdown",
   "metadata": {},
   "source": [
    "### 5.3 Test-Train Split"
   ]
  },
  {
   "cell_type": "code",
   "execution_count": 25,
   "metadata": {},
   "outputs": [
    {
     "data": {
      "text/plain": [
       "((6239, 5000), (2675, 5000), (6239,), (2675,))"
      ]
     },
     "execution_count": 25,
     "metadata": {},
     "output_type": "execute_result"
    }
   ],
   "source": [
    "X = tfidf_vectorizer.fit_transform(df['cleaned_tweet'])\n",
    "y = df['emotion_encoded']\n",
    "\n",
    "# Split the data into training and testing sets (70-30 split)\n",
    "X_train, X_test, y_train, y_test = train_test_split(X, y, test_size=0.3, random_state=42)\n",
    "\n",
    "# Confirm successful split\n",
    "X_train.shape, X_test.shape, y_train.shape, y_test.shape"
   ]
  },
  {
   "cell_type": "markdown",
   "metadata": {},
   "source": [
    "### The data has been prepared for binary classification:\n",
    "\n",
    " - **Training set:** 6,239 samples.\n",
    " - **Testing set:** 2,675 samples.\n",
    " - **Features:** TF-IDF vectorized to 5,000 top words."
   ]
  },
  {
   "cell_type": "markdown",
   "metadata": {},
   "source": [
    "### Model 1: Decision Tree Model - Baseline"
   ]
  },
  {
   "cell_type": "code",
   "execution_count": 26,
   "metadata": {},
   "outputs": [
    {
     "name": "stdout",
     "output_type": "stream",
     "text": [
      "Decision Tree Classifier - Baseline Model\n",
      "========================================\n",
      "Accuracy: 0.63\n",
      "\n",
      "Classification Report:\n",
      "                  precision    recall  f1-score   support\n",
      "\n",
      "Negative emotion       0.37      0.24      0.29       190\n",
      " Neutral emotion       0.70      0.75      0.72      1596\n",
      "Positive emotion       0.53      0.50      0.52       889\n",
      "\n",
      "        accuracy                           0.63      2675\n",
      "       macro avg       0.53      0.50      0.51      2675\n",
      "    weighted avg       0.62      0.63      0.62      2675\n",
      "\n"
     ]
    }
   ],
   "source": [
    "from sklearn.tree import DecisionTreeClassifier\n",
    "from sklearn.metrics import classification_report, accuracy_score\n",
    "\n",
    "# Fit a Decision Tree model as the baseline model\n",
    "decision_tree = DecisionTreeClassifier(random_state=42)\n",
    "decision_tree.fit(X_train, y_train)\n",
    "\n",
    "# Make predictions on the test set\n",
    "y_pred = decision_tree.predict(X_test)\n",
    "\n",
    "# Evaluate the model\n",
    "accuracy = accuracy_score(y_test, y_pred)\n",
    "report = classification_report(y_test, y_pred, target_names=label_encoder.classes_)\n",
    "\n",
    "# Display the results\n",
    "print(\"Decision Tree Classifier - Baseline Model\")\n",
    "print(\"========================================\")\n",
    "print(f\"Accuracy: {accuracy:.2f}\")\n",
    "print(\"\\nClassification Report:\")\n",
    "print(report)"
   ]
  },
  {
   "cell_type": "markdown",
   "metadata": {},
   "source": [
    "#### Output Analysis\n",
    "**Accuracy: 63%**\n",
    "The model correctly classified 63% of tweets, indicating moderate performance as a baseline.\n",
    "\n",
    "**Classification Report Breakdown:**\n",
    "\n",
    "**1. Negative Emotion:**\n",
    "  - Precision (37%): Out of all tweets the model predicted as negative, only 37% were actually negative. This low precision indicates a tendency to incorrectly classify other sentiments as negative.\n",
    "  - Recall (24%): Out of all true negative tweets, only 24% were correctly identified as such. This indicates that the model missed a significant portion of actual negative tweets.\n",
    "  - F1-Score (29%): The combined score of precision and recall is low, suggesting that the model struggles to detect negative sentiments accurately.\n",
    "\n",
    "**2. Neutral Emotion:**\n",
    " - Precision (70%): The model is quite accurate in predicting neutral tweets. Out of all predicted neutral tweets, 70% were correct.\n",
    " - Recall (75%): The model successfully identified 75% of all actual neutral tweets, showing a strong ability to detect this class.\n",
    " - F1-Score (72%): This is the highest among the three sentiments, indicating the model’s stronger performance in detecting neutral emotions.\n",
    "\n",
    "**3. Positive Emotion:**\n",
    " - Precision (53%): Out of all predicted positive tweets, 53% were accurate, which is moderate but could be improved.\n",
    " - Recall (50%): The model identified half of the true positive tweets, suggesting some difficulty in detecting positive sentiment.\n",
    " - F1-Score (52%): Similar to precision and recall, the F1-score is moderate, indicating room for improvement.\n",
    "\n",
    "**Summary:**\n",
    "- The Neutral emotion category has the highest precision, recall, and F1-score, suggesting that the model is more effective at detecting neutral sentiment.\n",
    "- Negative emotions are particularly challenging for the model, with the lowest scores in precision, recall, and F1, indicating that the baseline model might benefit from further optimization, such as hyperparameter tuning or a more complex model.\n",
    "- The macro average F1-score of 51% indicates that performance across categories is relatively balanced but highlights the need for improvement, especially for negative sentiment detection."
   ]
  },
  {
   "cell_type": "markdown",
   "metadata": {},
   "source": [
    "### Model 2 - Decision Tree Model (with Hyperparameter Tuning)\n",
    "Here I want to improve the Decision Tree model's ability to generalize by tuning its hyperparameters to reduce overfitting and enhance its predictive performance.\n",
    "\n",
    "The set up of the hyperparameter tuning will be done using GridSearchCV."
   ]
  },
  {
   "cell_type": "code",
   "execution_count": 27,
   "metadata": {},
   "outputs": [
    {
     "name": "stdout",
     "output_type": "stream",
     "text": [
      "Fitting 5 folds for each of 12 candidates, totalling 60 fits\n",
      "Best Parameters: {'class_weight': 'balanced', 'criterion': 'gini', 'max_depth': None, 'min_samples_leaf': 1, 'min_samples_split': 2}\n",
      "Best Accuracy Score: 0.5823043252524007\n",
      "\n",
      "Tuned Decision Tree Classifier\n",
      "========================================\n",
      "Accuracy: 0.59\n",
      "\n",
      "Classification Report:\n",
      "                  precision    recall  f1-score   support\n",
      "\n",
      "Negative emotion       0.31      0.36      0.33       190\n",
      " Neutral emotion       0.70      0.67      0.68      1596\n",
      "Positive emotion       0.48      0.50      0.49       889\n",
      "\n",
      "        accuracy                           0.59      2675\n",
      "       macro avg       0.50      0.51      0.50      2675\n",
      "    weighted avg       0.60      0.59      0.59      2675\n",
      "\n"
     ]
    }
   ],
   "source": [
    "from sklearn.model_selection import GridSearchCV\n",
    "\n",
    "# Define parameter grid for hyperparameter tuning\n",
    "param_grid = { \n",
    "    'max_depth': [5, 10, None],  \n",
    "    'min_samples_split': [2, 10], \n",
    "    'min_samples_leaf': [1, 5], \n",
    "    'criterion': ['gini'], \n",
    "    'class_weight': ['balanced'] \n",
    "}\n",
    "\n",
    "# Initialize and run GridSearchCV\n",
    "decision_tree = DecisionTreeClassifier(random_state=42)\n",
    "grid_search = GridSearchCV(decision_tree, param_grid, cv=5, scoring='accuracy', n_jobs=-1, verbose=1)\n",
    "grid_search.fit(X_train, y_train)\n",
    "\n",
    "# Output best parameters and best accuracy score\n",
    "print(\"Best Parameters:\", grid_search.best_params_)\n",
    "print(\"Best Accuracy Score:\", grid_search.best_score_)\n",
    "\n",
    "# Fit the model with the best parameters to the training data\n",
    "best_decision_tree = grid_search.best_estimator_\n",
    "best_decision_tree.fit(X_train, y_train)\n",
    "\n",
    "# Make predictions and evaluate the model\n",
    "y_pred = best_decision_tree.predict(X_test)\n",
    "accuracy = accuracy_score(y_test, y_pred)\n",
    "print(\"\\nTuned Decision Tree Classifier\")\n",
    "print(\"========================================\")\n",
    "print(f\"Accuracy: {accuracy:.2f}\")\n",
    "print(\"\\nClassification Report:\")\n",
    "print(classification_report(y_test, y_pred, target_names=label_encoder.classes_))"
   ]
  },
  {
   "cell_type": "markdown",
   "metadata": {},
   "source": [
    "**Output Analysis**\n",
    "\n",
    "**Overall Accuracy:**\n",
    "- Baseline Accuracy: 63%\n",
    "- Tuned Model Accuracy: 59%\n",
    "The tuned model’s accuracy is slightly lower than the baseline. Despite hyperparameter adjustments, the overall accuracy dropped, indicating that the baseline model may have already captured the optimal complexity for this dataset using default settings.\n",
    "\n",
    "**Classification Report Breakdown:**\n",
    "\n",
    "**1. Negative Emotion:**\n",
    " - Baseline: Precision (30%), Recall (18%), F1-Score (23%)\n",
    " - Tuned: Precision (31%), Recall (36%), F1-Score (33%)\n",
    "\n",
    "Analysis: The tuned model shows improvement in both recall and F1-score for negative emotions, indicating better detection of negative tweets. Precision remains almost the same, suggesting that the tuned model is more capable of identifying true negatives, but still has room for reducing false positives.\n",
    "\n",
    "**2. Neutral Emotion:**\n",
    " - Baseline: Precision (71%), Recall (75%), F1-Score (73%)\n",
    " - Tuned: Precision (70%), Recall (67%), F1-Score (68%)\n",
    "\n",
    "Analysis: There is a slight decrease in performance for neutral emotions. Precision and recall both dropped slightly, which contributed to a lower F1-score. The tuning might have introduced some instability for this class, suggesting that the balanced class weights or unrestricted depth might have led to overfitting or misclassification between Neutral and other classes.\n",
    "\n",
    "**3. Positive Emotion:**\n",
    " - Baseline: Precision (50%), Recall (49%), F1-Score (49%)\n",
    " - Tuned: Precision (48%), Recall (50%), F1-Score (49%)\n",
    "\n",
    "Analysis: Performance for positive emotions remains almost unchanged. The F1-score is stable, but with a slight drop in precision, indicating similar behavior to the baseline model. This stabilization suggests that the tuning did not significantly impact the model’s ability to distinguish positive tweets.\n",
    "\n",
    "**Summary:**\n",
    "- Improvements: The primary improvement is observed in the Negative Emotion category, where both recall and F1-score increased, reflecting a better ability to capture negative sentiments.\n",
    "- Stabilization: For Positive Emotions, performance is largely unchanged, indicating that tuning did not provide significant gains or losses.\n",
    "- Drops: Performance slightly decreased for Neutral Emotions, with drops in precision, recall, and F1-score, suggesting some instability likely due to the added complexity from unrestricted depth and balanced class weights."
   ]
  },
  {
   "cell_type": "markdown",
   "metadata": {},
   "source": [
    "### Model 3: XGBoost Classifier\n",
    "The tuned Decision Tree model offered minor improvements in detecting negative emotions but does not provide overall gains in accuracy or stability across all classes. In this section, XGBoost will be explored as an alternative models to check for the ability to achieve a better balance across all sentiment categories."
   ]
  },
  {
   "cell_type": "code",
   "execution_count": 28,
   "metadata": {},
   "outputs": [
    {
     "name": "stdout",
     "output_type": "stream",
     "text": [
      "XGBoost Classifier\n",
      "========================================\n",
      "Accuracy: 0.67\n",
      "\n",
      "Classification Report:\n",
      "                  precision    recall  f1-score   support\n",
      "\n",
      "Negative emotion       0.53      0.17      0.26       190\n",
      " Neutral emotion       0.69      0.88      0.77      1596\n",
      "Positive emotion       0.64      0.41      0.50       889\n",
      "\n",
      "        accuracy                           0.67      2675\n",
      "       macro avg       0.62      0.49      0.51      2675\n",
      "    weighted avg       0.66      0.67      0.65      2675\n",
      "\n"
     ]
    }
   ],
   "source": [
    "import xgboost as xgb\n",
    "from sklearn.metrics import classification_report, accuracy_score\n",
    "\n",
    "# Initialize an XGBoost Classifier without deprecated parameters\n",
    "xgb_model = xgb.XGBClassifier(eval_metric='mlogloss', objective='multi:softmax', random_state=42)\n",
    "\n",
    "# Fit the model to the training data\n",
    "xgb_model.fit(X_train, y_train)\n",
    "\n",
    "# Make predictions on the test data\n",
    "y_pred_xgb = xgb_model.predict(X_test)\n",
    "\n",
    "# Evaluate the XGBoost model\n",
    "accuracy_xgb = accuracy_score(y_test, y_pred_xgb)\n",
    "report_xgb = classification_report(y_test, y_pred_xgb, target_names=label_encoder.classes_)\n",
    "\n",
    "# Display the results\n",
    "print(\"XGBoost Classifier\")\n",
    "print(\"========================================\")\n",
    "print(f\"Accuracy: {accuracy_xgb:.2f}\")\n",
    "print(\"\\nClassification Report:\")\n",
    "print(report_xgb)"
   ]
  },
  {
   "cell_type": "markdown",
   "metadata": {},
   "source": [
    "**Output analysis**\n",
    "\n",
    "**Accuracy: 67%** indicates that XGBoost outperforms the Decision Tree models, suggesting better generalization.\n",
    "\n",
    "**Classification Report:**\n",
    " - **Negative Emotion:** The recall for negative sentiment is still low, suggesting challenges in identifying negative tweets.\n",
    " - **Neutral Emotion:** Strong performance with 88% recall and 77% F1-score, showing the model’s ability to detect neutral tweets.\n",
    " - **Positive Emotion:** Balanced precision and recall but could benefit from further tuning.\n",
    "\n",
    "XGBoost performed better overall but may benefit from additional tuning to further improve results, especially for negative sentiment."
   ]
  },
  {
   "cell_type": "markdown",
   "metadata": {},
   "source": [
    "## 6. Evaluation\n",
    "### 6.1 Overall Comparison and Recommendation\n",
    "\n",
    "**1. Baseline Model (Decision Tree without Tuning):**\n",
    "\n",
    "Strengths:\n",
    " - Simple and interpretable, providing initial insights into tweet sentiment.\n",
    " - Performed moderately well for neutral sentiment, achieving a precision of 71% and recall of 75%.\n",
    "\n",
    "Weaknesses:\n",
    " - Struggled with identifying negative sentiment, with a recall of only 18%. This is problematic as understanding negative sentiment is critical for addressing customer concerns.\n",
    " - Showed limited ability to accurately capture positive sentiment, with an F1-score of 49%.\n",
    "\n",
    "**2. Tuned Decision Tree Model:**\n",
    "\n",
    "Strengths:\n",
    " - Improved recall for negative sentiment, increasing from 18% to 36%, which helps in better identifying tweets with potential areas of concern.\n",
    " - Balanced precision and recall for neutral and positive sentiments, suggesting slightly more consistent performance across all classes.\n",
    "\n",
    "Weaknesses:\n",
    " - Overall accuracy dropped slightly from 63% to 59%. The model also struggled to significantly improve in detecting positive sentiment, suggesting that Decision Trees may not be the best fit for this dataset.\n",
    " - Minor overfitting issues due to the unrestricted depth parameter, which likely impacted generalizability.\n",
    "\n",
    "**3. XGBoost Model:**\n",
    "\n",
    "Strengths:\n",
    " - Achieved the highest overall accuracy at 67%, indicating strong generalization and ability to distinguish between different sentiment classes.\n",
    " - Excellent recall for neutral sentiment at 88%, showing a high capacity to detect neutral tweets accurately, which can be beneficial for marketing and engagement strategies.\n",
    " - Balanced precision and recall for positive sentiment, with a notable F1-score of 50%, indicating that it captures positive feedback better than the other models.\n",
    "\n",
    "Weaknesses:\n",
    " - Although improved, recall for negative sentiment (17%) remains low, suggesting that additional tuning or further data preprocessing might be needed to boost sensitivity for negative tweets.\n",
    "\n",
    "**Best Model  for sentiment analysis:** The **XGBoost Model** is the most suitable choice for Apple and Google’s sentiment analysis objectives. Its higher accuracy and balanced performance make it better suited to provide insights into customer satisfaction, product perception, and areas needing improvement. While XGBoost still struggles with negative sentiment detection, it outperforms both Decision Tree models, particularly in terms of generalization and identifying neutral and positive sentiments."
   ]
  },
  {
   "cell_type": "markdown",
   "metadata": {},
   "source": [
    "This makes it a valuable tool for:\n",
    "\n",
    "Customer Support: Quickly identifying and categorizing customer sentiments for more targeted responses.\n",
    "Marketing Strategy: Understanding public perception to tailor marketing efforts and focus on promoting positive aspects while addressing neutral feedback.\n",
    "Product Development: Although negative sentiment recall is low, XGBoost's overall performance ensures that it can reliably highlight areas where customer experiences are positive or neutral, aiding in decision-making for product improvements."
   ]
  }
 ],
 "metadata": {
  "kernelspec": {
   "display_name": "Python (learn-env)",
   "language": "python",
   "name": "learn-env"
  },
  "language_info": {
   "codemirror_mode": {
    "name": "ipython",
    "version": 3
   },
   "file_extension": ".py",
   "mimetype": "text/x-python",
   "name": "python",
   "nbconvert_exporter": "python",
   "pygments_lexer": "ipython3",
   "version": "3.8.5"
  }
 },
 "nbformat": 4,
 "nbformat_minor": 4
}
