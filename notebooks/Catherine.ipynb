{
 "cells": [
  {
   "cell_type": "markdown",
   "metadata": {},
   "source": [
    "# Twitter Sentiment Analysis"
   ]
  },
  {
   "cell_type": "markdown",
   "metadata": {},
   "source": [
    "Introduction\n",
    "In today’s digital age, social media platforms like Twitter serve as a vital space for customers to express their opinions and sentiments regarding products and brands. As consumers increasingly turn to these platforms to voice their experiences, understanding the sentiment behind their tweets becomes crucial for businesses. This sentiment analysis project aims to analyze tweets related to Apple and Google products to gauge public perception, identify trends, and inform strategic decision-making. By employing advanced natural language processing (NLP) techniques, we can extract valuable insights from the vast volume of unstructured text data, enabling companies to enhance customer satisfaction and adapt to market demands effectively."
   ]
  },
  {
   "cell_type": "markdown",
   "metadata": {},
   "source": [
    "Objectives\n",
    "\n",
    "1. Understanding Customer Sentiment:\n",
    "\n",
    "To analyze the sentiment of tweets regarding Apple and Google products, providing a clear understanding of how consumers perceive these brands.\n",
    "\n",
    "2. Identifying Trends:\n",
    "\n",
    "To identify key trends and patterns in consumer sentiment over time, which can inform product development and marketing strategies.\n",
    "\n",
    "3. Improving Brand Strategy:\n",
    "\n",
    "To offer actionable insights that can help Apple and Google refine their customer engagement strategies, enhance product offerings, and address customer concerns effectively.\n",
    "\n",
    "4. Developing a Sentiment Classification Model:\n",
    "\n",
    "To build and validate a robust sentiment classification model that accurately categorizes tweets as positive, negative, or neutral.\n",
    "\n",
    "5. Enhancing Decision-Making:\n",
    "\n",
    "To equip stakeholders with data-driven insights that support strategic decision-making and improve overall customer satisfaction and brand loyalty."
   ]
  },
  {
   "cell_type": "markdown",
   "metadata": {},
   "source": [
    "# Data Preparation"
   ]
  },
  {
   "cell_type": "code",
   "execution_count": 13,
   "metadata": {},
   "outputs": [
    {
     "name": "stdout",
     "output_type": "stream",
     "text": [
      "../data/judge-1377884607_tweet_product_company.csv\n"
     ]
    },
    {
     "data": {
      "text/html": [
       "<div>\n",
       "<style scoped>\n",
       "    .dataframe tbody tr th:only-of-type {\n",
       "        vertical-align: middle;\n",
       "    }\n",
       "\n",
       "    .dataframe tbody tr th {\n",
       "        vertical-align: top;\n",
       "    }\n",
       "\n",
       "    .dataframe thead th {\n",
       "        text-align: right;\n",
       "    }\n",
       "</style>\n",
       "<table border=\"1\" class=\"dataframe\">\n",
       "  <thead>\n",
       "    <tr style=\"text-align: right;\">\n",
       "      <th></th>\n",
       "      <th>tweet_text</th>\n",
       "      <th>emotion_in_tweet_is_directed_at</th>\n",
       "      <th>is_there_an_emotion_directed_at_a_brand_or_product</th>\n",
       "    </tr>\n",
       "  </thead>\n",
       "  <tbody>\n",
       "    <tr>\n",
       "      <th>0</th>\n",
       "      <td>.@wesley83 I have a 3G iPhone. After 3 hrs twe...</td>\n",
       "      <td>iPhone</td>\n",
       "      <td>Negative emotion</td>\n",
       "    </tr>\n",
       "    <tr>\n",
       "      <th>1</th>\n",
       "      <td>@jessedee Know about @fludapp ? Awesome iPad/i...</td>\n",
       "      <td>iPad or iPhone App</td>\n",
       "      <td>Positive emotion</td>\n",
       "    </tr>\n",
       "    <tr>\n",
       "      <th>2</th>\n",
       "      <td>@swonderlin Can not wait for #iPad 2 also. The...</td>\n",
       "      <td>iPad</td>\n",
       "      <td>Positive emotion</td>\n",
       "    </tr>\n",
       "    <tr>\n",
       "      <th>3</th>\n",
       "      <td>@sxsw I hope this year's festival isn't as cra...</td>\n",
       "      <td>iPad or iPhone App</td>\n",
       "      <td>Negative emotion</td>\n",
       "    </tr>\n",
       "    <tr>\n",
       "      <th>4</th>\n",
       "      <td>@sxtxstate great stuff on Fri #SXSW: Marissa M...</td>\n",
       "      <td>Google</td>\n",
       "      <td>Positive emotion</td>\n",
       "    </tr>\n",
       "  </tbody>\n",
       "</table>\n",
       "</div>"
      ],
      "text/plain": [
       "                                          tweet_text  \\\n",
       "0  .@wesley83 I have a 3G iPhone. After 3 hrs twe...   \n",
       "1  @jessedee Know about @fludapp ? Awesome iPad/i...   \n",
       "2  @swonderlin Can not wait for #iPad 2 also. The...   \n",
       "3  @sxsw I hope this year's festival isn't as cra...   \n",
       "4  @sxtxstate great stuff on Fri #SXSW: Marissa M...   \n",
       "\n",
       "  emotion_in_tweet_is_directed_at  \\\n",
       "0                          iPhone   \n",
       "1              iPad or iPhone App   \n",
       "2                            iPad   \n",
       "3              iPad or iPhone App   \n",
       "4                          Google   \n",
       "\n",
       "  is_there_an_emotion_directed_at_a_brand_or_product  \n",
       "0                                   Negative emotion  \n",
       "1                                   Positive emotion  \n",
       "2                                   Positive emotion  \n",
       "3                                   Negative emotion  \n",
       "4                                   Positive emotion  "
      ]
     },
     "execution_count": 13,
     "metadata": {},
     "output_type": "execute_result"
    }
   ],
   "source": [
    "import pandas as pd\n",
    "\n",
    "# Load the dataset\n",
    "file_path = '../data/judge-1377884607_tweet_product_company.csv'\n",
    "print(file_path)\n",
    "df = pd.read_csv(file_path, encoding='ISO-8859-1')\n",
    "df.head()"
   ]
  },
  {
   "cell_type": "code",
   "execution_count": 14,
   "metadata": {},
   "outputs": [
    {
     "name": "stdout",
     "output_type": "stream",
     "text": [
      "<class 'pandas.core.frame.DataFrame'>\n",
      "RangeIndex: 9093 entries, 0 to 9092\n",
      "Data columns (total 3 columns):\n",
      " #   Column                                              Non-Null Count  Dtype \n",
      "---  ------                                              --------------  ----- \n",
      " 0   tweet_text                                          9092 non-null   object\n",
      " 1   emotion_in_tweet_is_directed_at                     3291 non-null   object\n",
      " 2   is_there_an_emotion_directed_at_a_brand_or_product  9093 non-null   object\n",
      "dtypes: object(3)\n",
      "memory usage: 213.2+ KB\n"
     ]
    }
   ],
   "source": [
    "df.info()"
   ]
  },
  {
   "cell_type": "code",
   "execution_count": 16,
   "metadata": {},
   "outputs": [],
   "source": [
    "# Drop rows with NaN in 'tweet_text' column\n",
    "df = df.dropna(subset=['tweet_text'])\n"
   ]
  },
  {
   "cell_type": "code",
   "execution_count": 17,
   "metadata": {},
   "outputs": [
    {
     "name": "stdout",
     "output_type": "stream",
     "text": [
      "                                             tweet_text  \\\n",
      "0     .@wesley83 I have a 3G iPhone. After 3 hrs twe...   \n",
      "1     @jessedee Know about @fludapp ? Awesome iPad/i...   \n",
      "2     @swonderlin Can not wait for #iPad 2 also. The...   \n",
      "3     @sxsw I hope this year's festival isn't as cra...   \n",
      "4     @sxtxstate great stuff on Fri #SXSW: Marissa M...   \n",
      "...                                                 ...   \n",
      "9088                      Ipad everywhere. #SXSW {link}   \n",
      "9089  Wave, buzz... RT @mention We interrupt your re...   \n",
      "9090  Google's Zeiger, a physician never reported po...   \n",
      "9091  Some Verizon iPhone customers complained their...   \n",
      "9092  Ï¡Ïàü_ÊÎÒ£Áââ_£â_ÛâRT @...   \n",
      "\n",
      "     emotion_in_tweet_is_directed_at  \\\n",
      "0                             iPhone   \n",
      "1                 iPad or iPhone App   \n",
      "2                               iPad   \n",
      "3                 iPad or iPhone App   \n",
      "4                             Google   \n",
      "...                              ...   \n",
      "9088                            iPad   \n",
      "9089                             NaN   \n",
      "9090                             NaN   \n",
      "9091                             NaN   \n",
      "9092                             NaN   \n",
      "\n",
      "     is_there_an_emotion_directed_at_a_brand_or_product classification  \n",
      "0                                      Negative emotion        Product  \n",
      "1                                      Positive emotion        Product  \n",
      "2                                      Positive emotion           None  \n",
      "3                                      Negative emotion        Product  \n",
      "4                                      Positive emotion          Brand  \n",
      "...                                                 ...            ...  \n",
      "9088                                   Positive emotion           None  \n",
      "9089                 No emotion toward brand or product           None  \n",
      "9090                 No emotion toward brand or product          Brand  \n",
      "9091                 No emotion toward brand or product        Product  \n",
      "9092                 No emotion toward brand or product          Brand  \n",
      "\n",
      "[9092 rows x 4 columns]\n"
     ]
    }
   ],
   "source": [
    "\n",
    "# Define Keywords\n",
    "brands = ['Apple', 'Google']\n",
    "products = ['iPhone', 'Pixel', 'MacBook', 'Google Home']\n",
    "\n",
    "# Function to classify tweets\n",
    "def classify_tweet(tweet):\n",
    "    brand_related = any(brand in tweet for brand in brands)\n",
    "    product_related = any(product in tweet for product in products)\n",
    "    \n",
    "    if brand_related and product_related:\n",
    "        return 'Both'\n",
    "    elif brand_related:\n",
    "        return 'Brand'\n",
    "    elif product_related:\n",
    "        return 'Product'\n",
    "    else:\n",
    "        return 'None'\n",
    "\n",
    "# Apply classification\n",
    "df['classification'] = df['tweet_text'].apply(classify_tweet)\n",
    "\n",
    "print(df)"
   ]
  },
  {
   "cell_type": "markdown",
   "metadata": {},
   "source": [
    "# Data preprocessing"
   ]
  },
  {
   "cell_type": "code",
   "execution_count": 18,
   "metadata": {},
   "outputs": [],
   "source": [
    "# drop rows with missing sentiment or text data\n",
    "df_cleaned= df.dropna(subset=['tweet_text', 'is_there_an_emotion_directed_at_a_brand_or_product'])\n"
   ]
  },
  {
   "cell_type": "code",
   "execution_count": 19,
   "metadata": {},
   "outputs": [
    {
     "name": "stderr",
     "output_type": "stream",
     "text": [
      "[nltk_data] Downloading package stopwords to\n",
      "[nltk_data]     C:\\Users\\Catherine\\AppData\\Roaming\\nltk_data...\n",
      "[nltk_data]   Package stopwords is already up-to-date!\n"
     ]
    },
    {
     "name": "stdout",
     "output_type": "stream",
     "text": [
      "                                          tweet_text  \\\n",
      "0  .@wesley83 I have a 3G iPhone. After 3 hrs twe...   \n",
      "1  @jessedee Know about @fludapp ? Awesome iPad/i...   \n",
      "2  @swonderlin Can not wait for #iPad 2 also. The...   \n",
      "3  @sxsw I hope this year's festival isn't as cra...   \n",
      "4  @sxtxstate great stuff on Fri #SXSW: Marissa M...   \n",
      "\n",
      "                                         clean_tweet  \n",
      "0  g iphone hrs tweeting riseaustin dead need upg...  \n",
      "1  know awesome ipadiphone app youll likely appre...  \n",
      "2                           wait ipad also sale sxsw  \n",
      "3  hope years festival isnt crashy years iphone a...  \n",
      "4  great stuff fri sxsw marissa mayer google tim ...  \n"
     ]
    }
   ],
   "source": [
    "# Text cleaning: Remove\n",
    "import re\n",
    "import string\n",
    "import nltk\n",
    "from nltk.corpus import stopwords\n",
    "\n",
    "# Download the stopwords from NLTK\n",
    "nltk.download('stopwords')\n",
    "stop_words = set(stopwords.words('english'))\n",
    "\n",
    "def clean_tweet(tweet):\n",
    "   tweet = tweet.lower() # convert to lowercase \n",
    "   tweet = re.sub(r'http\\S+|www\\S+|https\\S+', '', tweet, flags=re.MULTILINE) # Remove urls\n",
    "   tweet = re.sub(r'@\\w+', '', tweet) # remove mentions\n",
    "   tweet = re.sub(r'#', '', tweet) # remove haashtags\n",
    "   tweet = re.sub(r'[^a-zA-Z\\s]', '', tweet) # remove special characters\n",
    "   tweet = ' '.join([word for word in tweet.split() if word not in stop_words]) # remove stopwords\n",
    "   tweet = tweet.strip() # strip leading/training whitespace\n",
    "\n",
    "   return tweet\n",
    "    \n",
    "# Apply the cleaning function to the 'tweet_text' column\n",
    "df_cleaned['clean_tweet'] = df['tweet_text'].apply(clean_tweet)\n",
    "\n",
    "# Preview cleaned tweets\n",
    "print(df_cleaned[['tweet_text', 'clean_tweet']].head())"
   ]
  },
  {
   "cell_type": "code",
   "execution_count": 20,
   "metadata": {},
   "outputs": [],
   "source": [
    "# simplify sentiment labels to positive and negative\n",
    "df_cleaned = df_cleaned.copy()\n",
    "df_cleaned['sentiment'] = df_cleaned['is_there_an_emotion_directed_at_a_brand_or_product'].apply(\n",
    "    lambda x: 'Positive' if 'Positive' in x else 'Negative'\n",
    ")"
   ]
  },
  {
   "cell_type": "code",
   "execution_count": 21,
   "metadata": {},
   "outputs": [],
   "source": [
    "# Keep the necessary columns only\n",
    "df_cleaned = df_cleaned[['tweet_text', 'sentiment']]"
   ]
  },
  {
   "cell_type": "code",
   "execution_count": 22,
   "metadata": {},
   "outputs": [
    {
     "data": {
      "image/png": "[encoded data removed]",
      "text/plain": [
       "<Figure size 576x432 with 1 Axes>"
      ]
     },
     "metadata": {
      "needs_background": "light"
     },
     "output_type": "display_data"
    }
   ],
   "source": [
    "import matplotlib.pyplot as plt\n",
    "\n",
    "sentiment_counts = df_cleaned['sentiment'].value_counts()\n",
    "\n",
    "# Plotting the bar graph\n",
    "plt.figure(figsize=(8,6))\n",
    "plt.bar(sentiment_counts.index, sentiment_counts.values, color=['green', 'blue'])\n",
    "plt.title('Sentiment Distribution')\n",
    "plt.xlabel('Sentiment')\n",
    "plt.ylabel('Count')\n",
    "plt.show()"
   ]
  },
  {
   "cell_type": "code",
   "execution_count": 23,
   "metadata": {},
   "outputs": [],
   "source": [
    "# Splitting data for training and testing\n",
    "\n",
    "from sklearn.model_selection import train_test_split\n",
    "\n",
    "# Split the data (80% train, 20% test)\n",
    "X_train, X_test, y_train, y_test = train_test_split(\n",
    "    df_cleaned['tweet_text'], df_cleaned['sentiment'], test_size=0.2, random_state=42, stratify=df_cleaned['sentiment'])"
   ]
  },
  {
   "cell_type": "code",
   "execution_count": 24,
   "metadata": {},
   "outputs": [],
   "source": [
    "# Vectorize Text data using TF-IDF\n",
    "\n",
    "from sklearn.feature_extraction.text import TfidfVectorizer\n",
    "\n",
    "# Convert the tweet text to numerical features using TF-IDF\n",
    "tfidf = TfidfVectorizer(max_features=5000, ngram_range=(1, 2), stop_words='english')\n",
    "X_train_tfidf = tfidf.fit_transform(X_train)\n",
    "X_test_tfidf = tfidf.transform(X_test)"
   ]
  },
  {
   "cell_type": "code",
   "execution_count": 25,
   "metadata": {},
   "outputs": [
    {
     "name": "stdout",
     "output_type": "stream",
     "text": [
      "Original training data distribution: Counter({'Negative': 4891, 'Positive': 2382})\n",
      "Resampled training data distribution: Counter({'Negative': 4891, 'Positive': 4891})\n"
     ]
    }
   ],
   "source": [
    "# handling class imbalance\n",
    "from imblearn.over_sampling import SMOTE\n",
    "from collections import Counter\n",
    "\n",
    "# Initialize SMOTE\n",
    "smote = SMOTE(random_state=42)\n",
    "\n",
    "# Apply SMOTE to the training data\n",
    "X_train_res, y_train_res = smote.fit_resample(X_train_tfidf, y_train)\n",
    "\n",
    "# Check the class distribution after oversampling\n",
    "print(f\"Original training data distribution: {Counter(y_train)}\")\n",
    "print(f\"Resampled training data distribution: {Counter(y_train_res)}\")"
   ]
  },
  {
   "cell_type": "markdown",
   "metadata": {},
   "source": [
    "# Model Selection and Evaluation\n"
   ]
  },
  {
   "cell_type": "code",
   "execution_count": 26,
   "metadata": {},
   "outputs": [
    {
     "name": "stdout",
     "output_type": "stream",
     "text": [
      "              precision    recall  f1-score   support\n",
      "\n",
      "    Negative       0.74      0.93      0.82      1223\n",
      "    Positive       0.69      0.33      0.45       596\n",
      "\n",
      "    accuracy                           0.73      1819\n",
      "   macro avg       0.72      0.63      0.64      1819\n",
      "weighted avg       0.72      0.73      0.70      1819\n",
      "\n"
     ]
    }
   ],
   "source": [
    "# Baseline Model\n",
    "\n",
    "from sklearn.linear_model import LogisticRegression\n",
    "from sklearn.metrics import classification_report\n",
    "from sklearn.metrics import accuracy_score, precision_score, recall_score, f1_score, classification_report\n",
    "\n",
    "# Initialize and train Logistic Regression\n",
    "lr_model = LogisticRegression(max_iter=1000, random_state=42)\n",
    "lr_model.fit(X_train_tfidf, y_train)\n",
    "\n",
    "# Make predictions\n",
    "y_pred_lr = lr_model.predict(X_test_tfidf)\n",
    "\n",
    "# Evaluate the model\n",
    "accuracy_lr = accuracy_score(y_test, y_pred_lr)\n",
    "precision_lr = precision_score(y_test, y_pred_lr, pos_label='Positive')\n",
    "recall_lr = recall_score(y_test, y_pred_lr, pos_label='Positive')\n",
    "f1_lr = f1_score(y_test, y_pred_lr, pos_label='Positive')\n",
    "\n",
    "# Print classification report for detailed evaluation\n",
    "report_lr = classification_report(y_test, y_pred_lr, target_names=['Negative', 'Positive'])\n",
    "\n",
    "print(report_lr)"
   ]
  },
  {
   "cell_type": "code",
   "execution_count": 27,
   "metadata": {},
   "outputs": [
    {
     "data": {
      "image/png": "[encoded data removed]",
      "text/plain": [
       "<Figure size 432x288 with 1 Axes>"
      ]
     },
     "metadata": {
      "needs_background": "light"
     },
     "output_type": "display_data"
    }
   ],
   "source": [
    "import numpy as np\n",
    "import matplotlib.pyplot as plt\n",
    "from sklearn.model_selection import learning_curve\n",
    "\n",
    "# Generate learning curve\n",
    "train_sizes, train_scores, test_scores = learning_curve(\n",
    "    lr_model, X_train_tfidf, y_train, cv=5, scoring='accuracy', n_jobs=-1,\n",
    "    train_sizes=np.linspace(0.1, 1.0, 10), random_state=42)\n",
    "\n",
    "# Calculate mean and standard deviation for training and test scores\n",
    "train_scores_mean = np.mean(train_scores, axis=1)\n",
    "train_scores_std = np.std(train_scores, axis=1)\n",
    "test_scores_mean = np.mean(test_scores, axis=1)\n",
    "test_scores_std = np.std(test_scores, axis=1)\n",
    "\n",
    "# Plot learning curve\n",
    "plt.figure()\n",
    "plt.title(\"Learning Curve (Logistic Regression)\")\n",
    "plt.xlabel(\"Training examples\")\n",
    "plt.ylabel(\"Accuracy\")\n",
    "plt.grid()\n",
    "\n",
    "# Plot the training and testing score curves with bands for standard deviation\n",
    "plt.fill_between(train_sizes, train_scores_mean - train_scores_std,\n",
    "                 train_scores_mean + train_scores_std, alpha=0.1, color=\"r\")\n",
    "plt.fill_between(train_sizes, test_scores_mean - test_scores_std,\n",
    "                 test_scores_mean + test_scores_std, alpha=0.1, color=\"g\")\n",
    "plt.plot(train_sizes, train_scores_mean, 'o-', color=\"r\", label=\"Training score\")\n",
    "plt.plot(train_sizes, test_scores_mean, 'o-', color=\"g\", label=\"Cross-validation score\")\n",
    "\n",
    "plt.legend(loc=\"best\")\n",
    "plt.show()\n"
   ]
  },
  {
   "cell_type": "code",
   "execution_count": 28,
   "metadata": {},
   "outputs": [
    {
     "name": "stdout",
     "output_type": "stream",
     "text": [
      "              precision    recall  f1-score   support\n",
      "\n",
      "    Negative       0.75      0.90      0.82      1223\n",
      "    Positive       0.66      0.39      0.49       596\n",
      "\n",
      "    accuracy                           0.73      1819\n",
      "   macro avg       0.70      0.65      0.66      1819\n",
      "weighted avg       0.72      0.73      0.71      1819\n",
      "\n"
     ]
    }
   ],
   "source": [
    "# Random Forest\n",
    "from sklearn.ensemble import RandomForestClassifier\n",
    "\n",
    "# Initialize and train Random Forest\n",
    "rf_model = RandomForestClassifier(random_state=42, n_estimators=100)\n",
    "rf_model.fit(X_train_tfidf, y_train)\n",
    "\n",
    "# Make predictions\n",
    "y_pred_rf = rf_model.predict(X_test_tfidf)\n",
    "\n",
    "# Evaluate the model\n",
    "accuracy_rf = accuracy_score(y_test, y_pred_rf)\n",
    "precision_rf = precision_score(y_test, y_pred_rf, pos_label='Positive')\n",
    "recall_rf = recall_score(y_test, y_pred_rf, pos_label='Positive')\n",
    "f1_rf = f1_score(y_test, y_pred_rf, pos_label='Positive')\n",
    "\n",
    "# Print classification report for detailed evaluation\n",
    "report_rf = classification_report(y_test, y_pred_rf, target_names=['Negative', 'Positive'])\n",
    "\n",
    "\n",
    "print(report_rf)"
   ]
  },
  {
   "cell_type": "code",
   "execution_count": 29,
   "metadata": {},
   "outputs": [
    {
     "data": {
      "image/png": "[encoded data removed]",
      "text/plain": [
       "<Figure size 432x288 with 1 Axes>"
      ]
     },
     "metadata": {
      "needs_background": "light"
     },
     "output_type": "display_data"
    }
   ],
   "source": [
    "# Generate learning curve\n",
    "train_sizes, train_scores, test_scores = learning_curve(\n",
    "    rf_model, X_train_tfidf, y_train, cv=5, scoring='accuracy', n_jobs=-1,\n",
    "    train_sizes=np.linspace(0.1, 1.0, 10), random_state=42)\n",
    "\n",
    "# Calculate mean and standard deviation for training and test scores\n",
    "train_scores_mean = np.mean(train_scores, axis=1)\n",
    "train_scores_std = np.std(train_scores, axis=1)\n",
    "test_scores_mean = np.mean(test_scores, axis=1)\n",
    "test_scores_std = np.std(test_scores, axis=1)\n",
    "\n",
    "# Plot learning curve\n",
    "plt.figure()\n",
    "plt.title(\"Learning Curve (Random Forest)\")\n",
    "plt.xlabel(\"Training examples\")\n",
    "plt.ylabel(\"Accuracy\")\n",
    "plt.grid()\n",
    "\n",
    "# Plot the training and testing score curves with bands for standard deviation\n",
    "plt.fill_between(train_sizes, train_scores_mean - train_scores_std,\n",
    "                 train_scores_mean + train_scores_std, alpha=0.1, color=\"r\")\n",
    "plt.fill_between(train_sizes, test_scores_mean - test_scores_std,\n",
    "                 test_scores_mean + test_scores_std, alpha=0.1, color=\"g\")\n",
    "plt.plot(train_sizes, train_scores_mean, 'o-', color=\"r\", label=\"Training score\")\n",
    "plt.plot(train_sizes, test_scores_mean, 'o-', color=\"g\", label=\"Cross-validation score\")\n",
    "\n",
    "plt.legend(loc=\"best\")\n",
    "plt.show()"
   ]
  },
  {
   "cell_type": "code",
   "execution_count": 30,
   "metadata": {},
   "outputs": [
    {
     "name": "stdout",
     "output_type": "stream",
     "text": [
      "              precision    recall  f1-score   support\n",
      "\n",
      "    Negative       0.76      0.88      0.82      1223\n",
      "    Positive       0.65      0.44      0.52       596\n",
      "\n",
      "    accuracy                           0.74      1819\n",
      "   macro avg       0.71      0.66      0.67      1819\n",
      "weighted avg       0.73      0.74      0.72      1819\n",
      "\n"
     ]
    }
   ],
   "source": [
    "# Support Vector Machine (SVM)\n",
    "\n",
    "from sklearn.svm import SVC\n",
    "\n",
    "# Initialize and train SVM\n",
    "svm_model = SVC(kernel='linear', random_state=42)\n",
    "svm_model.fit(X_train_tfidf, y_train)\n",
    "\n",
    "# Make predictions\n",
    "y_pred_svm = svm_model.predict(X_test_tfidf)\n",
    "\n",
    "# Evaluate the model\n",
    "accuracy_svm = accuracy_score(y_test, y_pred_svm)\n",
    "precision_svm = precision_score(y_test, y_pred_svm, pos_label='Positive')\n",
    "recall_svm = recall_score(y_test, y_pred_svm, pos_label='Positive')\n",
    "f1_svm = f1_score(y_test, y_pred_svm, pos_label='Positive')\n",
    "\n",
    "# Print classification report for detailed evaluation\n",
    "report_svm = classification_report(y_test, y_pred_svm, target_names=['Negative', 'Positive'])\n",
    "\n",
    "print(report_svm)"
   ]
  },
  {
   "cell_type": "code",
   "execution_count": 31,
   "metadata": {},
   "outputs": [
    {
     "data": {
      "image/png": "[encoded data removed]",
      "text/plain": [
       "<Figure size 432x288 with 1 Axes>"
      ]
     },
     "metadata": {
      "needs_background": "light"
     },
     "output_type": "display_data"
    }
   ],
   "source": [
    "# Generate learning curve\n",
    "train_sizes, train_scores, test_scores = learning_curve(\n",
    "    svm_model, X_train_tfidf, y_train, cv=5, scoring='accuracy', n_jobs=-1,\n",
    "    train_sizes=np.linspace(0.1, 1.0, 10), random_state=42)\n",
    "\n",
    "# Calculate mean and standard deviation for training and test scores\n",
    "train_scores_mean = np.mean(train_scores, axis=1)\n",
    "train_scores_std = np.std(train_scores, axis=1)\n",
    "test_scores_mean = np.mean(test_scores, axis=1)\n",
    "test_scores_std = np.std(test_scores, axis=1)\n",
    "\n",
    "# Plot learning curve\n",
    "plt.figure()\n",
    "plt.title(\"Learning Curve (Support Vector Machine)\")\n",
    "plt.xlabel(\"Training examples\")\n",
    "plt.ylabel(\"Accuracy\")\n",
    "plt.grid()\n",
    "\n",
    "# Plot the training and testing score curves with bands for standard deviation\n",
    "plt.fill_between(train_sizes, train_scores_mean - train_scores_std,\n",
    "                 train_scores_mean + train_scores_std, alpha=0.1, color=\"r\")\n",
    "plt.fill_between(train_sizes, test_scores_mean - test_scores_std,\n",
    "                 test_scores_mean + test_scores_std, alpha=0.1, color=\"g\")\n",
    "plt.plot(train_sizes, train_scores_mean, 'o-', color=\"r\", label=\"Training score\")\n",
    "plt.plot(train_sizes, test_scores_mean, 'o-', color=\"g\", label=\"Cross-validation score\")\n",
    "\n",
    "plt.legend(loc=\"best\")\n",
    "plt.show()"
   ]
  },
  {
   "cell_type": "markdown",
   "metadata": {},
   "source": [
    "# Recommendation and Conclusion"
   ]
  },
  {
   "cell_type": "markdown",
   "metadata": {},
   "source": [
    "Overview\n",
    "The analysis of sentiment from tweets related to Apple and Google products was conducted using three machine learning models: Logistic Regression, Random Forest, and Support Vector Machine (SVM). The evaluation of these models focused on their ability to classify sentiments as negative or positive, which is crucial for understanding customer perceptions and guiding strategic decisions.\n",
    "\n",
    "Key Findings\n",
    "Negative Sentiment Detection:\n",
    "\n",
    "All models demonstrated strong performance in identifying negative sentiments, particularly with high recall rates. This indicates that negative feedback from users is effectively captured, which is essential for addressing customer concerns.\n",
    "Positive Sentiment Challenges:\n",
    "\n",
    "The models showed lower performance in recognizing positive sentiments, with recall rates indicating a potential gap in identifying positive customer experiences. This may result in missed opportunities to leverage favorable feedback.\n",
    "Model Performance:\n",
    "\n",
    "The Support Vector Machine (SVM) model outperformed the other models in both accuracy (0.74) and positive sentiment detection, making it the most reliable choice for our analysis.\n",
    "Logistic Regression showed strong recall for negative sentiments, while Random Forest offered a balanced approach but did not significantly exceed the performance of the other models."
   ]
  },
  {
   "cell_type": "markdown",
   "metadata": {},
   "source": [
    "Recommendations\n",
    "\n",
    "Adopt the SVM Model: Based on the findings, we recommend implementing the SVM model for sentiment analysis. Its superior performance in detecting both negative and positive sentiments makes it a valuable tool for understanding customer opinions.\n",
    "\n",
    "Address Positive Sentiment Recognition: It is crucial to improve the model’s ability to identify positive sentiments. Consider strategies such as:\n",
    "\n",
    "Data Augmentation: Increase the volume of positive sentiment examples in the training dataset.\n",
    "\n",
    "Feature Engineering: Explore additional features or NLP techniques to better capture nuances in positive sentiments.\n",
    "\n",
    "Monitor and Iterate: Regularly evaluate the model’s performance and adjust as necessary. This could involve retraining with new data or employing techniques to mitigate any identified biases.\n",
    "\n",
    "Leverage Insights: Use the insights gained from sentiment analysis to inform marketing strategies, customer service enhancements, and product development. Addressing negative feedback promptly and promoting positive experiences can enhance brand reputation."
   ]
  },
  {
   "cell_type": "markdown",
   "metadata": {},
   "source": [
    "Conclusion\n",
    "\n",
    "The sentiment analysis of tweets related to Apple and Google products provides valuable insights into customer perceptions. By implementing the SVM model and focusing on enhancing the detection of positive sentiments, we can better understand and respond to customer feedback. This proactive approach will empower us to improve customer satisfaction and loyalty, ultimately benefiting our brand in a competitive market."
   ]
  },
  {
   "cell_type": "markdown",
   "metadata": {},
   "source": []
  }
 ],
 "metadata": {
  "kernelspec": {
   "display_name": "learn-env",
   "language": "python",
   "name": "python3"
  },
  "language_info": {
   "codemirror_mode": {
    "name": "ipython",
    "version": 3
   },
   "file_extension": ".py",
   "mimetype": "text/x-python",
   "name": "python",
   "nbconvert_exporter": "python",
   "pygments_lexer": "ipython3",
   "version": "3.8.5"
  }
 },
 "nbformat": 4,
 "nbformat_minor": 2
}
