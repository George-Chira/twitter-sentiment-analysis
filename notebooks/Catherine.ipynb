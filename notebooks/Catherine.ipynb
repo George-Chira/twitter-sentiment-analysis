{
 "cells": [
  {
   "cell_type": "markdown",
   "metadata": {},
   "source": [
    "# Twitter Sentiment Analysis"
   ]
  },
  {
   "cell_type": "markdown",
   "metadata": {},
   "source": [
    "Introduction\n",
    "In today’s digital age, social media platforms like Twitter serve as a vital space for customers to express their opinions and sentiments regarding products and brands. As consumers increasingly turn to these platforms to voice their experiences, understanding the sentiment behind their tweets becomes crucial for businesses. This sentiment analysis project aims to analyze tweets related to Apple and Google products to gauge public perception, identify trends, and inform strategic decision-making. By employing advanced natural language processing (NLP) techniques, we can extract valuable insights from the vast volume of unstructured text data, enabling companies to enhance customer satisfaction and adapt to market demands effectively."
   ]
  },
  {
   "cell_type": "markdown",
   "metadata": {},
   "source": [
    "Objectives\n",
    "\n",
    "1. Understanding Customer Sentiment:\n",
    "\n",
    "To analyze the sentiment of tweets regarding Apple and Google products, providing a clear understanding of how consumers perceive these brands.\n",
    "\n",
    "2. Identifying Trends:\n",
    "\n",
    "To identify key trends and patterns in consumer sentiment over time, which can inform product development and marketing strategies.\n",
    "\n",
    "3. Improving Brand Strategy:\n",
    "\n",
    "To offer actionable insights that can help Apple and Google refine their customer engagement strategies, enhance product offerings, and address customer concerns effectively.\n",
    "\n",
    "4. Developing a Sentiment Classification Model:\n",
    "\n",
    "To build and validate a robust sentiment classification model that accurately categorizes tweets as positive, negative, or neutral.\n",
    "\n",
    "5. Enhancing Decision-Making:\n",
    "\n",
    "To equip stakeholders with data-driven insights that support strategic decision-making and improve overall customer satisfaction and brand loyalty."
   ]
  },
  {
   "cell_type": "markdown",
   "metadata": {},
   "source": [
    "# Data Preparation and cleaning\n"
   ]
  },
  {
   "cell_type": "code",
   "execution_count": 2,
   "metadata": {},
   "outputs": [
    {
     "name": "stdout",
     "output_type": "stream",
     "text": [
      "../data/judge-1377884607_tweet_product_company.csv\n"
     ]
    },
    {
     "data": {
      "text/html": [
       "<div>\n",
       "<style scoped>\n",
       "    .dataframe tbody tr th:only-of-type {\n",
       "        vertical-align: middle;\n",
       "    }\n",
       "\n",
       "    .dataframe tbody tr th {\n",
       "        vertical-align: top;\n",
       "    }\n",
       "\n",
       "    .dataframe thead th {\n",
       "        text-align: right;\n",
       "    }\n",
       "</style>\n",
       "<table border=\"1\" class=\"dataframe\">\n",
       "  <thead>\n",
       "    <tr style=\"text-align: right;\">\n",
       "      <th></th>\n",
       "      <th>tweet_text</th>\n",
       "      <th>emotion_in_tweet_is_directed_at</th>\n",
       "      <th>is_there_an_emotion_directed_at_a_brand_or_product</th>\n",
       "    </tr>\n",
       "  </thead>\n",
       "  <tbody>\n",
       "    <tr>\n",
       "      <th>0</th>\n",
       "      <td>.@wesley83 I have a 3G iPhone. After 3 hrs twe...</td>\n",
       "      <td>iPhone</td>\n",
       "      <td>Negative emotion</td>\n",
       "    </tr>\n",
       "    <tr>\n",
       "      <th>1</th>\n",
       "      <td>@jessedee Know about @fludapp ? Awesome iPad/i...</td>\n",
       "      <td>iPad or iPhone App</td>\n",
       "      <td>Positive emotion</td>\n",
       "    </tr>\n",
       "    <tr>\n",
       "      <th>2</th>\n",
       "      <td>@swonderlin Can not wait for #iPad 2 also. The...</td>\n",
       "      <td>iPad</td>\n",
       "      <td>Positive emotion</td>\n",
       "    </tr>\n",
       "    <tr>\n",
       "      <th>3</th>\n",
       "      <td>@sxsw I hope this year's festival isn't as cra...</td>\n",
       "      <td>iPad or iPhone App</td>\n",
       "      <td>Negative emotion</td>\n",
       "    </tr>\n",
       "    <tr>\n",
       "      <th>4</th>\n",
       "      <td>@sxtxstate great stuff on Fri #SXSW: Marissa M...</td>\n",
       "      <td>Google</td>\n",
       "      <td>Positive emotion</td>\n",
       "    </tr>\n",
       "  </tbody>\n",
       "</table>\n",
       "</div>"
      ],
      "text/plain": [
       "                                          tweet_text  \\\n",
       "0  .@wesley83 I have a 3G iPhone. After 3 hrs twe...   \n",
       "1  @jessedee Know about @fludapp ? Awesome iPad/i...   \n",
       "2  @swonderlin Can not wait for #iPad 2 also. The...   \n",
       "3  @sxsw I hope this year's festival isn't as cra...   \n",
       "4  @sxtxstate great stuff on Fri #SXSW: Marissa M...   \n",
       "\n",
       "  emotion_in_tweet_is_directed_at  \\\n",
       "0                          iPhone   \n",
       "1              iPad or iPhone App   \n",
       "2                            iPad   \n",
       "3              iPad or iPhone App   \n",
       "4                          Google   \n",
       "\n",
       "  is_there_an_emotion_directed_at_a_brand_or_product  \n",
       "0                                   Negative emotion  \n",
       "1                                   Positive emotion  \n",
       "2                                   Positive emotion  \n",
       "3                                   Negative emotion  \n",
       "4                                   Positive emotion  "
      ]
     },
     "execution_count": 2,
     "metadata": {},
     "output_type": "execute_result"
    }
   ],
   "source": [
    "import pandas as pd\n",
    "\n",
    "# Load the dataset\n",
    "file_path = '../data/judge-1377884607_tweet_product_company.csv'\n",
    "print(file_path)\n",
    "df = pd.read_csv(file_path, encoding='ISO-8859-1')\n",
    "df.head()"
   ]
  },
  {
   "cell_type": "markdown",
   "metadata": {},
   "source": [
    "The dataset contains the following columns:\n",
    "\n",
    "tweet_text: The actual tweet content.\n",
    "\n",
    "emotion_in_tweet_is_directed_at: The product or brand the tweet refers to (e.g., iPhone, iPad, Google).\n",
    "\n",
    "is_there_an_emotion_directed_at_a_brand_or_product: The sentiment associated with the tweet, either \"Positive emotion\" or \"Negative emotion.\""
   ]
  },
  {
   "cell_type": "markdown",
   "metadata": {},
   "source": [
    "# 1.2 check dataset information"
   ]
  },
  {
   "cell_type": "code",
   "execution_count": 3,
   "metadata": {},
   "outputs": [
    {
     "name": "stdout",
     "output_type": "stream",
     "text": [
      "<class 'pandas.core.frame.DataFrame'>\n",
      "RangeIndex: 9093 entries, 0 to 9092\n",
      "Data columns (total 3 columns):\n",
      " #   Column                                              Non-Null Count  Dtype \n",
      "---  ------                                              --------------  ----- \n",
      " 0   tweet_text                                          9092 non-null   object\n",
      " 1   emotion_in_tweet_is_directed_at                     3291 non-null   object\n",
      " 2   is_there_an_emotion_directed_at_a_brand_or_product  9093 non-null   object\n",
      "dtypes: object(3)\n",
      "memory usage: 213.2+ KB\n"
     ]
    }
   ],
   "source": [
    "df.info()"
   ]
  },
  {
   "cell_type": "markdown",
   "metadata": {},
   "source": [
    "The dataset has 4 columns \n",
    "1. tweeet_text, \n",
    "2. emotion_in tweet_is_directed_at,\n",
    "3. is_there_an_emotion_directed_at_a_brand-or_product\n",
    "4. classification"
   ]
  },
  {
   "cell_type": "markdown",
   "metadata": {},
   "source": [
    "# 1.3 Check for duplicates"
   ]
  },
  {
   "cell_type": "code",
   "execution_count": 4,
   "metadata": {},
   "outputs": [
    {
     "name": "stdout",
     "output_type": "stream",
     "text": [
      "Number of duplicate rows: 27\n"
     ]
    }
   ],
   "source": [
    "# check for duplicate rows i the dataset based on the tweet content\n",
    "duplicate_rows = df[df.duplicated(subset='tweet_text')]\n",
    "\n",
    "# Display the number of duplicate rows and some of the duplicates (if any)\n",
    "print(f\"Number of duplicate rows: {len(duplicate_rows)}\")"
   ]
  },
  {
   "cell_type": "markdown",
   "metadata": {},
   "source": [
    "# 1.4 Check for missing values"
   ]
  },
  {
   "cell_type": "code",
   "execution_count": 6,
   "metadata": {},
   "outputs": [
    {
     "data": {
      "text/plain": [
       "tweet_text                                               1\n",
       "emotion_in_tweet_is_directed_at                       5786\n",
       "is_there_an_emotion_directed_at_a_brand_or_product       0\n",
       "dtype: int64"
      ]
     },
     "execution_count": 6,
     "metadata": {},
     "output_type": "execute_result"
    }
   ],
   "source": [
    "# Check for missing values\n",
    "df.isna().sum()"
   ]
  },
  {
   "cell_type": "markdown",
   "metadata": {},
   "source": [
    "# 1.5 Check for unique values"
   ]
  },
  {
   "cell_type": "code",
   "execution_count": 7,
   "metadata": {},
   "outputs": [
    {
     "name": "stdout",
     "output_type": "stream",
     "text": [
      "tweet_text                                            9065\n",
      "emotion_in_tweet_is_directed_at                          9\n",
      "is_there_an_emotion_directed_at_a_brand_or_product       4\n",
      "dtype: int64\n"
     ]
    }
   ],
   "source": [
    "# Check for unique values in each column\n",
    "print(df.nunique())"
   ]
  },
  {
   "cell_type": "markdown",
   "metadata": {},
   "source": [
    "# 1.6 Visualize on target distribution"
   ]
  },
  {
   "cell_type": "code",
   "execution_count": 8,
   "metadata": {},
   "outputs": [
    {
     "name": "stdout",
     "output_type": "stream",
     "text": [
      "\n",
      "Target Variable Distribution:\n",
      "No emotion toward brand or product    5373\n",
      "Positive emotion                      2968\n",
      "Negative emotion                       569\n",
      "I can't tell                           156\n",
      "Name: is_there_an_emotion_directed_at_a_brand_or_product, dtype: int64\n"
     ]
    },
    {
     "data": {
      "image/png": "[encoded data removed]",
      "text/plain": [
       "<Figure size 432x288 with 1 Axes>"
      ]
     },
     "metadata": {
      "needs_background": "light"
     },
     "output_type": "display_data"
    }
   ],
   "source": [
    "import matplotlib.pyplot as plt\n",
    "%matplotlib inline\n",
    "import seaborn as sns\n",
    "\n",
    "# Checking the distribution of the target variable\n",
    "print(\"\\nTarget Variable Distribution:\")\n",
    "print(df['is_there_an_emotion_directed_at_a_brand_or_product'].value_counts())\n",
    "\n",
    "# Visualizing the target distribution\n",
    "plt.figure(figsize=(6,4))\n",
    "sns.countplot(x='is_there_an_emotion_directed_at_a_brand_or_product', data=df)\n",
    "plt.title('Distribution of Sentiment Labels')\n",
    "plt.xticks(rotation=90)\n",
    "plt.show()"
   ]
  },
  {
   "cell_type": "markdown",
   "metadata": {},
   "source": [
    "No emotion towards brand or product column has the most number of sentiments."
   ]
  },
  {
   "cell_type": "markdown",
   "metadata": {},
   "source": [
    "# 1.7 Visualize distribution of brands and products"
   ]
  },
  {
   "cell_type": "code",
   "execution_count": 9,
   "metadata": {},
   "outputs": [
    {
     "name": "stdout",
     "output_type": "stream",
     "text": [
      "\n",
      "Distribution of Products/Brands:\n",
      "iPad                               943\n",
      "Apple                              659\n",
      "iPad or iPhone App                 469\n",
      "Google                             428\n",
      "iPhone                             296\n",
      "Other Google product or service    293\n",
      "Android App                         80\n",
      "Android                             77\n",
      "Other Apple product or service      35\n",
      "Name: emotion_in_tweet_is_directed_at, dtype: int64\n"
     ]
    },
    {
     "data": {
      "image/png": "[encoded data removed]",
      "text/plain": [
       "<Figure size 720x432 with 1 Axes>"
      ]
     },
     "metadata": {
      "needs_background": "light"
     },
     "output_type": "display_data"
    }
   ],
   "source": [
    "# Distribution of products/brands mentioned in the tweets\n",
    "print(\"\\nDistribution of Products/Brands:\")\n",
    "print(df['emotion_in_tweet_is_directed_at'].value_counts())\n",
    "\n",
    "# Visualizing product mentions\n",
    "plt.figure(figsize=(10,6))\n",
    "df['emotion_in_tweet_is_directed_at'].value_counts().plot(kind='bar', color='skyblue')\n",
    "plt.title('Number of Tweets Mentioning Each Product/Brand')\n",
    "plt.xticks(rotation=90)\n",
    "plt.show()"
   ]
  },
  {
   "cell_type": "markdown",
   "metadata": {},
   "source": [
    "Ipad and apple has the most number of tweets mentioned towards product or brand."
   ]
  },
  {
   "cell_type": "markdown",
   "metadata": {},
   "source": [
    "# 1.8 Changing column names"
   ]
  },
  {
   "cell_type": "code",
   "execution_count": 10,
   "metadata": {},
   "outputs": [
    {
     "name": "stdout",
     "output_type": "stream",
     "text": [
      "<class 'pandas.core.frame.DataFrame'>\n",
      "Int64Index: 9066 entries, 0 to 9092\n",
      "Data columns (total 3 columns):\n",
      " #   Column   Non-Null Count  Dtype \n",
      "---  ------   --------------  ----- \n",
      " 0   tweet    9065 non-null   object\n",
      " 1   product  3280 non-null   object\n",
      " 2   target   9066 non-null   object\n",
      "dtypes: object(3)\n",
      "memory usage: 603.3+ KB\n",
      "None\n"
     ]
    }
   ],
   "source": [
    "# Rename the columns\n",
    "df.rename(columns={\n",
    "    'tweet_text': 'tweet',\n",
    "    'emotion_in_tweet_is_directed_at': 'product',\n",
    "    'is_there_an_emotion_directed_at_a_brand_or_product': 'target'\n",
    "}, inplace=True)\n",
    "\n",
    "print(df.info())"
   ]
  },
  {
   "cell_type": "code",
   "execution_count": 11,
   "metadata": {},
   "outputs": [
    {
     "data": {
      "text/plain": [
       "iPad                               943\n",
       "Apple                              659\n",
       "iPad or iPhone App                 469\n",
       "Google                             428\n",
       "iPhone                             296\n",
       "Other Google product or service    293\n",
       "Android App                         80\n",
       "Android                             77\n",
       "Other Apple product or service      35\n",
       "Name: product, dtype: int64"
      ]
     },
     "execution_count": 11,
     "metadata": {},
     "output_type": "execute_result"
    }
   ],
   "source": [
    "df['product'].value_counts()"
   ]
  },
  {
   "cell_type": "code",
   "execution_count": 12,
   "metadata": {},
   "outputs": [],
   "source": [
    "# impute missing values in the product with unknown\n",
    "df['product'] = df['product'].fillna('unknown')"
   ]
  },
  {
   "cell_type": "code",
   "execution_count": 14,
   "metadata": {},
   "outputs": [
    {
     "data": {
      "text/plain": [
       "tweet      0\n",
       "product    0\n",
       "target     0\n",
       "dtype: int64"
      ]
     },
     "execution_count": 14,
     "metadata": {},
     "output_type": "execute_result"
    }
   ],
   "source": [
    "# check for missing values after cleaning\n",
    "df_cleaned.isnull().sum()"
   ]
  },
  {
   "cell_type": "markdown",
   "metadata": {},
   "source": [
    "# 1.9 Handling missing tweets"
   ]
  },
  {
   "cell_type": "code",
   "execution_count": 13,
   "metadata": {},
   "outputs": [],
   "source": [
    "# Drop rows where the tweet_text is missing\n",
    "df_cleaned = df.dropna(subset=['tweet'])"
   ]
  },
  {
   "cell_type": "markdown",
   "metadata": {},
   "source": [
    "# 1.10 Drop unnecessary rows"
   ]
  },
  {
   "cell_type": "code",
   "execution_count": 16,
   "metadata": {},
   "outputs": [
    {
     "data": {
      "text/plain": [
       "No emotion toward brand or product    5372\n",
       "Positive emotion                      2968\n",
       "Negative emotion                       569\n",
       "I can't tell                           156\n",
       "Name: target, dtype: int64"
      ]
     },
     "execution_count": 16,
     "metadata": {},
     "output_type": "execute_result"
    }
   ],
   "source": [
    "df_cleaned['target'].value_counts()"
   ]
  },
  {
   "cell_type": "code",
   "execution_count": 17,
   "metadata": {},
   "outputs": [],
   "source": [
    "# Drop rows where the target is \"I can't tell\"\n",
    "df_cleaned= df_cleaned[df_cleaned['target'] != \"I can't tell\"]"
   ]
  },
  {
   "cell_type": "code",
   "execution_count": 18,
   "metadata": {},
   "outputs": [],
   "source": [
    "# Define a mapping for the target values\n",
    "mapping = {\n",
    "    'No emotion toward brand or product': 'Neutral',\n",
    "    'Positive emotion': 'Positive',\n",
    "    'Negative emotion': 'Negative'\n",
    "}\n",
    "\n",
    "# Replace the values in the target column\n",
    "df_cleaned['target'] = df_cleaned['target'].map(mapping)"
   ]
  },
  {
   "cell_type": "code",
   "execution_count": 19,
   "metadata": {},
   "outputs": [
    {
     "data": {
      "text/plain": [
       "Neutral     5372\n",
       "Positive    2968\n",
       "Negative     569\n",
       "Name: target, dtype: int64"
      ]
     },
     "execution_count": 19,
     "metadata": {},
     "output_type": "execute_result"
    }
   ],
   "source": [
    "df_cleaned['target'].value_counts()"
   ]
  },
  {
   "cell_type": "markdown",
   "metadata": {},
   "source": [
    "# Data preprocessing"
   ]
  },
  {
   "cell_type": "code",
   "execution_count": 20,
   "metadata": {},
   "outputs": [
    {
     "name": "stdout",
     "output_type": "stream",
     "text": [
      "                                               tweet  \\\n",
      "0  .@wesley83 I have a 3G iPhone. After 3 hrs twe...   \n",
      "1  @jessedee Know about @fludapp ? Awesome iPad/i...   \n",
      "2  @swonderlin Can not wait for #iPad 2 also. The...   \n",
      "3  @sxsw I hope this year's festival isn't as cra...   \n",
      "4  @sxtxstate great stuff on Fri #SXSW: Marissa M...   \n",
      "\n",
      "                                          clean_text  \n",
      "0  g iphone hrs tweeting riseaustin dead need upg...  \n",
      "1  know awesome ipadiphone app youll likely appre...  \n",
      "2                           wait ipad also sale sxsw  \n",
      "3  hope years festival isnt crashy years iphone a...  \n",
      "4  great stuff fri sxsw marissa mayer google tim ...  \n"
     ]
    },
    {
     "name": "stderr",
     "output_type": "stream",
     "text": [
      "[nltk_data] Downloading package stopwords to\n",
      "[nltk_data]     C:\\Users\\Catherine\\AppData\\Roaming\\nltk_data...\n",
      "[nltk_data]   Package stopwords is already up-to-date!\n"
     ]
    }
   ],
   "source": [
    "# Text cleaning: Remove\n",
    "import re\n",
    "import string\n",
    "import nltk\n",
    "from nltk.corpus import stopwords\n",
    "\n",
    "# Download the stopwords from NLTK\n",
    "nltk.download('stopwords')\n",
    "stop_words = set(stopwords.words('english'))\n",
    "\n",
    "def clean_text(text):\n",
    "    if isinstance(text, str):  # Proceed only if the input is a string\n",
    "        text = text.lower()  # convert to lowercase\n",
    "        text = re.sub(r'http\\S+|www\\S+|https\\S+', '', text, flags=re.MULTILINE)  # Remove URLs\n",
    "        text = re.sub(r'@\\w+', '', text)  # Remove mentions\n",
    "        text = re.sub(r'#', '', text)  # Remove hashtags\n",
    "        text = re.sub(r'[^a-zA-Z\\s]', '', text)  # Remove special characters\n",
    "        text = ' '.join([word for word in text.split() if word not in stop_words])  # Remove stopwords\n",
    "        text = text.strip()  # Strip leading/trailing whitespace\n",
    "    else:\n",
    "        text = ''  # If not a string, return an empty string\n",
    "    return text\n",
    "    \n",
    "# Apply the cleaning function to the 'tweet_text' column\n",
    "df_cleaned['clean_text'] = df['tweet'].apply(clean_text)\n",
    "\n",
    "# Preview cleaned tweets\n",
    "print(df_cleaned[['tweet', 'clean_text']].head())"
   ]
  },
  {
   "cell_type": "markdown",
   "metadata": {},
   "source": [
    "# Handling missing values\n"
   ]
  },
  {
   "cell_type": "code",
   "execution_count": 21,
   "metadata": {},
   "outputs": [
    {
     "name": "stdout",
     "output_type": "stream",
     "text": [
      "tweet         0\n",
      "product       0\n",
      "target        0\n",
      "clean_text    0\n",
      "dtype: int64\n"
     ]
    }
   ],
   "source": [
    "# Check for missing values in the dataset\n",
    "print(df_cleaned.isnull().sum())\n",
    "\n",
    "# Drop rows where 'tweet' is missing\n",
    "df_cleaned = df_cleaned.dropna(subset=['tweet'])"
   ]
  },
  {
   "cell_type": "markdown",
   "metadata": {},
   "source": [
    "# Tokenization and vectorization"
   ]
  },
  {
   "cell_type": "code",
   "execution_count": 22,
   "metadata": {},
   "outputs": [
    {
     "name": "stdout",
     "output_type": "stream",
     "text": [
      "(8909, 1000)\n"
     ]
    }
   ],
   "source": [
    "from sklearn.feature_extraction.text import TfidfVectorizer\n",
    "\n",
    "# Initialize the TF-IDF Vectorizer\n",
    "tfidf_vectorizer = TfidfVectorizer(max_features=1000, stop_words='english', ngram_range=(1, 2))\n",
    "\n",
    "# Fit and transform the 'clean_text' column\n",
    "X = tfidf_vectorizer.fit_transform(df_cleaned['clean_text'])\n",
    "\n",
    "# Display the TF-IDF features\n",
    "print(X.shape)  # Check the shape of the feature matrix"
   ]
  },
  {
   "cell_type": "markdown",
   "metadata": {},
   "source": [
    "# Label Encoding for sentiment"
   ]
  },
  {
   "cell_type": "code",
   "execution_count": 25,
   "metadata": {},
   "outputs": [],
   "source": [
    "from sklearn.preprocessing import LabelEncoder\n",
    "\n",
    "# Encode target: Positive = 1, Negative = 0, \n",
    "label_encoder = LabelEncoder()\n",
    "df_cleaned['target_label'] = label_encoder.fit_transform(df_cleaned['target']) "
   ]
  },
  {
   "cell_type": "code",
   "execution_count": 26,
   "metadata": {},
   "outputs": [
    {
     "data": {
      "image/png": "[encoded data removed]",
      "text/plain": [
       "<Figure size 432x288 with 1 Axes>"
      ]
     },
     "metadata": {
      "needs_background": "light"
     },
     "output_type": "display_data"
    }
   ],
   "source": [
    "import matplotlib.pyplot as plt\n",
    "\n",
    "# Visualize the distribution of sentiment labels\n",
    "sns.countplot(x='target_label', data=df_cleaned, palette='Set2')\n",
    "plt.title('Distribution of target Labels')\n",
    "plt.xlabel('Target')\n",
    "plt.ylabel('Count')\n",
    "plt.xticks(ticks=[0, 1, 2], labels=label_encoder.classes_)\n",
    "plt.show()"
   ]
  },
  {
   "cell_type": "code",
   "execution_count": 27,
   "metadata": {},
   "outputs": [
    {
     "data": {
      "image/png": "[encoded data removed]",
      "text/plain": [
       "<Figure size 720x432 with 1 Axes>"
      ]
     },
     "metadata": {
      "needs_background": "light"
     },
     "output_type": "display_data"
    }
   ],
   "source": [
    "from collections import Counter\n",
    "\n",
    "# Flatten the tokenized words into one list\n",
    "all_words = ' '.join(df_cleaned['clean_text']).split()\n",
    "\n",
    "# Get the frequency of the most common words\n",
    "word_freq = Counter(all_words).most_common(20)\n",
    "\n",
    "# Convert to DataFrame for easy plotting\n",
    "word_freq_df = pd.DataFrame(word_freq, columns=['Word', 'Frequency'])\n",
    "\n",
    "# Plot the most common words\n",
    "plt.figure(figsize=(10, 6))\n",
    "sns.barplot(x='Frequency', y='Word', data=word_freq_df, palette='viridis')\n",
    "plt.title('Top 20 Most Frequent Words')\n",
    "plt.show()"
   ]
  },
  {
   "cell_type": "markdown",
   "metadata": {},
   "source": [
    "# Splitting data for modelling"
   ]
  },
  {
   "cell_type": "code",
   "execution_count": 28,
   "metadata": {},
   "outputs": [],
   "source": [
    "# Splitting data for training and testing\n",
    "from sklearn.model_selection import train_test_split\n",
    "\n",
    "# Define target variable (y) and features (X)\n",
    "y = df_cleaned['target_label']\n",
    "\n",
    "# Split the data (80% train, 20% test)\n",
    "X_train, X_test, y_train, y_test = train_test_split(X, y, test_size=0.2, random_state=42)\n"
   ]
  },
  {
   "cell_type": "code",
   "execution_count": 29,
   "metadata": {},
   "outputs": [
    {
     "name": "stdout",
     "output_type": "stream",
     "text": [
      "(7127, 1000) (1782, 1000) (7127,) (1782,)\n"
     ]
    }
   ],
   "source": [
    "# Check the shapes\n",
    "print(X_train.shape, X_test.shape, y_train.shape, y_test.shape)"
   ]
  },
  {
   "cell_type": "markdown",
   "metadata": {},
   "source": [
    "# Model Selection and Evaluation\n"
   ]
  },
  {
   "cell_type": "code",
   "execution_count": 30,
   "metadata": {},
   "outputs": [
    {
     "name": "stdout",
     "output_type": "stream",
     "text": [
      "Logistic Regression Metrics:\n",
      "Accuracy: 0.6672278338945006\n",
      "Precision: 0.6513557514783193\n",
      "Recall: 0.45474454113506274\n",
      "F1 Score: 0.46292731317615904\n",
      "AUC-ROC (macro, OVR): 0.7627453580088472\n",
      "\n",
      "Classification Report:\n",
      "               precision    recall  f1-score   support\n",
      "\n",
      "           0       0.67      0.07      0.12       123\n",
      "           1       0.69      0.87      0.77      1069\n",
      "           2       0.60      0.43      0.50       590\n",
      "\n",
      "    accuracy                           0.67      1782\n",
      "   macro avg       0.65      0.45      0.46      1782\n",
      "weighted avg       0.66      0.67      0.64      1782\n",
      "\n"
     ]
    }
   ],
   "source": [
    "from sklearn.metrics import accuracy_score, precision_score, recall_score, f1_score, roc_auc_score, confusion_matrix, classification_report\n",
    "from sklearn.linear_model import LogisticRegression\n",
    "\n",
    "# Train Logistic Regression model\n",
    "log_reg = LogisticRegression(max_iter=1000)\n",
    "log_reg.fit(X_train, y_train)\n",
    "\n",
    "# Predict on test set\n",
    "y_pred_log_reg = log_reg.predict(X_test)\n",
    "\n",
    "# Get probability scores for ROC AUC\n",
    "y_pred_prob_log_reg = log_reg.predict_proba(X_test)\n",
    "\n",
    "# Evaluate the model\n",
    "print(\"Logistic Regression Metrics:\")\n",
    "print(\"Accuracy:\", accuracy_score(y_test, y_pred_log_reg))\n",
    "print(\"Precision:\", precision_score(y_test, y_pred_log_reg, average='macro'))\n",
    "print(\"Recall:\", recall_score(y_test, y_pred_log_reg, average='macro'))\n",
    "print(\"F1 Score:\", f1_score(y_test, y_pred_log_reg, average='macro'))\n",
    "\n",
    "# Specify multi_class parameter for AUC-ROC score\n",
    "print(\"AUC-ROC (macro, OVR):\", roc_auc_score(y_test, y_pred_prob_log_reg, multi_class='ovr', average='macro'))\n",
    "\n",
    "# Classification report\n",
    "print(\"\\nClassification Report:\\n\", classification_report(y_test, y_pred_log_reg))\n",
    "\n"
   ]
  },
  {
   "cell_type": "code",
   "execution_count": 31,
   "metadata": {},
   "outputs": [
    {
     "data": {
      "image/png": "[encoded data removed]",
      "text/plain": [
       "<Figure size 432x288 with 2 Axes>"
      ]
     },
     "metadata": {
      "needs_background": "light"
     },
     "output_type": "display_data"
    }
   ],
   "source": [
    "\n",
    "# Plot a Confusion matrix\n",
    "conf_matrix_log_reg = confusion_matrix(y_test, y_pred_log_reg)\n",
    "sns.heatmap(conf_matrix_log_reg, annot=True, fmt='d', cmap='Blues')\n",
    "plt.title('Confusion Matrix: Logistic Regression')\n",
    "plt.ylabel('True label')\n",
    "plt.xlabel('Predicted label')\n",
    "plt.show()"
   ]
  },
  {
   "cell_type": "code",
   "execution_count": 32,
   "metadata": {},
   "outputs": [
    {
     "name": "stdout",
     "output_type": "stream",
     "text": [
      "Random Forest Metrics:\n",
      "Accuracy: 0.6734006734006734\n",
      "Precision: 0.6309631906125586\n",
      "Recall: 0.4762277716956745\n",
      "F1 Score: 0.4957185141809736\n",
      "AUC-ROC (macro, OVR): 0.763208488294401\n",
      "\n",
      "Classification Report:\n",
      "               precision    recall  f1-score   support\n",
      "\n",
      "           0       0.58      0.12      0.20       123\n",
      "           1       0.69      0.86      0.77      1069\n",
      "           2       0.63      0.44      0.52       590\n",
      "\n",
      "    accuracy                           0.67      1782\n",
      "   macro avg       0.63      0.48      0.50      1782\n",
      "weighted avg       0.66      0.67      0.65      1782\n",
      "\n"
     ]
    }
   ],
   "source": [
    "# Random Forest\n",
    "from sklearn.ensemble import RandomForestClassifier\n",
    "\n",
    "# Train Random Forest model\n",
    "rf = RandomForestClassifier(n_estimators=100, random_state=42)\n",
    "rf.fit(X_train, y_train)\n",
    "\n",
    "# Predict on test set\n",
    "y_pred_rf = rf.predict(X_test)\n",
    "\n",
    "# Get probability scores for ROC AUC\n",
    "y_pred_prob_rf = rf.predict_proba(X_test)\n",
    "\n",
    "# Evaluate the model\n",
    "print(\"Random Forest Metrics:\")\n",
    "print(\"Accuracy:\", accuracy_score(y_test, y_pred_rf))\n",
    "print(\"Precision:\", precision_score(y_test, y_pred_rf, average='macro'))\n",
    "print(\"Recall:\", recall_score(y_test, y_pred_rf, average='macro'))\n",
    "print(\"F1 Score:\", f1_score(y_test, y_pred_rf, average='macro'))\n",
    "\n",
    "# Specify multi_class parameter for AUC-ROC score\n",
    "print(\"AUC-ROC (macro, OVR):\", roc_auc_score(y_test, y_pred_prob_rf, multi_class='ovr', average='macro'))\n",
    "\n",
    "# Classification report\n",
    "print(\"\\nClassification Report:\\n\", classification_report(y_test, y_pred_rf))\n",
    "\n"
   ]
  },
  {
   "cell_type": "code",
   "execution_count": 33,
   "metadata": {},
   "outputs": [
    {
     "data": {
      "image/png": "[encoded data removed]",
      "text/plain": [
       "<Figure size 432x288 with 2 Axes>"
      ]
     },
     "metadata": {
      "needs_background": "light"
     },
     "output_type": "display_data"
    }
   ],
   "source": [
    "# Plot a Confusion matrix\n",
    "conf_matrix_rf = confusion_matrix(y_test, y_pred_rf)\n",
    "sns.heatmap(conf_matrix_rf, annot=True, fmt='d', cmap='Blues')\n",
    "plt.title('Confusion Matrix: Random Forest')\n",
    "plt.ylabel('True label')\n",
    "plt.xlabel('Predicted label')\n",
    "plt.show()"
   ]
  },
  {
   "cell_type": "code",
   "execution_count": 34,
   "metadata": {},
   "outputs": [
    {
     "name": "stderr",
     "output_type": "stream",
     "text": [
      "c:\\Users\\Catherine\\anaconda3\\envs\\learn-env\\lib\\site-packages\\xgboost\\sklearn.py:1395: UserWarning: `use_label_encoder` is deprecated in 1.7.0.\n",
      "  warnings.warn(\"`use_label_encoder` is deprecated in 1.7.0.\")\n"
     ]
    },
    {
     "name": "stdout",
     "output_type": "stream",
     "text": [
      "XGBoost Metrics:\n",
      "Accuracy: 0.6632996632996633\n",
      "Precision: 0.6056715232969063\n",
      "Recall: 0.4621411478499367\n",
      "F1 Score: 0.47893691671469446\n",
      "AUC-ROC (macro, OVR): 0.7695496868088504\n",
      "\n",
      "Classification Report:\n",
      "               precision    recall  f1-score   support\n",
      "\n",
      "           0       0.52      0.11      0.19       123\n",
      "           1       0.68      0.87      0.76      1069\n",
      "           2       0.62      0.40      0.49       590\n",
      "\n",
      "    accuracy                           0.66      1782\n",
      "   macro avg       0.61      0.46      0.48      1782\n",
      "weighted avg       0.65      0.66      0.63      1782\n",
      "\n"
     ]
    }
   ],
   "source": [
    "# XGBoost\n",
    "from xgboost import XGBClassifier\n",
    "\n",
    "# Train XGBoost model\n",
    "xgb = XGBClassifier(use_label_encoder=False, eval_metric='logloss', random_state=42)\n",
    "xgb.fit(X_train, y_train)\n",
    "\n",
    "# Predict on test set\n",
    "y_pred_xgb = xgb.predict(X_test)\n",
    "\n",
    "# Get probability scores for ROC AUC\n",
    "y_pred_prob_xgb = xgb.predict_proba(X_test)\n",
    "\n",
    "# Evaluate the model\n",
    "print(\"XGBoost Metrics:\")\n",
    "print(\"Accuracy:\", accuracy_score(y_test, y_pred_xgb,))\n",
    "print(\"Precision:\", precision_score(y_test, y_pred_xgb, average='macro'))\n",
    "print(\"Recall:\", recall_score(y_test, y_pred_xgb, average='macro'))\n",
    "print(\"F1 Score:\", f1_score(y_test, y_pred_xgb, average='macro'))\n",
    "print(\"AUC-ROC (macro, OVR):\", roc_auc_score(y_test, y_pred_prob_xgb, average='macro', multi_class='ovr'))\n",
    "\n",
    "# Classification report\n",
    "print(\"\\nClassification Report:\\n\", classification_report(y_test, y_pred_xgb))"
   ]
  },
  {
   "cell_type": "code",
   "execution_count": 35,
   "metadata": {},
   "outputs": [
    {
     "data": {
      "image/png": "[encoded data removed]",
      "text/plain": [
       "<Figure size 432x288 with 2 Axes>"
      ]
     },
     "metadata": {
      "needs_background": "light"
     },
     "output_type": "display_data"
    }
   ],
   "source": [
    "# Plot a Confusion matrix\n",
    "conf_matrix_xgb = confusion_matrix(y_test, y_pred_xgb)\n",
    "sns.heatmap(conf_matrix_xgb, annot=True, fmt='d', cmap='Blues')\n",
    "plt.title('Confusion Matrix: XGBoost')\n",
    "plt.ylabel('True label')\n",
    "plt.xlabel('Predicted label')\n",
    "plt.show()"
   ]
  },
  {
   "cell_type": "code",
   "execution_count": 36,
   "metadata": {},
   "outputs": [
    {
     "name": "stdout",
     "output_type": "stream",
     "text": [
      "                 Model  Accuracy  Precision    Recall  F1 Score\n",
      "0  Logistic Regression  0.667228   0.651356  0.454745  0.462927\n",
      "1        Random Forest  0.673401   0.630963  0.476228  0.495719\n",
      "2              XGBoost  0.663300   0.605672  0.462141  0.478937\n"
     ]
    },
    {
     "data": {
      "image/png": "[encoded data removed]",
      "text/plain": [
       "<Figure size 720x432 with 1 Axes>"
      ]
     },
     "metadata": {
      "needs_background": "light"
     },
     "output_type": "display_data"
    }
   ],
   "source": [
    "# Compile results in a DataFrame\n",
    "results = pd.DataFrame({\n",
    "    'Model': ['Logistic Regression', 'Random Forest', 'XGBoost'],\n",
    "    'Accuracy': [accuracy_score(y_test, y_pred_log_reg), accuracy_score(y_test, y_pred_rf), accuracy_score(y_test, y_pred_xgb)],\n",
    "    'Precision': [precision_score(y_test, y_pred_log_reg, average='macro'), precision_score(y_test, y_pred_rf, average='macro'), precision_score(y_test, y_pred_xgb, average='macro')],\n",
    "    'Recall': [recall_score(y_test, y_pred_log_reg, average='macro'), recall_score(y_test, y_pred_rf, average='macro'), recall_score(y_test, y_pred_xgb, average='macro')],\n",
    "    'F1 Score': [f1_score(y_test, y_pred_log_reg, average='macro'), f1_score(y_test, y_pred_rf, average='macro'), f1_score(y_test, y_pred_xgb, average='macro')]\n",
    "})\n",
    "\n",
    "# Display the comparison\n",
    "print(results)\n",
    "\n",
    "# Plot the performance comparison\n",
    "results.set_index('Model').plot(kind='bar', figsize=(10, 6), colormap='viridis')\n",
    "plt.title('Model Comparison')\n",
    "plt.ylabel('Scores')\n",
    "plt.xticks(rotation=45)\n",
    "plt.show()"
   ]
  },
  {
   "cell_type": "markdown",
   "metadata": {},
   "source": [
    "Model Summary:\n",
    "i have trained three models: Logistic Regression, Random Forest, and XGBoost, and evaluated their performance using Accuracy, Precision, Recall, and F1 Score. Here's a summary of the results:\n",
    "\n",
    "Logistic Regression:\n",
    "\n",
    "Accuracy: 0.6672\n",
    "Precision: 0.6514\n",
    "Recall: 0.4547\n",
    "F1 Score: 0.4629\n",
    "\n",
    "Logistic Regression showed a relatively high precision, indicating that when it predicts positives, it's more likely correct. However, the recall is lower, meaning it struggled to identify all positive cases.\n",
    "\n",
    "\n",
    "Random Forest:\n",
    "\n",
    "Accuracy: 0.6734\n",
    "Precision: 0.6310\n",
    "Recall: 0.4762\n",
    "F1 Score: 0.4957\n",
    "\n",
    "Random Forest performed best overall, with the highest accuracy, recall, and F1 score, suggesting it is better at balancing the identification of positives while minimizing false negatives.\n",
    "\n",
    "\n",
    "XGBoost:\n",
    "\n",
    "Accuracy: 0.6633\n",
    "Precision: 0.6057\n",
    "Recall: 0.4621\n",
    "F1 Score: 0.4789\n",
    "\n",
    "XGBoost had comparable performance to Random Forest but slightly lower precision and recall. It still managed a balanced F1 score, making it competitive, especially when fine-tuned.\n",
    "\n",
    "\n",
    "Conclusion:\n",
    "\n",
    "Random Forest performed best in terms of accuracy, recall, and F1 score, making it the most robust model for this dataset.\n",
    "\n",
    "Logistic Regression performed well in precision but lagged behind in recall, making it less effective for identifying all positive cases.\n",
    "\n",
    "XGBoost was competitive with Random Forest but slightly underperformed, which could improve with hyperparameter tuning."
   ]
  },
  {
   "cell_type": "markdown",
   "metadata": {},
   "source": [
    "## Hyperparamenter tuning"
   ]
  },
  {
   "cell_type": "code",
   "execution_count": 37,
   "metadata": {},
   "outputs": [
    {
     "name": "stdout",
     "output_type": "stream",
     "text": [
      "Fitting 5 folds for each of 18 candidates, totalling 90 fits\n"
     ]
    },
    {
     "name": "stderr",
     "output_type": "stream",
     "text": [
      "[Parallel(n_jobs=-1)]: Using backend LokyBackend with 8 concurrent workers.\n",
      "[Parallel(n_jobs=-1)]: Done  34 tasks      | elapsed:    5.3s\n"
     ]
    },
    {
     "name": "stdout",
     "output_type": "stream",
     "text": [
      "Best parameters for Logistic Regression: {'C': 10, 'solver': 'liblinear'}\n",
      "Best F1 Score for Logistic Regression: 0.6400495490227145\n"
     ]
    },
    {
     "name": "stderr",
     "output_type": "stream",
     "text": [
      "[Parallel(n_jobs=-1)]: Done  90 out of  90 | elapsed:   14.1s finished\n"
     ]
    }
   ],
   "source": [
    "# Logistic regression\n",
    "from sklearn.linear_model import LogisticRegression\n",
    "from sklearn.model_selection import GridSearchCV\n",
    "from sklearn.metrics import make_scorer, f1_score\n",
    "\n",
    "# Define the model\n",
    "log_reg = LogisticRegression(max_iter=1000)\n",
    "\n",
    "# Define the hyperparameters to tune\n",
    "param_grid_log_reg = {\n",
    "    'C': [0.001, 0.01, 0.1, 1, 10, 100],\n",
    "    'solver': ['liblinear', 'lbfgs', 'saga']\n",
    "}\n",
    "\n",
    "# Set up GridSearchCV with multiclass scoring\n",
    "grid_search_log_reg = GridSearchCV(estimator=log_reg, param_grid=param_grid_log_reg, \n",
    "                                    scoring='f1_weighted', cv=5, n_jobs=-1, verbose=1)\n",
    "\n",
    "# Fit GridSearchCV\n",
    "grid_search_log_reg.fit(X_train, y_train)\n",
    "\n",
    "# Get the best parameters and score\n",
    "best_log_reg = grid_search_log_reg.best_estimator_\n",
    "print(\"Best parameters for Logistic Regression:\", grid_search_log_reg.best_params_)\n",
    "print(\"Best F1 Score for Logistic Regression:\", grid_search_log_reg.best_score_)"
   ]
  },
  {
   "cell_type": "code",
   "execution_count": 38,
   "metadata": {},
   "outputs": [
    {
     "name": "stdout",
     "output_type": "stream",
     "text": [
      "\n",
      "Logistic Regression Tuned Classification Report:\n",
      "              precision    recall  f1-score   support\n",
      "\n",
      "           0       0.49      0.14      0.22       123\n",
      "           1       0.71      0.83      0.77      1069\n",
      "           2       0.60      0.49      0.54       590\n",
      "\n",
      "    accuracy                           0.67      1782\n",
      "   macro avg       0.60      0.49      0.51      1782\n",
      "weighted avg       0.66      0.67      0.65      1782\n",
      "\n"
     ]
    }
   ],
   "source": [
    "from sklearn.metrics import classification_report\n",
    "\n",
    "# Evaluate the best Logistic Regression model\n",
    "y_pred_log_reg_tuned = best_log_reg.predict(X_test)\n",
    "\n",
    "# Print classification report\n",
    "print(\"\\nLogistic Regression Tuned Classification Report:\")\n",
    "print(classification_report(y_test, y_pred_log_reg_tuned))"
   ]
  },
  {
   "cell_type": "code",
   "execution_count": 39,
   "metadata": {},
   "outputs": [
    {
     "name": "stdout",
     "output_type": "stream",
     "text": [
      "Fitting 5 folds for each of 36 candidates, totalling 180 fits\n"
     ]
    },
    {
     "name": "stderr",
     "output_type": "stream",
     "text": [
      "[Parallel(n_jobs=-1)]: Using backend LokyBackend with 8 concurrent workers.\n",
      "[Parallel(n_jobs=-1)]: Done  34 tasks      | elapsed:   39.7s\n",
      "[Parallel(n_jobs=-1)]: Done 180 out of 180 | elapsed:  1.5min finished\n"
     ]
    },
    {
     "name": "stdout",
     "output_type": "stream",
     "text": [
      "Best parameters for Random Forest: {'max_depth': None, 'min_samples_split': 10, 'n_estimators': 50}\n",
      "Best F1 Score for Random Forest: 0.6423877874608428\n"
     ]
    }
   ],
   "source": [
    "# Random forest\n",
    "\n",
    "# Define the model\n",
    "rf = RandomForestClassifier(random_state=42)\n",
    "\n",
    "# Define the hyperparameters to tune\n",
    "param_grid_rf = {\n",
    "    'n_estimators': [50, 100, 200],  # Number of trees\n",
    "    'max_depth': [None, 10, 20, 30],  # Maximum depth of the tree\n",
    "    'min_samples_split': [2, 5, 10]   # Minimum number of samples required to split an internal node\n",
    "}\n",
    "\n",
    "# Set up GridSearchCV with multiclass scoring\n",
    "grid_search_rf = GridSearchCV(estimator=rf, param_grid=param_grid_rf, \n",
    "                               scoring='f1_weighted', cv=5, n_jobs=-1, verbose=1)\n",
    "\n",
    "# Fit GridSearchCV\n",
    "grid_search_rf.fit(X_train, y_train)\n",
    "\n",
    "# Get the best parameters and score\n",
    "best_rf = grid_search_rf.best_estimator_\n",
    "print(\"Best parameters for Random Forest:\", grid_search_rf.best_params_)\n",
    "print(\"Best F1 Score for Random Forest:\", grid_search_rf.best_score_)\n",
    "\n"
   ]
  },
  {
   "cell_type": "code",
   "execution_count": 40,
   "metadata": {},
   "outputs": [
    {
     "name": "stdout",
     "output_type": "stream",
     "text": [
      "\n",
      "Random Forest Tuned Classification Report:\n",
      "              precision    recall  f1-score   support\n",
      "\n",
      "           0       0.60      0.10      0.17       123\n",
      "           1       0.69      0.87      0.77      1069\n",
      "           2       0.62      0.44      0.52       590\n",
      "\n",
      "    accuracy                           0.67      1782\n",
      "   macro avg       0.64      0.47      0.48      1782\n",
      "weighted avg       0.66      0.67      0.64      1782\n",
      "\n"
     ]
    }
   ],
   "source": [
    "# Evaluate the best Random Forest model on the test set\n",
    "from sklearn.metrics import classification_report\n",
    "\n",
    "y_pred_rf_tuned = best_rf.predict(X_test)\n",
    "\n",
    "# Print classification report for the tuned model\n",
    "print(\"\\nRandom Forest Tuned Classification Report:\")\n",
    "print(classification_report(y_test, y_pred_rf_tuned))"
   ]
  },
  {
   "cell_type": "code",
   "execution_count": 41,
   "metadata": {},
   "outputs": [
    {
     "name": "stderr",
     "output_type": "stream",
     "text": [
      "c:\\Users\\Catherine\\anaconda3\\envs\\learn-env\\lib\\site-packages\\xgboost\\sklearn.py:1395: UserWarning: `use_label_encoder` is deprecated in 1.7.0.\n",
      "  warnings.warn(\"`use_label_encoder` is deprecated in 1.7.0.\")\n",
      "[Parallel(n_jobs=-1)]: Using backend LokyBackend with 8 concurrent workers.\n",
      "c:\\Users\\Catherine\\anaconda3\\envs\\learn-env\\lib\\site-packages\\xgboost\\sklearn.py:1395: UserWarning: `use_label_encoder` is deprecated in 1.7.0.\n",
      "  warnings.warn(\"`use_label_encoder` is deprecated in 1.7.0.\")\n"
     ]
    },
    {
     "name": "stdout",
     "output_type": "stream",
     "text": [
      "Fitting 5 folds for each of 108 candidates, totalling 540 fits\n"
     ]
    },
    {
     "name": "stderr",
     "output_type": "stream",
     "text": [
      "[Parallel(n_jobs=-1)]: Done  34 tasks      | elapsed:   43.3s\n",
      "[Parallel(n_jobs=-1)]: Done 184 tasks      | elapsed:  8.4min\n",
      "[Parallel(n_jobs=-1)]: Done 434 tasks      | elapsed: 19.0min\n",
      "[Parallel(n_jobs=-1)]: Done 540 out of 540 | elapsed: 25.7min finished\n"
     ]
    },
    {
     "name": "stdout",
     "output_type": "stream",
     "text": [
      "Best parameters for XGBoost: {'learning_rate': 0.2, 'max_depth': 7, 'n_estimators': 200, 'subsample': 1.0}\n",
      "Best F1 Score for XGBoost: 0.6491416494132398\n"
     ]
    }
   ],
   "source": [
    "# XGBoost\n",
    "import xgboost as xgb\n",
    "from sklearn.model_selection import GridSearchCV\n",
    "from sklearn.metrics import make_scorer, f1_score\n",
    "\n",
    "# Define the model\n",
    "xgb_model = xgb.XGBClassifier(use_label_encoder=False, eval_metric='mlogloss', random_state=42)\n",
    "\n",
    "# Define the hyperparameters to tune\n",
    "param_grid_xgb = {\n",
    "    'n_estimators': [50, 100, 200],  # Number of trees\n",
    "    'max_depth': [3, 5, 7, 10],      # Maximum depth of trees\n",
    "    'learning_rate': [0.01, 0.1, 0.2], # Step size shrinkage\n",
    "    'subsample': [0.5, 0.7, 1.0]      # Fraction of samples used for fitting\n",
    "}\n",
    "\n",
    "# Set up GridSearchCV with multiclass scoring\n",
    "grid_search_xgb = GridSearchCV(estimator=xgb_model, param_grid=param_grid_xgb, \n",
    "                                scoring='f1_weighted', cv=5, n_jobs=-1, verbose=1)\n",
    "\n",
    "# Fit GridSearchCV\n",
    "grid_search_xgb.fit(X_train, y_train)\n",
    "\n",
    "# Get the best parameters and score\n",
    "best_xgb = grid_search_xgb.best_estimator_\n",
    "print(\"Best parameters for XGBoost:\", grid_search_xgb.best_params_)\n",
    "print(\"Best F1 Score for XGBoost:\", grid_search_xgb.best_score_)"
   ]
  },
  {
   "cell_type": "code",
   "execution_count": 42,
   "metadata": {},
   "outputs": [
    {
     "name": "stdout",
     "output_type": "stream",
     "text": [
      "\n",
      "XGBoost Tuned Classification Report:\n",
      "              precision    recall  f1-score   support\n",
      "\n",
      "           0       0.52      0.12      0.20       123\n",
      "           1       0.68      0.86      0.76      1069\n",
      "           2       0.61      0.43      0.51       590\n",
      "\n",
      "    accuracy                           0.66      1782\n",
      "   macro avg       0.60      0.47      0.49      1782\n",
      "weighted avg       0.65      0.66      0.64      1782\n",
      "\n"
     ]
    }
   ],
   "source": [
    "# Evaluate the best XGBoost model on the test set\n",
    "from sklearn.metrics import classification_report\n",
    "\n",
    "y_pred_xgb_tuned = best_xgb.predict(X_test)\n",
    "\n",
    "# Print classification report for the tuned model\n",
    "print(\"\\nXGBoost Tuned Classification Report:\")\n",
    "print(classification_report(y_test, y_pred_xgb_tuned))"
   ]
  },
  {
   "cell_type": "markdown",
   "metadata": {},
   "source": [
    "# Evaluate the best models after tuning"
   ]
  },
  {
   "cell_type": "code",
   "execution_count": 43,
   "metadata": {},
   "outputs": [
    {
     "name": "stdout",
     "output_type": "stream",
     "text": [
      "Logistic Regression Tuned Metrics:\n",
      "Accuracy: 0.6728395061728395\n",
      "Precision: 0.5965558856796498\n",
      "Recall: 0.4885601416461914\n",
      "F1 Score: 0.5070642889843198\n",
      "\n",
      "Random Forest Tuned Metrics:\n",
      "Accuracy: 0.6728395061728395\n",
      "Precision: 0.6367331277060672\n",
      "Recall: 0.46897448004462133\n",
      "F1 Score: 0.48446000420908014\n",
      "\n",
      "XGBoost Tuned Metrics:\n",
      "Accuracy: 0.6644219977553311\n",
      "Precision: 0.6039778069856171\n",
      "Recall: 0.4697197622037263\n",
      "F1 Score: 0.4879067121492027\n"
     ]
    }
   ],
   "source": [
    "# Evaluate Logistic Regression\n",
    "y_pred_log_reg_tuned = best_log_reg.predict(X_test)\n",
    "print(\"Logistic Regression Tuned Metrics:\")\n",
    "print(\"Accuracy:\", accuracy_score(y_test, y_pred_log_reg_tuned))\n",
    "print(\"Precision:\", precision_score(y_test, y_pred_log_reg_tuned, average='macro'))\n",
    "print(\"Recall:\", recall_score(y_test, y_pred_log_reg_tuned, average='macro'))\n",
    "print(\"F1 Score:\", f1_score(y_test, y_pred_log_reg_tuned, average='macro'))\n",
    "\n",
    "# Evaluate Random Forest\n",
    "y_pred_rf_tuned = best_rf.predict(X_test)\n",
    "print(\"\\nRandom Forest Tuned Metrics:\")\n",
    "print(\"Accuracy:\", accuracy_score(y_test, y_pred_rf_tuned))\n",
    "print(\"Precision:\", precision_score(y_test, y_pred_rf_tuned, average='macro'))\n",
    "print(\"Recall:\", recall_score(y_test, y_pred_rf_tuned, average='macro'))\n",
    "print(\"F1 Score:\", f1_score(y_test, y_pred_rf_tuned, average='macro'))\n",
    "\n",
    "# Evaluate XGBoost\n",
    "y_pred_xgb_tuned = best_xgb.predict(X_test)\n",
    "print(\"\\nXGBoost Tuned Metrics:\")\n",
    "print(\"Accuracy:\", accuracy_score(y_test, y_pred_xgb_tuned))\n",
    "print(\"Precision:\", precision_score(y_test, y_pred_xgb_tuned, average='macro'))\n",
    "print(\"Recall:\", recall_score(y_test, y_pred_xgb_tuned, average='macro'))\n",
    "print(\"F1 Score:\", f1_score(y_test, y_pred_xgb_tuned, average='macro'))"
   ]
  },
  {
   "cell_type": "code",
   "execution_count": 44,
   "metadata": {},
   "outputs": [
    {
     "name": "stdout",
     "output_type": "stream",
     "text": [
      "                 Model  Accuracy  Precision    Recall  F1 Score\n",
      "0  Logistic Regression  0.672840   0.596556  0.488560  0.507064\n",
      "1        Random Forest  0.672840   0.636733  0.468974  0.484460\n",
      "2              XGBoost  0.664422   0.603978  0.469720  0.487907\n"
     ]
    },
    {
     "data": {
      "image/png": "[encoded data removed]",
      "text/plain": [
       "<Figure size 720x432 with 1 Axes>"
      ]
     },
     "metadata": {
      "needs_background": "light"
     },
     "output_type": "display_data"
    }
   ],
   "source": [
    "# Compile results in a DataFrame\n",
    "results = pd.DataFrame({\n",
    "    'Model': ['Logistic Regression', 'Random Forest', 'XGBoost'],\n",
    "    'Accuracy': [accuracy_score(y_test, y_pred_log_reg_tuned), accuracy_score(y_test, y_pred_rf_tuned), accuracy_score(y_test, y_pred_xgb_tuned)],\n",
    "    'Precision': [precision_score(y_test, y_pred_log_reg_tuned, average='macro'), precision_score(y_test, y_pred_rf_tuned, average='macro'), precision_score(y_test, y_pred_xgb_tuned, average='macro')],\n",
    "    'Recall': [recall_score(y_test, y_pred_log_reg_tuned, average='macro'), recall_score(y_test, y_pred_rf_tuned, average='macro'), recall_score(y_test, y_pred_xgb_tuned, average='macro')],\n",
    "    'F1 Score': [f1_score(y_test, y_pred_log_reg_tuned, average='macro'), f1_score(y_test, y_pred_rf_tuned, average='macro'), f1_score(y_test, y_pred_xgb_tuned, average='macro')]\n",
    "})\n",
    "\n",
    "# Display the comparison\n",
    "print(results)\n",
    "\n",
    "# Plot the performance comparison\n",
    "results.set_index('Model').plot(kind='bar', figsize=(10, 6), colormap='viridis')\n",
    "plt.title('Model Comparison')\n",
    "plt.ylabel('Scores')\n",
    "plt.xticks(rotation=45)\n",
    "plt.show()"
   ]
  },
  {
   "cell_type": "markdown",
   "metadata": {},
   "source": [
    "Overall Insights:\n",
    "\n",
    "Model Performance: Logistic Regression and Random Forest achieved the same accuracy, but Logistic Regression had a slight edge in F1 Score, indicating a better balance between precision and recall.\n",
    "\n",
    "Room for Improvement: All models show relatively low recall, suggesting they may benefit from further tuning or different preprocessing strategies to capture more positive instances. Considering alternative approaches or additional features might help improve model performance."
   ]
  },
  {
   "cell_type": "markdown",
   "metadata": {},
   "source": [
    "# Recommendation and Conclusion"
   ]
  },
  {
   "cell_type": "markdown",
   "metadata": {},
   "source": [
    "# Key Findings\n",
    "\n",
    "Model Performance:\n",
    "\n",
    "The Logistic Regression model achieved the highest precision (0.597) while maintaining a competitive accuracy (0.673). Random Forest and XGBoost also performed similarly, with minor variances in precision and recall.\n",
    "Consumer Sentiment:\n",
    "\n",
    "The models indicate a balanced distribution of positive and negative sentiments, but further analysis is needed to pinpoint specific drivers of sentiment.\n",
    "Recall Metrics:\n",
    "\n",
    "Recall values for all models are below 0.5, indicating room for improvement in identifying positive sentiments. This suggests that the models may be missing significant positive sentiments, which is crucial for brand strategy."
   ]
  },
  {
   "cell_type": "markdown",
   "metadata": {},
   "source": [
    "# Recommendations\n",
    "\n",
    "Model Selection:\n",
    "\n",
    "While all models provide similar accuracy, Logistic Regression and Random Forest yield slightly better precision metrics. Given the importance of precision in identifying true positive sentiments, either model would be suitable for deployment. Consider Logistic Regression for its simplicity and interpretability.\n",
    "Enhancing Data Quality:\n",
    "\n",
    "Explore techniques to improve data preprocessing and feature extraction. Incorporating more sophisticated NLP techniques, such as word embeddings (e.g., Word2Vec, GloVe) or transformer models (e.g., BERT), can enhance sentiment classification accuracy and improve model performance.\n",
    "Tuning Hyperparameters:\n",
    "\n",
    "Continue experimenting with hyperparameter tuning to optimize the models further. Techniques such as Grid Search or Random Search could help identify more effective parameter settings.\n",
    "Implementing Feedback Loops:\n",
    "\n",
    "Establish feedback mechanisms to continually update and retrain the models based on new tweet data. This will help capture emerging trends and shifts in consumer sentiment over time.\n",
    "Utilizing Sentiment Trends:\n",
    "\n",
    "Analyze sentiment trends over time to identify specific periods of positive or negative sentiment. This analysis can inform marketing strategies and help in responding to consumer concerns effectively."
   ]
  },
  {
   "cell_type": "markdown",
   "metadata": {},
   "source": [
    "# Conclusion\n",
    "\n",
    "The project successfully developed sentiment classification models for analyzing consumer sentiment toward Apple and Google products. While the models provide a baseline for understanding sentiment, the recall scores suggest that there is a need for further refinement to enhance the identification of positive sentiments.\n",
    "\n",
    "The findings indicate that customer perceptions are nuanced, and the current models can assist in informing brand strategies but may require ongoing adjustments and improvements to fully capture consumer sentiment dynamics."
   ]
  },
  {
   "cell_type": "markdown",
   "metadata": {},
   "source": [
    "# Advice to Stakeholders\n",
    "\n",
    "Embrace Data-Driven Strategies: Leverage the insights gained from sentiment analysis to inform marketing campaigns, product development, and customer engagement strategies.\n",
    "Invest in Continuous Improvement: Allocate resources for continuous model updates and improvements to ensure the sentiment analysis remains relevant and accurately reflects customer perceptions.\n",
    "Engage with Customers: Use sentiment insights to foster dialogue with customers, addressing concerns and enhancing their experience with Apple and Google products. This proactive engagement can significantly improve brand loyalty and customer satisfaction.\n",
    "Monitor Competitors: Continuously analyze sentiment data not only for your brands but also for competitors. This competitive insight can further enhance strategic decision-making and market positioning"
   ]
  }
 ],
 "metadata": {
  "kernelspec": {
   "display_name": "learn-env",
   "language": "python",
   "name": "python3"
  },
  "language_info": {
   "codemirror_mode": {
    "name": "ipython",
    "version": 3
   },
   "file_extension": ".py",
   "mimetype": "text/x-python",
   "name": "python",
   "nbconvert_exporter": "python",
   "pygments_lexer": "ipython3",
   "version": "3.8.5"
  }
 },
 "nbformat": 4,
 "nbformat_minor": 2
}
