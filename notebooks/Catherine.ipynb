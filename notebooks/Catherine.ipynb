{
 "cells": [
  {
   "cell_type": "markdown",
   "metadata": {},
   "source": [
    "# Twitter Sentiment Analysis"
   ]
  },
  {
   "cell_type": "markdown",
   "metadata": {},
   "source": [
    "Introduction\n",
    "In today’s digital age, social media platforms like Twitter serve as a vital space for customers to express their opinions and sentiments regarding products and brands. As consumers increasingly turn to these platforms to voice their experiences, understanding the sentiment behind their tweets becomes crucial for businesses. This sentiment analysis project aims to analyze tweets related to Apple and Google products to gauge public perception, identify trends, and inform strategic decision-making. By employing advanced natural language processing (NLP) techniques, we can extract valuable insights from the vast volume of unstructured text data, enabling companies to enhance customer satisfaction and adapt to market demands effectively."
   ]
  },
  {
   "cell_type": "markdown",
   "metadata": {},
   "source": [
    "Objectives\n",
    "\n",
    "1. Understanding Customer Sentiment:\n",
    "\n",
    "To analyze the sentiment of tweets regarding Apple and Google products, providing a clear understanding of how consumers perceive these brands.\n",
    "\n",
    "2. Identifying Trends:\n",
    "\n",
    "To identify key trends and patterns in consumer sentiment over time, which can inform product development and marketing strategies.\n",
    "\n",
    "3. Improving Brand Strategy:\n",
    "\n",
    "To offer actionable insights that can help Apple and Google refine their customer engagement strategies, enhance product offerings, and address customer concerns effectively.\n",
    "\n",
    "4. Developing a Sentiment Classification Model:\n",
    "\n",
    "To build and validate a robust sentiment classification model that accurately categorizes tweets as positive, negative, or neutral.\n",
    "\n",
    "5. Enhancing Decision-Making:\n",
    "\n",
    "To equip stakeholders with data-driven insights that support strategic decision-making and improve overall customer satisfaction and brand loyalty."
   ]
  },
  {
   "cell_type": "markdown",
   "metadata": {},
   "source": [
    "# Data Preparation and cleaning\n"
   ]
  },
  {
   "cell_type": "code",
   "execution_count": 2,
   "metadata": {},
   "outputs": [
    {
     "name": "stdout",
     "output_type": "stream",
     "text": [
      "../data/judge-1377884607_tweet_product_company.csv\n"
     ]
    },
    {
     "data": {
      "text/html": [
       "<div>\n",
       "<style scoped>\n",
       "    .dataframe tbody tr th:only-of-type {\n",
       "        vertical-align: middle;\n",
       "    }\n",
       "\n",
       "    .dataframe tbody tr th {\n",
       "        vertical-align: top;\n",
       "    }\n",
       "\n",
       "    .dataframe thead th {\n",
       "        text-align: right;\n",
       "    }\n",
       "</style>\n",
       "<table border=\"1\" class=\"dataframe\">\n",
       "  <thead>\n",
       "    <tr style=\"text-align: right;\">\n",
       "      <th></th>\n",
       "      <th>tweet_text</th>\n",
       "      <th>emotion_in_tweet_is_directed_at</th>\n",
       "      <th>is_there_an_emotion_directed_at_a_brand_or_product</th>\n",
       "    </tr>\n",
       "  </thead>\n",
       "  <tbody>\n",
       "    <tr>\n",
       "      <th>0</th>\n",
       "      <td>.@wesley83 I have a 3G iPhone. After 3 hrs twe...</td>\n",
       "      <td>iPhone</td>\n",
       "      <td>Negative emotion</td>\n",
       "    </tr>\n",
       "    <tr>\n",
       "      <th>1</th>\n",
       "      <td>@jessedee Know about @fludapp ? Awesome iPad/i...</td>\n",
       "      <td>iPad or iPhone App</td>\n",
       "      <td>Positive emotion</td>\n",
       "    </tr>\n",
       "    <tr>\n",
       "      <th>2</th>\n",
       "      <td>@swonderlin Can not wait for #iPad 2 also. The...</td>\n",
       "      <td>iPad</td>\n",
       "      <td>Positive emotion</td>\n",
       "    </tr>\n",
       "    <tr>\n",
       "      <th>3</th>\n",
       "      <td>@sxsw I hope this year's festival isn't as cra...</td>\n",
       "      <td>iPad or iPhone App</td>\n",
       "      <td>Negative emotion</td>\n",
       "    </tr>\n",
       "    <tr>\n",
       "      <th>4</th>\n",
       "      <td>@sxtxstate great stuff on Fri #SXSW: Marissa M...</td>\n",
       "      <td>Google</td>\n",
       "      <td>Positive emotion</td>\n",
       "    </tr>\n",
       "  </tbody>\n",
       "</table>\n",
       "</div>"
      ],
      "text/plain": [
       "                                          tweet_text  \\\n",
       "0  .@wesley83 I have a 3G iPhone. After 3 hrs twe...   \n",
       "1  @jessedee Know about @fludapp ? Awesome iPad/i...   \n",
       "2  @swonderlin Can not wait for #iPad 2 also. The...   \n",
       "3  @sxsw I hope this year's festival isn't as cra...   \n",
       "4  @sxtxstate great stuff on Fri #SXSW: Marissa M...   \n",
       "\n",
       "  emotion_in_tweet_is_directed_at  \\\n",
       "0                          iPhone   \n",
       "1              iPad or iPhone App   \n",
       "2                            iPad   \n",
       "3              iPad or iPhone App   \n",
       "4                          Google   \n",
       "\n",
       "  is_there_an_emotion_directed_at_a_brand_or_product  \n",
       "0                                   Negative emotion  \n",
       "1                                   Positive emotion  \n",
       "2                                   Positive emotion  \n",
       "3                                   Negative emotion  \n",
       "4                                   Positive emotion  "
      ]
     },
     "execution_count": 2,
     "metadata": {},
     "output_type": "execute_result"
    }
   ],
   "source": [
    "import pandas as pd\n",
    "\n",
    "# Load the dataset\n",
    "file_path = '../data/judge-1377884607_tweet_product_company.csv'\n",
    "print(file_path)\n",
    "df = pd.read_csv(file_path, encoding='ISO-8859-1')\n",
    "df.head()"
   ]
  },
  {
   "cell_type": "markdown",
   "metadata": {},
   "source": [
    "The dataset contains the following columns:\n",
    "\n",
    "tweet_text: The actual tweet content.\n",
    "\n",
    "emotion_in_tweet_is_directed_at: The product or brand the tweet refers to (e.g., iPhone, iPad, Google).\n",
    "\n",
    "is_there_an_emotion_directed_at_a_brand_or_product: The sentiment associated with the tweet, either \"Positive emotion\" or \"Negative emotion.\""
   ]
  },
  {
   "cell_type": "markdown",
   "metadata": {},
   "source": [
    "# 1.2 check dataset information"
   ]
  },
  {
   "cell_type": "code",
   "execution_count": 3,
   "metadata": {},
   "outputs": [
    {
     "name": "stdout",
     "output_type": "stream",
     "text": [
      "<class 'pandas.core.frame.DataFrame'>\n",
      "RangeIndex: 9093 entries, 0 to 9092\n",
      "Data columns (total 3 columns):\n",
      " #   Column                                              Non-Null Count  Dtype \n",
      "---  ------                                              --------------  ----- \n",
      " 0   tweet_text                                          9092 non-null   object\n",
      " 1   emotion_in_tweet_is_directed_at                     3291 non-null   object\n",
      " 2   is_there_an_emotion_directed_at_a_brand_or_product  9093 non-null   object\n",
      "dtypes: object(3)\n",
      "memory usage: 213.2+ KB\n"
     ]
    }
   ],
   "source": [
    "df.info()"
   ]
  },
  {
   "cell_type": "markdown",
   "metadata": {},
   "source": [
    "The dataset has 4 columns \n",
    "1. tweeet_text, \n",
    "2. emotion_in tweet_is_directed_at,\n",
    "3. is_there_an_emotion_directed_at_a_brand-or_product\n",
    "4. classification"
   ]
  },
  {
   "cell_type": "markdown",
   "metadata": {},
   "source": [
    "# 1.3 Check for duplicates"
   ]
  },
  {
   "cell_type": "code",
   "execution_count": 4,
   "metadata": {},
   "outputs": [
    {
     "name": "stdout",
     "output_type": "stream",
     "text": [
      "Number of duplicate rows: 27\n"
     ]
    }
   ],
   "source": [
    "# check for duplicate rows i the dataset based on the tweet content\n",
    "duplicate_rows = df[df.duplicated(subset='tweet_text')]\n",
    "\n",
    "# Display the number of duplicate rows and some of the duplicates (if any)\n",
    "print(f\"Number of duplicate rows: {len(duplicate_rows)}\")"
   ]
  },
  {
   "cell_type": "markdown",
   "metadata": {},
   "source": [
    "# 1.4 Check for missing values"
   ]
  },
  {
   "cell_type": "code",
   "execution_count": 6,
   "metadata": {},
   "outputs": [
    {
     "data": {
      "text/plain": [
       "tweet_text                                               1\n",
       "emotion_in_tweet_is_directed_at                       5786\n",
       "is_there_an_emotion_directed_at_a_brand_or_product       0\n",
       "dtype: int64"
      ]
     },
     "execution_count": 6,
     "metadata": {},
     "output_type": "execute_result"
    }
   ],
   "source": [
    "# Check for missing values\n",
    "df.isna().sum()"
   ]
  },
  {
   "cell_type": "markdown",
   "metadata": {},
   "source": [
    "# 1.5 Check for unique values"
   ]
  },
  {
   "cell_type": "code",
   "execution_count": 7,
   "metadata": {},
   "outputs": [
    {
     "name": "stdout",
     "output_type": "stream",
     "text": [
      "tweet_text                                            9065\n",
      "emotion_in_tweet_is_directed_at                          9\n",
      "is_there_an_emotion_directed_at_a_brand_or_product       4\n",
      "dtype: int64\n"
     ]
    }
   ],
   "source": [
    "# Check for unique values in each column\n",
    "print(df.nunique())"
   ]
  },
  {
   "cell_type": "markdown",
   "metadata": {},
   "source": [
    "# 1.6 Visualize on target distribution"
   ]
  },
  {
   "cell_type": "code",
   "execution_count": 8,
   "metadata": {},
   "outputs": [
    {
     "name": "stdout",
     "output_type": "stream",
     "text": [
      "\n",
      "Target Variable Distribution:\n",
      "No emotion toward brand or product    5373\n",
      "Positive emotion                      2968\n",
      "Negative emotion                       569\n",
      "I can't tell                           156\n",
      "Name: is_there_an_emotion_directed_at_a_brand_or_product, dtype: int64\n"
     ]
    },
    {
     "data": {
      "image/png": "[encoded data removed]",
      "text/plain": [
       "<Figure size 432x288 with 1 Axes>"
      ]
     },
     "metadata": {
      "needs_background": "light"
     },
     "output_type": "display_data"
    }
   ],
   "source": [
    "import matplotlib.pyplot as plt\n",
    "%matplotlib inline\n",
    "import seaborn as sns\n",
    "\n",
    "# Checking the distribution of the target variable\n",
    "print(\"\\nTarget Variable Distribution:\")\n",
    "print(df['is_there_an_emotion_directed_at_a_brand_or_product'].value_counts())\n",
    "\n",
    "# Visualizing the target distribution\n",
    "plt.figure(figsize=(6,4))\n",
    "sns.countplot(x='is_there_an_emotion_directed_at_a_brand_or_product', data=df)\n",
    "plt.title('Distribution of Sentiment Labels')\n",
    "plt.xticks(rotation=90)\n",
    "plt.show()"
   ]
  },
  {
   "cell_type": "markdown",
   "metadata": {},
   "source": [
    "No emotion towards brand or product column has the most number of sentiments."
   ]
  },
  {
   "cell_type": "markdown",
   "metadata": {},
   "source": [
    "# 1.7 Visualize distribution of brands and products"
   ]
  },
  {
   "cell_type": "code",
   "execution_count": 9,
   "metadata": {},
   "outputs": [
    {
     "name": "stdout",
     "output_type": "stream",
     "text": [
      "\n",
      "Distribution of Products/Brands:\n",
      "iPad                               943\n",
      "Apple                              659\n",
      "iPad or iPhone App                 469\n",
      "Google                             428\n",
      "iPhone                             296\n",
      "Other Google product or service    293\n",
      "Android App                         80\n",
      "Android                             77\n",
      "Other Apple product or service      35\n",
      "Name: emotion_in_tweet_is_directed_at, dtype: int64\n"
     ]
    },
    {
     "data": {
      "image/png": "[encoded data removed]",
      "text/plain": [
       "<Figure size 720x432 with 1 Axes>"
      ]
     },
     "metadata": {
      "needs_background": "light"
     },
     "output_type": "display_data"
    }
   ],
   "source": [
    "# Distribution of products/brands mentioned in the tweets\n",
    "print(\"\\nDistribution of Products/Brands:\")\n",
    "print(df['emotion_in_tweet_is_directed_at'].value_counts())\n",
    "\n",
    "# Visualizing product mentions\n",
    "plt.figure(figsize=(10,6))\n",
    "df['emotion_in_tweet_is_directed_at'].value_counts().plot(kind='bar', color='skyblue')\n",
    "plt.title('Number of Tweets Mentioning Each Product/Brand')\n",
    "plt.xticks(rotation=90)\n",
    "plt.show()"
   ]
  },
  {
   "cell_type": "markdown",
   "metadata": {},
   "source": [
    "Ipad and apple has the most number of tweets mentioned towards product or brand."
   ]
  },
  {
   "cell_type": "markdown",
   "metadata": {},
   "source": [
    "# 1.8 Changing column names"
   ]
  },
  {
   "cell_type": "code",
   "execution_count": 10,
   "metadata": {},
   "outputs": [
    {
     "name": "stdout",
     "output_type": "stream",
     "text": [
      "<class 'pandas.core.frame.DataFrame'>\n",
      "Int64Index: 9066 entries, 0 to 9092\n",
      "Data columns (total 3 columns):\n",
      " #   Column   Non-Null Count  Dtype \n",
      "---  ------   --------------  ----- \n",
      " 0   tweet    9065 non-null   object\n",
      " 1   product  3280 non-null   object\n",
      " 2   target   9066 non-null   object\n",
      "dtypes: object(3)\n",
      "memory usage: 603.3+ KB\n",
      "None\n"
     ]
    }
   ],
   "source": [
    "# Rename the columns\n",
    "df.rename(columns={\n",
    "    'tweet_text': 'tweet',\n",
    "    'emotion_in_tweet_is_directed_at': 'product',\n",
    "    'is_there_an_emotion_directed_at_a_brand_or_product': 'target'\n",
    "}, inplace=True)\n",
    "\n",
    "print(df.info())"
   ]
  },
  {
   "cell_type": "code",
   "execution_count": 11,
   "metadata": {},
   "outputs": [
    {
     "data": {
      "text/plain": [
       "iPad                               943\n",
       "Apple                              659\n",
       "iPad or iPhone App                 469\n",
       "Google                             428\n",
       "iPhone                             296\n",
       "Other Google product or service    293\n",
       "Android App                         80\n",
       "Android                             77\n",
       "Other Apple product or service      35\n",
       "Name: product, dtype: int64"
      ]
     },
     "execution_count": 11,
     "metadata": {},
     "output_type": "execute_result"
    }
   ],
   "source": [
    "df['product'].value_counts()"
   ]
  },
  {
   "cell_type": "code",
   "execution_count": 12,
   "metadata": {},
   "outputs": [],
   "source": [
    "# impute missing values in the product with unknown\n",
    "df['product'] = df['product'].fillna('unknown')"
   ]
  },
  {
   "cell_type": "code",
   "execution_count": 14,
   "metadata": {},
   "outputs": [
    {
     "data": {
      "text/plain": [
       "tweet      0\n",
       "product    0\n",
       "target     0\n",
       "dtype: int64"
      ]
     },
     "execution_count": 14,
     "metadata": {},
     "output_type": "execute_result"
    }
   ],
   "source": [
    "# check for missing values after cleaning\n",
    "df_cleaned.isnull().sum()"
   ]
  },
  {
   "cell_type": "markdown",
   "metadata": {},
   "source": [
    "# 1.9 Handling missing tweets"
   ]
  },
  {
   "cell_type": "code",
   "execution_count": 13,
   "metadata": {},
   "outputs": [],
   "source": [
    "# Drop rows where the tweet_text is missing\n",
    "df_cleaned = df.dropna(subset=['tweet'])"
   ]
  },
  {
   "cell_type": "markdown",
   "metadata": {},
   "source": [
    "# 1.10 Drop unnecessary rows"
   ]
  },
  {
   "cell_type": "code",
   "execution_count": 16,
   "metadata": {},
   "outputs": [
    {
     "data": {
      "text/plain": [
       "No emotion toward brand or product    5372\n",
       "Positive emotion                      2968\n",
       "Negative emotion                       569\n",
       "I can't tell                           156\n",
       "Name: target, dtype: int64"
      ]
     },
     "execution_count": 16,
     "metadata": {},
     "output_type": "execute_result"
    }
   ],
   "source": [
    "df_cleaned['target'].value_counts()"
   ]
  },
  {
   "cell_type": "code",
   "execution_count": 17,
   "metadata": {},
   "outputs": [],
   "source": [
    "# Drop rows where the target is \"I can't tell\"\n",
    "df_cleaned= df_cleaned[df_cleaned['target'] != \"I can't tell\"]"
   ]
  },
  {
   "cell_type": "code",
   "execution_count": 18,
   "metadata": {},
   "outputs": [],
   "source": [
    "# Define a mapping for the target values\n",
    "mapping = {\n",
    "    'No emotion toward brand or product': 'Neutral',\n",
    "    'Positive emotion': 'Positive',\n",
    "    'Negative emotion': 'Negative'\n",
    "}\n",
    "\n",
    "# Replace the values in the target column\n",
    "df_cleaned['target'] = df_cleaned['target'].map(mapping)"
   ]
  },
  {
   "cell_type": "code",
   "execution_count": 19,
   "metadata": {},
   "outputs": [
    {
     "data": {
      "text/plain": [
       "Neutral     5372\n",
       "Positive    2968\n",
       "Negative     569\n",
       "Name: target, dtype: int64"
      ]
     },
     "execution_count": 19,
     "metadata": {},
     "output_type": "execute_result"
    }
   ],
   "source": [
    "df_cleaned['target'].value_counts()"
   ]
  },
  {
   "cell_type": "markdown",
   "metadata": {},
   "source": [
    "# Data preprocessing"
   ]
  },
  {
   "cell_type": "code",
   "execution_count": 20,
   "metadata": {},
   "outputs": [
    {
     "name": "stdout",
     "output_type": "stream",
     "text": [
      "                                               tweet  \\\n",
      "0  .@wesley83 I have a 3G iPhone. After 3 hrs twe...   \n",
      "1  @jessedee Know about @fludapp ? Awesome iPad/i...   \n",
      "2  @swonderlin Can not wait for #iPad 2 also. The...   \n",
      "3  @sxsw I hope this year's festival isn't as cra...   \n",
      "4  @sxtxstate great stuff on Fri #SXSW: Marissa M...   \n",
      "\n",
      "                                          clean_text  \n",
      "0  g iphone hrs tweeting riseaustin dead need upg...  \n",
      "1  know awesome ipadiphone app youll likely appre...  \n",
      "2                           wait ipad also sale sxsw  \n",
      "3  hope years festival isnt crashy years iphone a...  \n",
      "4  great stuff fri sxsw marissa mayer google tim ...  \n"
     ]
    },
    {
     "name": "stderr",
     "output_type": "stream",
     "text": [
      "[nltk_data] Downloading package stopwords to\n",
      "[nltk_data]     C:\\Users\\Catherine\\AppData\\Roaming\\nltk_data...\n",
      "[nltk_data]   Package stopwords is already up-to-date!\n"
     ]
    }
   ],
   "source": [
    "# Text cleaning: Remove\n",
    "import re\n",
    "import string\n",
    "import nltk\n",
    "from nltk.corpus import stopwords\n",
    "\n",
    "# Download the stopwords from NLTK\n",
    "nltk.download('stopwords')\n",
    "stop_words = set(stopwords.words('english'))\n",
    "\n",
    "def clean_text(text):\n",
    "    if isinstance(text, str):  # Proceed only if the input is a string\n",
    "        text = text.lower()  # convert to lowercase\n",
    "        text = re.sub(r'http\\S+|www\\S+|https\\S+', '', text, flags=re.MULTILINE)  # Remove URLs\n",
    "        text = re.sub(r'@\\w+', '', text)  # Remove mentions\n",
    "        text = re.sub(r'#', '', text)  # Remove hashtags\n",
    "        text = re.sub(r'[^a-zA-Z\\s]', '', text)  # Remove special characters\n",
    "        text = ' '.join([word for word in text.split() if word not in stop_words])  # Remove stopwords\n",
    "        text = text.strip()  # Strip leading/trailing whitespace\n",
    "    else:\n",
    "        text = ''  # If not a string, return an empty string\n",
    "    return text\n",
    "    \n",
    "# Apply the cleaning function to the 'tweet_text' column\n",
    "df_cleaned['clean_text'] = df['tweet'].apply(clean_text)\n",
    "\n",
    "# Preview cleaned tweets\n",
    "print(df_cleaned[['tweet', 'clean_text']].head())"
   ]
  },
  {
   "cell_type": "markdown",
   "metadata": {},
   "source": [
    "# Handling missing values\n"
   ]
  },
  {
   "cell_type": "code",
   "execution_count": 21,
   "metadata": {},
   "outputs": [
    {
     "name": "stdout",
     "output_type": "stream",
     "text": [
      "tweet         0\n",
      "product       0\n",
      "target        0\n",
      "clean_text    0\n",
      "dtype: int64\n"
     ]
    }
   ],
   "source": [
    "# Check for missing values in the dataset\n",
    "print(df_cleaned.isnull().sum())\n",
    "\n",
    "# Drop rows where 'tweet' is missing\n",
    "df_cleaned = df_cleaned.dropna(subset=['tweet'])"
   ]
  },
  {
   "cell_type": "markdown",
   "metadata": {},
   "source": [
    "# Tokenization and vectorization"
   ]
  },
  {
   "cell_type": "code",
   "execution_count": 22,
   "metadata": {},
   "outputs": [
    {
     "name": "stdout",
     "output_type": "stream",
     "text": [
      "(8909, 1000)\n"
     ]
    }
   ],
   "source": [
    "from sklearn.feature_extraction.text import TfidfVectorizer\n",
    "\n",
    "# Initialize the TF-IDF Vectorizer\n",
    "tfidf_vectorizer = TfidfVectorizer(max_features=1000, stop_words='english', ngram_range=(1, 2))\n",
    "\n",
    "# Fit and transform the 'clean_text' column\n",
    "X = tfidf_vectorizer.fit_transform(df_cleaned['clean_text'])\n",
    "\n",
    "# Display the TF-IDF features\n",
    "print(X.shape)  # Check the shape of the feature matrix"
   ]
  },
  {
   "cell_type": "markdown",
   "metadata": {},
   "source": [
    "# Label Encoding for sentiment binary case"
   ]
  },
  {
   "cell_type": "code",
   "execution_count": 24,
   "metadata": {},
   "outputs": [],
   "source": [
    "from sklearn.preprocessing import LabelEncoder\n",
    "\n",
    "# Encode target: Positive = 1, Negative = 0, \n",
    "label_encoder = LabelEncoder()\n",
    "df_cleaned['target_label'] = label_encoder.fit_transform(df_cleaned['target'])  # Adjust based on your column name"
   ]
  },
  {
   "cell_type": "code",
   "execution_count": 20,
   "metadata": {},
   "outputs": [],
   "source": [
    "# simplify sentiment labels to positive and negative\n",
    "df_cleaned = df_cleaned.copy()\n",
    "df_cleaned['sentiment'] = df_cleaned['is_there_an_emotion_directed_at_a_brand_or_product'].apply(\n",
    "    lambda x: 'Positive' if 'Positive' in x else 'Negative'\n",
    ")"
   ]
  }
 ],
 "metadata": {
  "kernelspec": {
   "display_name": "learn-env",
   "language": "python",
   "name": "python3"
  },
  "language_info": {
   "codemirror_mode": {
    "name": "ipython",
    "version": 3
   },
   "file_extension": ".py",
   "mimetype": "text/x-python",
   "name": "python",
   "nbconvert_exporter": "python",
   "pygments_lexer": "ipython3",
   "version": "3.8.5"
  }
 },
 "nbformat": 4,
 "nbformat_minor": 2
}
