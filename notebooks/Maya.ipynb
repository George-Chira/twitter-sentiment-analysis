{
 "cells": [
  {
   "cell_type": "code",
   "execution_count": 24,
   "metadata": {},
   "outputs": [],
   "source": [
    "import pandas as pd\n",
    "import numpy as np\n",
    "import matplotlib.pyplot as plt\n",
    "import seaborn as sns\n",
    "import re\n",
    "import nltk\n",
    "from wordcloud import WordCloud\n",
    "from collections import Counter\n",
    "from sklearn.model_selection import train_test_split, cross_val_score, GridSearchCV\n",
    "from sklearn.metrics import classification_report, confusion_matrix, roc_auc_score, roc_curve, accuracy_score\n",
    "from sklearn.feature_extraction.text import CountVectorizer, TfidfVectorizer\n",
    "from sklearn.linear_model import LogisticRegression\n",
    "from sklearn.naive_bayes import MultinomialNB\n",
    "from sklearn.svm import SVC\n",
    "from sklearn.ensemble import RandomForestClassifier\n",
    "from sklearn.pipeline import Pipeline\n",
    "from sklearn.preprocessing import LabelEncoder\n",
    "from nltk.corpus import stopwords\n",
    "from nltk.tokenize import word_tokenize\n",
    "from nltk.stem import WordNetLemmatizer\n",
    "\n",
    "%matplotlib inline"
   ]
  },
  {
   "cell_type": "code",
   "execution_count": 16,
   "metadata": {},
   "outputs": [],
   "source": [
    "# Load the dataset\n",
    "df = pd.read_csv('../data/judge-1377884607_tweet_product_company.csv',encoding='ISO-8859-1')"
   ]
  },
  {
   "cell_type": "markdown",
   "metadata": {},
   "source": [
    "### **1.0 Data Understanding**"
   ]
  },
  {
   "cell_type": "code",
   "execution_count": 17,
   "metadata": {},
   "outputs": [
    {
     "name": "stdout",
     "output_type": "stream",
     "text": [
      "Initial Data Overview:\n"
     ]
    },
    {
     "data": {
      "text/html": [
       "<div>\n",
       "<style scoped>\n",
       "    .dataframe tbody tr th:only-of-type {\n",
       "        vertical-align: middle;\n",
       "    }\n",
       "\n",
       "    .dataframe tbody tr th {\n",
       "        vertical-align: top;\n",
       "    }\n",
       "\n",
       "    .dataframe thead th {\n",
       "        text-align: right;\n",
       "    }\n",
       "</style>\n",
       "<table border=\"1\" class=\"dataframe\">\n",
       "  <thead>\n",
       "    <tr style=\"text-align: right;\">\n",
       "      <th></th>\n",
       "      <th>tweet_text</th>\n",
       "      <th>emotion_in_tweet_is_directed_at</th>\n",
       "      <th>is_there_an_emotion_directed_at_a_brand_or_product</th>\n",
       "    </tr>\n",
       "  </thead>\n",
       "  <tbody>\n",
       "    <tr>\n",
       "      <th>0</th>\n",
       "      <td>.@wesley83 I have a 3G iPhone. After 3 hrs twe...</td>\n",
       "      <td>iPhone</td>\n",
       "      <td>Negative emotion</td>\n",
       "    </tr>\n",
       "    <tr>\n",
       "      <th>1</th>\n",
       "      <td>@jessedee Know about @fludapp ? Awesome iPad/i...</td>\n",
       "      <td>iPad or iPhone App</td>\n",
       "      <td>Positive emotion</td>\n",
       "    </tr>\n",
       "    <tr>\n",
       "      <th>2</th>\n",
       "      <td>@swonderlin Can not wait for #iPad 2 also. The...</td>\n",
       "      <td>iPad</td>\n",
       "      <td>Positive emotion</td>\n",
       "    </tr>\n",
       "    <tr>\n",
       "      <th>3</th>\n",
       "      <td>@sxsw I hope this year's festival isn't as cra...</td>\n",
       "      <td>iPad or iPhone App</td>\n",
       "      <td>Negative emotion</td>\n",
       "    </tr>\n",
       "    <tr>\n",
       "      <th>4</th>\n",
       "      <td>@sxtxstate great stuff on Fri #SXSW: Marissa M...</td>\n",
       "      <td>Google</td>\n",
       "      <td>Positive emotion</td>\n",
       "    </tr>\n",
       "    <tr>\n",
       "      <th>...</th>\n",
       "      <td>...</td>\n",
       "      <td>...</td>\n",
       "      <td>...</td>\n",
       "    </tr>\n",
       "    <tr>\n",
       "      <th>9088</th>\n",
       "      <td>Ipad everywhere. #SXSW {link}</td>\n",
       "      <td>iPad</td>\n",
       "      <td>Positive emotion</td>\n",
       "    </tr>\n",
       "    <tr>\n",
       "      <th>9089</th>\n",
       "      <td>Wave, buzz... RT @mention We interrupt your re...</td>\n",
       "      <td>NaN</td>\n",
       "      <td>No emotion toward brand or product</td>\n",
       "    </tr>\n",
       "    <tr>\n",
       "      <th>9090</th>\n",
       "      <td>Google's Zeiger, a physician never reported po...</td>\n",
       "      <td>NaN</td>\n",
       "      <td>No emotion toward brand or product</td>\n",
       "    </tr>\n",
       "    <tr>\n",
       "      <th>9091</th>\n",
       "      <td>Some Verizon iPhone customers complained their...</td>\n",
       "      <td>NaN</td>\n",
       "      <td>No emotion toward brand or product</td>\n",
       "    </tr>\n",
       "    <tr>\n",
       "      <th>9092</th>\n",
       "      <td>Ï¡Ïàü_ÊÎÒ£Áââ_£â_ÛâRT @...</td>\n",
       "      <td>NaN</td>\n",
       "      <td>No emotion toward brand or product</td>\n",
       "    </tr>\n",
       "  </tbody>\n",
       "</table>\n",
       "<p>9093 rows × 3 columns</p>\n",
       "</div>"
      ],
      "text/plain": [
       "                                             tweet_text  \\\n",
       "0     .@wesley83 I have a 3G iPhone. After 3 hrs twe...   \n",
       "1     @jessedee Know about @fludapp ? Awesome iPad/i...   \n",
       "2     @swonderlin Can not wait for #iPad 2 also. The...   \n",
       "3     @sxsw I hope this year's festival isn't as cra...   \n",
       "4     @sxtxstate great stuff on Fri #SXSW: Marissa M...   \n",
       "...                                                 ...   \n",
       "9088                      Ipad everywhere. #SXSW {link}   \n",
       "9089  Wave, buzz... RT @mention We interrupt your re...   \n",
       "9090  Google's Zeiger, a physician never reported po...   \n",
       "9091  Some Verizon iPhone customers complained their...   \n",
       "9092  Ï¡Ïàü_ÊÎÒ£Áââ_£â_ÛâRT @...   \n",
       "\n",
       "     emotion_in_tweet_is_directed_at  \\\n",
       "0                             iPhone   \n",
       "1                 iPad or iPhone App   \n",
       "2                               iPad   \n",
       "3                 iPad or iPhone App   \n",
       "4                             Google   \n",
       "...                              ...   \n",
       "9088                            iPad   \n",
       "9089                             NaN   \n",
       "9090                             NaN   \n",
       "9091                             NaN   \n",
       "9092                             NaN   \n",
       "\n",
       "     is_there_an_emotion_directed_at_a_brand_or_product  \n",
       "0                                      Negative emotion  \n",
       "1                                      Positive emotion  \n",
       "2                                      Positive emotion  \n",
       "3                                      Negative emotion  \n",
       "4                                      Positive emotion  \n",
       "...                                                 ...  \n",
       "9088                                   Positive emotion  \n",
       "9089                 No emotion toward brand or product  \n",
       "9090                 No emotion toward brand or product  \n",
       "9091                 No emotion toward brand or product  \n",
       "9092                 No emotion toward brand or product  \n",
       "\n",
       "[9093 rows x 3 columns]"
      ]
     },
     "execution_count": 17,
     "metadata": {},
     "output_type": "execute_result"
    }
   ],
   "source": [
    "# Data Overview\n",
    "print(\"Initial Data Overview:\")\n",
    "df"
   ]
  },
  {
   "cell_type": "code",
   "execution_count": 18,
   "metadata": {},
   "outputs": [
    {
     "name": "stdout",
     "output_type": "stream",
     "text": [
      "\n",
      "Dataset Information:\n",
      "<class 'pandas.core.frame.DataFrame'>\n",
      "RangeIndex: 9093 entries, 0 to 9092\n",
      "Data columns (total 3 columns):\n",
      " #   Column                                              Non-Null Count  Dtype \n",
      "---  ------                                              --------------  ----- \n",
      " 0   tweet_text                                          9092 non-null   object\n",
      " 1   emotion_in_tweet_is_directed_at                     3291 non-null   object\n",
      " 2   is_there_an_emotion_directed_at_a_brand_or_product  9093 non-null   object\n",
      "dtypes: object(3)\n",
      "memory usage: 213.2+ KB\n"
     ]
    }
   ],
   "source": [
    "# Basic information about the dataset\n",
    "print(\"\\nDataset Information:\")\n",
    "df.info()"
   ]
  },
  {
   "cell_type": "code",
   "execution_count": 19,
   "metadata": {},
   "outputs": [
    {
     "name": "stdout",
     "output_type": "stream",
     "text": [
      "\n",
      "Unique values in each column:\n",
      "tweet_text                                            9065\n",
      "emotion_in_tweet_is_directed_at                          9\n",
      "is_there_an_emotion_directed_at_a_brand_or_product       4\n",
      "dtype: int64\n"
     ]
    }
   ],
   "source": [
    "# Check for unique values in each column\n",
    "print(\"\\nUnique values in each column:\")\n",
    "print(df.nunique())"
   ]
  },
  {
   "cell_type": "code",
   "execution_count": 20,
   "metadata": {},
   "outputs": [
    {
     "name": "stdout",
     "output_type": "stream",
     "text": [
      "\n",
      "Missing values per column:\n",
      "tweet_text                                               1\n",
      "emotion_in_tweet_is_directed_at                       5802\n",
      "is_there_an_emotion_directed_at_a_brand_or_product       0\n",
      "dtype: int64\n"
     ]
    }
   ],
   "source": [
    "# Check for missing values\n",
    "print(\"\\nMissing values per column:\")\n",
    "print(df.isnull().sum())"
   ]
  },
  {
   "cell_type": "code",
   "execution_count": 21,
   "metadata": {},
   "outputs": [
    {
     "name": "stdout",
     "output_type": "stream",
     "text": [
      "\n",
      "Number of duplicate tweets: 46\n",
      "Sample Duplicate Tweets:\n",
      "                                           tweet_text  \\\n",
      "7   #SXSW is just starting, #CTIA is around the co...   \n",
      "9   Counting down the days to #sxsw plus strong Ca...   \n",
      "17  I just noticed DST is coming this weekend. How...   \n",
      "20  Need to buy an iPad2 while I'm in Austin at #s...   \n",
      "21  Oh. My. God. The #SXSW app for iPad is pure, u...   \n",
      "\n",
      "   emotion_in_tweet_is_directed_at  \\\n",
      "7                          Android   \n",
      "9                            Apple   \n",
      "17                          iPhone   \n",
      "20                            iPad   \n",
      "21              iPad or iPhone App   \n",
      "\n",
      "   is_there_an_emotion_directed_at_a_brand_or_product  \n",
      "7                                    Positive emotion  \n",
      "9                                    Positive emotion  \n",
      "17                                   Negative emotion  \n",
      "20                                   Positive emotion  \n",
      "21                                   Positive emotion  \n"
     ]
    }
   ],
   "source": [
    "# Checking for duplicates\n",
    "duplicates = df.duplicated(subset=['tweet_text'], keep=False)\n",
    "print(f\"\\nNumber of duplicate tweets: {duplicates.sum()}\")\n",
    "if duplicates.sum() > 0:\n",
    "    print(\"Sample Duplicate Tweets:\")\n",
    "    print(df[duplicates][['tweet_text', 'emotion_in_tweet_is_directed_at', 'is_there_an_emotion_directed_at_a_brand_or_product']].head())"
   ]
  },
  {
   "cell_type": "code",
   "execution_count": 22,
   "metadata": {},
   "outputs": [
    {
     "name": "stdout",
     "output_type": "stream",
     "text": [
      "\n",
      "Target Variable Distribution:\n",
      "is_there_an_emotion_directed_at_a_brand_or_product\n",
      "No emotion toward brand or product    5389\n",
      "Positive emotion                      2978\n",
      "Negative emotion                       570\n",
      "I can't tell                           156\n",
      "Name: count, dtype: int64\n"
     ]
    },
    {
     "data": {
      "image/png": "[encoded data removed]",
      "text/plain": [
       "<Figure size 600x400 with 1 Axes>"
      ]
     },
     "metadata": {},
     "output_type": "display_data"
    }
   ],
   "source": [
    "# Checking the distribution of the target variable\n",
    "print(\"\\nTarget Variable Distribution:\")\n",
    "print(df['is_there_an_emotion_directed_at_a_brand_or_product'].value_counts())\n",
    "\n",
    "# Visualizing the target distribution\n",
    "plt.figure(figsize=(6,4))\n",
    "sns.countplot(x='is_there_an_emotion_directed_at_a_brand_or_product', data=df)\n",
    "plt.title('Distribution of Sentiment Labels')\n",
    "plt.xticks(rotation=90)\n",
    "plt.show()\n"
   ]
  },
  {
   "cell_type": "code",
   "execution_count": 23,
   "metadata": {},
   "outputs": [
    {
     "name": "stdout",
     "output_type": "stream",
     "text": [
      "\n",
      "Distribution of Products/Brands:\n",
      "emotion_in_tweet_is_directed_at\n",
      "iPad                               946\n",
      "Apple                              661\n",
      "iPad or iPhone App                 470\n",
      "Google                             430\n",
      "iPhone                             297\n",
      "Other Google product or service    293\n",
      "Android App                         81\n",
      "Android                             78\n",
      "Other Apple product or service      35\n",
      "Name: count, dtype: int64\n"
     ]
    },
    {
     "data": {
      "image/png": "[encoded data removed]",
      "text/plain": [
       "<Figure size 1000x600 with 1 Axes>"
      ]
     },
     "metadata": {},
     "output_type": "display_data"
    }
   ],
   "source": [
    "# Distribution of products/brands mentioned in the tweets\n",
    "print(\"\\nDistribution of Products/Brands:\")\n",
    "print(df['emotion_in_tweet_is_directed_at'].value_counts())\n",
    "\n",
    "# Visualizing product mentions\n",
    "plt.figure(figsize=(10,6))\n",
    "df['emotion_in_tweet_is_directed_at'].value_counts().plot(kind='bar', color='skyblue')\n",
    "plt.title('Number of Tweets Mentioning Each Product/Brand')\n",
    "plt.xticks(rotation=90)\n",
    "plt.show()"
   ]
  },
  {
   "cell_type": "markdown",
   "metadata": {},
   "source": [
    "### **2.0 Data Cleaning**"
   ]
  },
  {
   "cell_type": "markdown",
   "metadata": {},
   "source": [
    "##### **2.1 Changing Column Names**"
   ]
  },
  {
   "cell_type": "code",
   "execution_count": 28,
   "metadata": {},
   "outputs": [
    {
     "name": "stdout",
     "output_type": "stream",
     "text": [
      "<class 'pandas.core.frame.DataFrame'>\n",
      "RangeIndex: 9093 entries, 0 to 9092\n",
      "Data columns (total 3 columns):\n",
      " #   Column   Non-Null Count  Dtype \n",
      "---  ------   --------------  ----- \n",
      " 0   tweet    9092 non-null   object\n",
      " 1   product  3291 non-null   object\n",
      " 2   target   9093 non-null   object\n",
      "dtypes: object(3)\n",
      "memory usage: 213.2+ KB\n",
      "None\n"
     ]
    }
   ],
   "source": [
    "# Rename the columns\n",
    "df.rename(columns={\n",
    "    'tweet_text': 'tweet',\n",
    "    'emotion_in_tweet_is_directed_at': 'product',\n",
    "    'is_there_an_emotion_directed_at_a_brand_or_product': 'target'\n",
    "}, inplace=True)\n",
    "\n",
    "print(df.info())"
   ]
  },
  {
   "cell_type": "markdown",
   "metadata": {},
   "source": [
    "##### **2.1 Handling Missing Values**"
   ]
  },
  {
   "cell_type": "code",
   "execution_count": 29,
   "metadata": {},
   "outputs": [
    {
     "name": "stdout",
     "output_type": "stream",
     "text": [
      "\n",
      "Missing Values before cleaning:\n",
      "tweet         1\n",
      "product    5802\n",
      "target        0\n",
      "dtype: int64\n"
     ]
    }
   ],
   "source": [
    "# Checking the number of missing values before cleaning\n",
    "print(\"\\nMissing Values before cleaning:\")\n",
    "print(df.isnull().sum())"
   ]
  },
  {
   "cell_type": "code",
   "execution_count": 33,
   "metadata": {},
   "outputs": [
    {
     "data": {
      "text/plain": [
       "product\n",
       "iPad                               946\n",
       "Apple                              661\n",
       "iPad or iPhone App                 470\n",
       "Google                             430\n",
       "iPhone                             297\n",
       "Other Google product or service    293\n",
       "Android App                         81\n",
       "Android                             78\n",
       "Other Apple product or service      35\n",
       "Name: count, dtype: int64"
      ]
     },
     "execution_count": 33,
     "metadata": {},
     "output_type": "execute_result"
    }
   ],
   "source": [
    "df['product'].value_counts()"
   ]
  },
  {
   "cell_type": "code",
   "execution_count": 34,
   "metadata": {},
   "outputs": [],
   "source": [
    "# Impute missing values in the 'product' column with \"Unknown\"\n",
    "df['product'].fillna(\"Unknown\", inplace=True)"
   ]
  },
  {
   "cell_type": "code",
   "execution_count": 36,
   "metadata": {},
   "outputs": [],
   "source": [
    "# Drop rows where the tweet_text is missing (since no text is unusable)\n",
    "df_cleaned = df.dropna(subset=['tweet'])"
   ]
  },
  {
   "cell_type": "code",
   "execution_count": 37,
   "metadata": {},
   "outputs": [
    {
     "name": "stdout",
     "output_type": "stream",
     "text": [
      "\n",
      "Missing Values after cleaning:\n",
      "tweet      0\n",
      "product    0\n",
      "target     0\n",
      "dtype: int64\n",
      "\n",
      "Dataset shape after removing missing values: (9092, 3)\n"
     ]
    }
   ],
   "source": [
    "# Checking if there are any remaining missing values\n",
    "print(\"\\nMissing Values after cleaning:\")\n",
    "print(df_cleaned.isnull().sum())\n",
    "\n",
    "# Shape of the cleaned dataset\n",
    "print(f\"\\nDataset shape after removing missing values: {df_cleaned.shape}\")"
   ]
  },
  {
   "cell_type": "markdown",
   "metadata": {},
   "source": [
    "##### **2.3 Handling Duplicates**"
   ]
  },
  {
   "cell_type": "code",
   "execution_count": 39,
   "metadata": {},
   "outputs": [
    {
     "name": "stdout",
     "output_type": "stream",
     "text": [
      "\n",
      "Number of duplicate tweets after cleaning: 46\n",
      "Duplicates dropped. Remaining shape: (9065, 3)\n"
     ]
    }
   ],
   "source": [
    "# Checking for duplicates again after dropping nulls\n",
    "duplicates_cleaned = df_cleaned.duplicated(subset=['tweet'], keep=False)\n",
    "print(f\"\\nNumber of duplicate tweets before cleaning: {duplicates_cleaned.sum()}\")\n",
    "if duplicates_cleaned.sum() > 0:\n",
    "    df_cleaned = df_cleaned.drop_duplicates(subset=['tweet'])\n",
    "    print(f\"Duplicates dropped. Remaining shape: {df_cleaned.shape}\")"
   ]
  },
  {
   "cell_type": "markdown",
   "metadata": {},
   "source": [
    "##### **2.4 Handling Corrupted Data**"
   ]
  },
  {
   "cell_type": "code",
   "execution_count": 41,
   "metadata": {},
   "outputs": [
    {
     "name": "stdout",
     "output_type": "stream",
     "text": [
      "\n",
      "Sample tweets containing unusual characters or non-English text:\n",
      "                                                tweet  \\\n",
      "38  @mention  - False Alarm: Google Circles Not Co...   \n",
      "41  HootSuite - HootSuite Mobile for #SXSW ~ Updat...   \n",
      "42  Hey #SXSW - How long do you think it takes us ...   \n",
      "45  #IPad2 's Û÷#SmartCoverÛª Opens to Instant A...   \n",
      "46  Hand-Held Û÷HoboÛª: Drafthouse launches Û÷H...   \n",
      "\n",
      "                                target  \n",
      "38                    Negative emotion  \n",
      "41  No emotion toward brand or product  \n",
      "42  No emotion toward brand or product  \n",
      "45                    Positive emotion  \n",
      "46                    Positive emotion  \n"
     ]
    }
   ],
   "source": [
    "# Identifying tweets with unusual characters or non-English text\n",
    "unusual_tweets = df_cleaned[df_cleaned['tweet'].apply(lambda x: any(ord(char) > 128 for char in x))]\n",
    "print(\"\\nSample tweets containing unusual characters or non-English text:\")\n",
    "print(unusual_tweets[['tweet', 'target']].head())"
   ]
  },
  {
   "cell_type": "code",
   "execution_count": 42,
   "metadata": {},
   "outputs": [
    {
     "name": "stdout",
     "output_type": "stream",
     "text": [
      "\n",
      "Dataset shape after removing unusual characters: (8582, 3)\n"
     ]
    }
   ],
   "source": [
    "# Removing rows with non-English or malformed tweets\n",
    "df_cleaned = df_cleaned[~df_cleaned['tweet'].apply(lambda x: any(ord(char) > 128 for char in x))]\n",
    "\n",
    "# Shape of the dataset after removing unusual characters\n",
    "print(f\"\\nDataset shape after removing unusual characters: {df_cleaned.shape}\")"
   ]
  },
  {
   "cell_type": "markdown",
   "metadata": {},
   "source": [
    "##### **2.5 Checking for Emojis**"
   ]
  },
  {
   "cell_type": "code",
   "execution_count": 43,
   "metadata": {},
   "outputs": [
    {
     "name": "stdout",
     "output_type": "stream",
     "text": [
      "Empty DataFrame\n",
      "Columns: [tweet, product, target]\n",
      "Index: []\n"
     ]
    }
   ],
   "source": [
    "# Function to check for emojis\n",
    "def contains_emoji(text):\n",
    "    emoji_pattern = re.compile(\"[\\U0001F600-\\U0001F64F\"  # emoticons\n",
    "                                 \"\\U0001F300-\\U0001F5FF\"  # symbols & pictographs\n",
    "                                 \"\\U0001F680-\\U0001F6FF\"  # transport & map symbols\n",
    "                                 \"\\U0001F700-\\U0001F77F\"  # alchemical symbols\n",
    "                                 \"\\U0001F780-\\U0001F7FF\"  # Geometric Shapes Extended\n",
    "                                 \"\\U0001F800-\\U0001F8FF\"  # Supplemental Arrows-C\n",
    "                                 \"\\U0001F900-\\U0001F9FF\"  # Supplemental Symbols and Pictographs\n",
    "                                 \"\\U0001FA00-\\U0001FA6F\"  # Chess Symbols\n",
    "                                 \"\\U0001FA70-\\U0001FAFF\"  # Symbols and Pictographs Extended-A\n",
    "                                 \"\\u2600-\\u26FF\"          # Miscellaneous Symbols\n",
    "                                 \"\\u2700-\\u27BF\"          # Dingbats\n",
    "                                 \"]+\", flags=re.UNICODE)\n",
    "    return bool(emoji_pattern.search(text))\n",
    "\n",
    "# Filter rows containing emojis\n",
    "emoji_rows = df_cleaned[df_cleaned['tweet'].apply(lambda x: contains_emoji(x) if pd.notnull(x) else False)]\n",
    "\n",
    "print(emoji_rows)"
   ]
  },
  {
   "cell_type": "markdown",
   "metadata": {},
   "source": [
    "##### **2.6 Dropping Unecessary Rows**"
   ]
  },
  {
   "cell_type": "code",
   "execution_count": 45,
   "metadata": {},
   "outputs": [
    {
     "data": {
      "text/plain": [
       "target\n",
       "No emotion toward brand or product    5068\n",
       "Positive emotion                      2823\n",
       "Negative emotion                       543\n",
       "I can't tell                           148\n",
       "Name: count, dtype: int64"
      ]
     },
     "execution_count": 45,
     "metadata": {},
     "output_type": "execute_result"
    }
   ],
   "source": [
    "df_cleaned['target'].value_counts()"
   ]
  },
  {
   "cell_type": "code",
   "execution_count": 46,
   "metadata": {},
   "outputs": [],
   "source": [
    "# Drop rows where the target is \"I can't tell\"\n",
    "df_cleaned = df_cleaned[df_cleaned['target'] != \"I can't tell\"]"
   ]
  },
  {
   "cell_type": "code",
   "execution_count": 52,
   "metadata": {},
   "outputs": [
    {
     "name": "stdout",
     "output_type": "stream",
     "text": [
      "                                                  tweet             product  \\\n",
      "0     .@wesley83 I have a 3G iPhone. After 3 hrs twe...              iPhone   \n",
      "1     @jessedee Know about @fludapp ? Awesome iPad/i...  iPad or iPhone App   \n",
      "2     @swonderlin Can not wait for #iPad 2 also. The...                iPad   \n",
      "3     @sxsw I hope this year's festival isn't as cra...  iPad or iPhone App   \n",
      "4     @sxtxstate great stuff on Fri #SXSW: Marissa M...              Google   \n",
      "...                                                 ...                 ...   \n",
      "9088                      Ipad everywhere. #SXSW {link}                iPad   \n",
      "9089  Wave, buzz... RT @mention We interrupt your re...             Unknown   \n",
      "9090  Google's Zeiger, a physician never reported po...             Unknown   \n",
      "9091  Some Verizon iPhone customers complained their...             Unknown   \n",
      "9092  Ï¡Ïàü_ÊÎÒ£Áââ_£â_ÛâRT @...             Unknown   \n",
      "\n",
      "        target  \n",
      "0     Negative  \n",
      "1     Positive  \n",
      "2     Positive  \n",
      "3     Negative  \n",
      "4     Positive  \n",
      "...        ...  \n",
      "9088  Positive  \n",
      "9089   Neutral  \n",
      "9090   Neutral  \n",
      "9091   Neutral  \n",
      "9092   Neutral  \n",
      "\n",
      "[9093 rows x 3 columns]\n"
     ]
    }
   ],
   "source": [
    "# Define a mapping for the target values\n",
    "mapping = {\n",
    "    'No emotion toward brand or product': 'Neutral',\n",
    "    'Positive emotion': 'Positive',\n",
    "    'Negative emotion': 'Negative'\n",
    "}\n",
    "\n",
    "# Replace the values in the target column\n",
    "df_cleaned['target'] = df_cleaned['target'].map(mapping)"
   ]
  },
  {
   "cell_type": "code",
   "execution_count": 53,
   "metadata": {},
   "outputs": [
    {
     "data": {
      "text/plain": [
       "target\n",
       "Neutral     5068\n",
       "Positive    2823\n",
       "Negative     543\n",
       "Name: count, dtype: int64"
      ]
     },
     "execution_count": 53,
     "metadata": {},
     "output_type": "execute_result"
    }
   ],
   "source": [
    "df_cleaned['target'].value_counts()"
   ]
  },
  {
   "cell_type": "code",
   "execution_count": 47,
   "metadata": {},
   "outputs": [
    {
     "name": "stdout",
     "output_type": "stream",
     "text": [
      "<class 'pandas.core.frame.DataFrame'>\n",
      "Index: 8434 entries, 0 to 9091\n",
      "Data columns (total 3 columns):\n",
      " #   Column   Non-Null Count  Dtype \n",
      "---  ------   --------------  ----- \n",
      " 0   tweet    8434 non-null   object\n",
      " 1   product  8434 non-null   object\n",
      " 2   target   8434 non-null   object\n",
      "dtypes: object(3)\n",
      "memory usage: 263.6+ KB\n"
     ]
    }
   ],
   "source": [
    "df_cleaned.info()"
   ]
  },
  {
   "cell_type": "markdown",
   "metadata": {},
   "source": [
    "##### **2.7 Cleaning the Tweet Column**"
   ]
  },
  {
   "cell_type": "code",
   "execution_count": 48,
   "metadata": {},
   "outputs": [
    {
     "name": "stdout",
     "output_type": "stream",
     "text": [
      "\n",
      "Sample Cleaned Tweets:\n",
      "                                               tweet  \\\n",
      "0  .@wesley83 I have a 3G iPhone. After 3 hrs twe...   \n",
      "1  @jessedee Know about @fludapp ? Awesome iPad/i...   \n",
      "2  @swonderlin Can not wait for #iPad 2 also. The...   \n",
      "3  @sxsw I hope this year's festival isn't as cra...   \n",
      "4  @sxtxstate great stuff on Fri #SXSW: Marissa M...   \n",
      "\n",
      "                                        cleaned_text  \n",
      "0    i have a g iphone after  hrs tweeting at   i...  \n",
      "1    know about    awesome ipadiphone app that yo...  \n",
      "2    can not wait for    also they should sale th...  \n",
      "3    i hope this years festival isnt as crashy as...  \n",
      "4    great stuff on fri   marissa mayer google ti...  \n"
     ]
    }
   ],
   "source": [
    "# Removing URLs, punctuation, special characters, and converting text to lowercase\n",
    "def clean_text(text):\n",
    "    # Remove URLs\n",
    "    text = re.sub(r'http\\S+|www\\S+|https\\S+', '', text, flags=re.MULTILINE)\n",
    "    # Remove user @ references and '#' from tweet text\n",
    "    text = re.sub(r'@\\w+|#\\w+|\\{link\\}|\\{mention\\}', \" \", text)\n",
    "    # Remove special characters and punctuation\n",
    "    text = re.sub(r'[^A-Za-z\\s]', '', text)\n",
    "    # Convert to lowercase\n",
    "    text = text.lower()\n",
    "    return text\n",
    "\n",
    "df_cleaned['cleaned_text'] = df_cleaned['tweet'].apply(clean_text)\n",
    "\n",
    "# Displaying some cleaned tweets\n",
    "print(\"\\nSample Cleaned Tweets:\")\n",
    "print(df_cleaned[['tweet', 'cleaned_text']].head())"
   ]
  },
  {
   "cell_type": "code",
   "execution_count": 54,
   "metadata": {},
   "outputs": [
    {
     "name": "stdout",
     "output_type": "stream",
     "text": [
      "\n",
      "Sample Cleaned Tweets without stopwords:\n",
      "                                               tweet  \\\n",
      "0  .@wesley83 I have a 3G iPhone. After 3 hrs twe...   \n",
      "1  @jessedee Know about @fludapp ? Awesome iPad/i...   \n",
      "2  @swonderlin Can not wait for #iPad 2 also. The...   \n",
      "3  @sxsw I hope this year's festival isn't as cra...   \n",
      "4  @sxtxstate great stuff on Fri #SXSW: Marissa M...   \n",
      "\n",
      "                                        cleaned_text  \n",
      "0  g iphone hrs tweeting dead need upgrade plugin...  \n",
      "1  know awesome ipadiphone app youll likely appre...  \n",
      "2                                     wait also sale  \n",
      "3   hope years festival isnt crashy years iphone app  \n",
      "4  great stuff fri marissa mayer google tim oreil...  \n"
     ]
    }
   ],
   "source": [
    "# Removing stopwords\n",
    "stop_words = set(stopwords.words('english'))\n",
    "\n",
    "def remove_stopwords(text):\n",
    "    return ' '.join([word for word in text.split() if word not in stop_words])\n",
    "\n",
    "df_cleaned['cleaned_text'] = df_cleaned['cleaned_text'].apply(remove_stopwords)\n",
    "\n",
    "# Displaying cleaned tweets without stopwords\n",
    "print(\"\\nSample Cleaned Tweets without stopwords:\")\n",
    "print(df_cleaned[['tweet', 'cleaned_text']].head())"
   ]
  },
  {
   "cell_type": "code",
   "execution_count": 55,
   "metadata": {},
   "outputs": [
    {
     "name": "stdout",
     "output_type": "stream",
     "text": [
      "\n",
      "Sample Tokenized Tweets:\n",
      "                                        cleaned_text  \\\n",
      "0  g iphone hrs tweeting dead need upgrade plugin...   \n",
      "1  know awesome ipadiphone app youll likely appre...   \n",
      "2                                     wait also sale   \n",
      "3   hope years festival isnt crashy years iphone app   \n",
      "4  great stuff fri marissa mayer google tim oreil...   \n",
      "\n",
      "                                              tokens  \n",
      "0  [g, iphone, hrs, tweeting, dead, need, upgrade...  \n",
      "1  [know, awesome, ipadiphone, app, youll, likely...  \n",
      "2                                 [wait, also, sale]  \n",
      "3  [hope, years, festival, isnt, crashy, years, i...  \n",
      "4  [great, stuff, fri, marissa, mayer, google, ti...  \n"
     ]
    }
   ],
   "source": [
    "# Tokenization\n",
    "df_cleaned['tokens'] = df_cleaned['cleaned_text'].apply(word_tokenize)\n",
    "\n",
    "# Displaying some tokenized tweets\n",
    "print(\"\\nSample Tokenized Tweets:\")\n",
    "print(df_cleaned[['cleaned_text', 'tokens']].head())"
   ]
  },
  {
   "cell_type": "code",
   "execution_count": 56,
   "metadata": {},
   "outputs": [
    {
     "name": "stdout",
     "output_type": "stream",
     "text": [
      "\n",
      "Sample Lemmatized Tokens:\n",
      "                                              tokens  \\\n",
      "0  [g, iphone, hrs, tweeting, dead, need, upgrade...   \n",
      "1  [know, awesome, ipadiphone, app, youll, likely...   \n",
      "2                                 [wait, also, sale]   \n",
      "3  [hope, years, festival, isnt, crashy, years, i...   \n",
      "4  [great, stuff, fri, marissa, mayer, google, ti...   \n",
      "\n",
      "                                   lemmatized_tokens  \n",
      "0  [g, iphone, hr, tweeting, dead, need, upgrade,...  \n",
      "1  [know, awesome, ipadiphone, app, youll, likely...  \n",
      "2                                 [wait, also, sale]  \n",
      "3  [hope, year, festival, isnt, crashy, year, iph...  \n",
      "4  [great, stuff, fri, marissa, mayer, google, ti...  \n"
     ]
    }
   ],
   "source": [
    "# Lemmatization\n",
    "lemmatizer = WordNetLemmatizer()\n",
    "\n",
    "def lemmatize_words(tokens):\n",
    "    return [lemmatizer.lemmatize(word) for word in tokens]\n",
    "\n",
    "df_cleaned['lemmatized_tokens'] = df_cleaned['tokens'].apply(lemmatize_words)\n",
    "\n",
    "# Displaying some lemmatized tweets\n",
    "print(\"\\nSample Lemmatized Tokens:\")\n",
    "print(df_cleaned[['tokens', 'lemmatized_tokens']].head())"
   ]
  },
  {
   "cell_type": "code",
   "execution_count": 59,
   "metadata": {},
   "outputs": [
    {
     "name": "stdout",
     "output_type": "stream",
     "text": [
      "\n",
      "Sample Final Cleaned Text:\n",
      "                                               tweet  \\\n",
      "0  .@wesley83 I have a 3G iPhone. After 3 hrs twe...   \n",
      "1  @jessedee Know about @fludapp ? Awesome iPad/i...   \n",
      "2  @swonderlin Can not wait for #iPad 2 also. The...   \n",
      "3  @sxsw I hope this year's festival isn't as cra...   \n",
      "4  @sxtxstate great stuff on Fri #SXSW: Marissa M...   \n",
      "\n",
      "                                  final_cleaned_text  \n",
      "0  g iphone hr tweeting dead need upgrade plugin ...  \n",
      "1  know awesome ipadiphone app youll likely appre...  \n",
      "2                                     wait also sale  \n",
      "3     hope year festival isnt crashy year iphone app  \n",
      "4  great stuff fri marissa mayer google tim oreil...  \n",
      "\n",
      "Final cleaned dataset shape: (8434, 7)\n",
      "\n",
      "Cleaned Data Overview:\n",
      "                                  final_cleaned_text    target\n",
      "0  g iphone hr tweeting dead need upgrade plugin ...  Negative\n",
      "1  know awesome ipadiphone app youll likely appre...  Positive\n",
      "2                                     wait also sale  Positive\n",
      "3     hope year festival isnt crashy year iphone app  Negative\n",
      "4  great stuff fri marissa mayer google tim oreil...  Positive\n"
     ]
    }
   ],
   "source": [
    "# Preparing the final cleaned text for EDA and modeling by joining the lemmatized tokens\n",
    "df_cleaned['final_cleaned_text'] = df_cleaned['lemmatized_tokens'].apply(lambda tokens: ' '.join(tokens))\n",
    "\n",
    "# Displaying the final cleaned text\n",
    "print(\"\\nSample Final Cleaned Text:\")\n",
    "print(df_cleaned[['tweet', 'final_cleaned_text']].head())\n",
    "\n",
    "# Final Dataset Overview\n",
    "print(f\"\\nFinal cleaned dataset shape: {df_cleaned.shape}\")\n",
    "print(\"\\nCleaned Data Overview:\")\n",
    "print(df_cleaned[['final_cleaned_text', 'target']].head())"
   ]
  },
  {
   "cell_type": "code",
   "execution_count": 60,
   "metadata": {},
   "outputs": [
    {
     "name": "stdout",
     "output_type": "stream",
     "text": [
      "<class 'pandas.core.frame.DataFrame'>\n",
      "Index: 8434 entries, 0 to 9091\n",
      "Data columns (total 7 columns):\n",
      " #   Column              Non-Null Count  Dtype \n",
      "---  ------              --------------  ----- \n",
      " 0   tweet               8434 non-null   object\n",
      " 1   product             8434 non-null   object\n",
      " 2   target              8434 non-null   object\n",
      " 3   cleaned_text        8434 non-null   object\n",
      " 4   tokens              8434 non-null   object\n",
      " 5   lemmatized_tokens   8434 non-null   object\n",
      " 6   final_cleaned_text  8434 non-null   object\n",
      "dtypes: object(7)\n",
      "memory usage: 527.1+ KB\n"
     ]
    }
   ],
   "source": [
    "df_cleaned.info()"
   ]
  }
 ],
 "metadata": {
  "kernelspec": {
   "display_name": "base",
   "language": "python",
   "name": "python3"
  },
  "language_info": {
   "codemirror_mode": {
    "name": "ipython",
    "version": 3
   },
   "file_extension": ".py",
   "mimetype": "text/x-python",
   "name": "python",
   "nbconvert_exporter": "python",
   "pygments_lexer": "ipython3",
   "version": "3.12.4"
  }
 },
 "nbformat": 4,
 "nbformat_minor": 2
}
