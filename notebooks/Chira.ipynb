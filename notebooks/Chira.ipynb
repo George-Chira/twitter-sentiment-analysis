{
 "cells": [
  {
   "cell_type": "markdown",
   "metadata": {},
   "source": [
    "## Data Loading and Initial Inspection\n",
    "\n",
    "In this section, we load the dataset and perform an initial inspection to understand its structure. The dataset contains tweets about various devices and the associated emotions directed at those devices. Our goal is to use this data for sentiment classification.\n",
    "\n",
    "### Dataset Description:\n",
    "The dataset consists of the following columns:\n",
    "1. **text**: The content of the tweet.\n",
    "2. **target_device**: The device or product the tweet is directed at (e.g., iPhone, iPad).\n",
    "3. **emotion**: The sentiment expressed in the tweet, labeled as \"Positive emotion\", \"Negative emotion\", or \"Neutral emotion\".\n",
    "\n",
    "### Steps:\n",
    "1. **Load the dataset**: We load the dataset using pandas and check the first few rows to verify that the data has been loaded correctly.\n",
    "2. **Renaming columns**: We rename the columns for easier handling.\n",
    "3. **Explore basic statistics**: We will explore the structure and content of the dataset to understand its properties.\n"
   ]
  },
  {
   "cell_type": "code",
   "execution_count": 2,
   "metadata": {},
   "outputs": [
    {
     "data": {
      "text/html": [
       "<div>\n",
       "<style scoped>\n",
       "    .dataframe tbody tr th:only-of-type {\n",
       "        vertical-align: middle;\n",
       "    }\n",
       "\n",
       "    .dataframe tbody tr th {\n",
       "        vertical-align: top;\n",
       "    }\n",
       "\n",
       "    .dataframe thead th {\n",
       "        text-align: right;\n",
       "    }\n",
       "</style>\n",
       "<table border=\"1\" class=\"dataframe\">\n",
       "  <thead>\n",
       "    <tr style=\"text-align: right;\">\n",
       "      <th></th>\n",
       "      <th>tweet_text</th>\n",
       "      <th>emotion_in_tweet_is_directed_at</th>\n",
       "      <th>is_there_an_emotion_directed_at_a_brand_or_product</th>\n",
       "    </tr>\n",
       "  </thead>\n",
       "  <tbody>\n",
       "    <tr>\n",
       "      <th>0</th>\n",
       "      <td>.@wesley83 I have a 3G iPhone. After 3 hrs twe...</td>\n",
       "      <td>iPhone</td>\n",
       "      <td>Negative emotion</td>\n",
       "    </tr>\n",
       "    <tr>\n",
       "      <th>1</th>\n",
       "      <td>@jessedee Know about @fludapp ? Awesome iPad/i...</td>\n",
       "      <td>iPad or iPhone App</td>\n",
       "      <td>Positive emotion</td>\n",
       "    </tr>\n",
       "    <tr>\n",
       "      <th>2</th>\n",
       "      <td>@swonderlin Can not wait for #iPad 2 also. The...</td>\n",
       "      <td>iPad</td>\n",
       "      <td>Positive emotion</td>\n",
       "    </tr>\n",
       "    <tr>\n",
       "      <th>3</th>\n",
       "      <td>@sxsw I hope this year's festival isn't as cra...</td>\n",
       "      <td>iPad or iPhone App</td>\n",
       "      <td>Negative emotion</td>\n",
       "    </tr>\n",
       "    <tr>\n",
       "      <th>4</th>\n",
       "      <td>@sxtxstate great stuff on Fri #SXSW: Marissa M...</td>\n",
       "      <td>Google</td>\n",
       "      <td>Positive emotion</td>\n",
       "    </tr>\n",
       "  </tbody>\n",
       "</table>\n",
       "</div>"
      ],
      "text/plain": [
       "                                          tweet_text  \\\n",
       "0  .@wesley83 I have a 3G iPhone. After 3 hrs twe...   \n",
       "1  @jessedee Know about @fludapp ? Awesome iPad/i...   \n",
       "2  @swonderlin Can not wait for #iPad 2 also. The...   \n",
       "3  @sxsw I hope this year's festival isn't as cra...   \n",
       "4  @sxtxstate great stuff on Fri #SXSW: Marissa M...   \n",
       "\n",
       "  emotion_in_tweet_is_directed_at  \\\n",
       "0                          iPhone   \n",
       "1              iPad or iPhone App   \n",
       "2                            iPad   \n",
       "3              iPad or iPhone App   \n",
       "4                          Google   \n",
       "\n",
       "  is_there_an_emotion_directed_at_a_brand_or_product  \n",
       "0                                   Negative emotion  \n",
       "1                                   Positive emotion  \n",
       "2                                   Positive emotion  \n",
       "3                                   Negative emotion  \n",
       "4                                   Positive emotion  "
      ]
     },
     "execution_count": 2,
     "metadata": {},
     "output_type": "execute_result"
    }
   ],
   "source": [
    "import pandas as pd\n",
    "\n",
    "# data loading\n",
    "file_url = 'https://raw.githubusercontent.com/George-Chira/twitter-sentiment-analysis/main/data/judge-1377884607_tweet_product_company.csv'\n",
    "df = pd.read_csv(file_url, encoding='ISO-8859-1')\n",
    "\n",
    "# Display the first few rows to verify\n",
    "df.head()\n"
   ]
  },
  {
   "cell_type": "code",
   "execution_count": 3,
   "metadata": {},
   "outputs": [
    {
     "data": {
      "text/html": [
       "<div>\n",
       "<style scoped>\n",
       "    .dataframe tbody tr th:only-of-type {\n",
       "        vertical-align: middle;\n",
       "    }\n",
       "\n",
       "    .dataframe tbody tr th {\n",
       "        vertical-align: top;\n",
       "    }\n",
       "\n",
       "    .dataframe thead th {\n",
       "        text-align: right;\n",
       "    }\n",
       "</style>\n",
       "<table border=\"1\" class=\"dataframe\">\n",
       "  <thead>\n",
       "    <tr style=\"text-align: right;\">\n",
       "      <th></th>\n",
       "      <th>text</th>\n",
       "      <th>target_device</th>\n",
       "      <th>emotion</th>\n",
       "    </tr>\n",
       "  </thead>\n",
       "  <tbody>\n",
       "    <tr>\n",
       "      <th>0</th>\n",
       "      <td>.@wesley83 I have a 3G iPhone. After 3 hrs twe...</td>\n",
       "      <td>iPhone</td>\n",
       "      <td>Negative emotion</td>\n",
       "    </tr>\n",
       "    <tr>\n",
       "      <th>1</th>\n",
       "      <td>@jessedee Know about @fludapp ? Awesome iPad/i...</td>\n",
       "      <td>iPad or iPhone App</td>\n",
       "      <td>Positive emotion</td>\n",
       "    </tr>\n",
       "    <tr>\n",
       "      <th>2</th>\n",
       "      <td>@swonderlin Can not wait for #iPad 2 also. The...</td>\n",
       "      <td>iPad</td>\n",
       "      <td>Positive emotion</td>\n",
       "    </tr>\n",
       "    <tr>\n",
       "      <th>3</th>\n",
       "      <td>@sxsw I hope this year's festival isn't as cra...</td>\n",
       "      <td>iPad or iPhone App</td>\n",
       "      <td>Negative emotion</td>\n",
       "    </tr>\n",
       "    <tr>\n",
       "      <th>4</th>\n",
       "      <td>@sxtxstate great stuff on Fri #SXSW: Marissa M...</td>\n",
       "      <td>Google</td>\n",
       "      <td>Positive emotion</td>\n",
       "    </tr>\n",
       "  </tbody>\n",
       "</table>\n",
       "</div>"
      ],
      "text/plain": [
       "                                                text       target_device  \\\n",
       "0  .@wesley83 I have a 3G iPhone. After 3 hrs twe...              iPhone   \n",
       "1  @jessedee Know about @fludapp ? Awesome iPad/i...  iPad or iPhone App   \n",
       "2  @swonderlin Can not wait for #iPad 2 also. The...                iPad   \n",
       "3  @sxsw I hope this year's festival isn't as cra...  iPad or iPhone App   \n",
       "4  @sxtxstate great stuff on Fri #SXSW: Marissa M...              Google   \n",
       "\n",
       "            emotion  \n",
       "0  Negative emotion  \n",
       "1  Positive emotion  \n",
       "2  Positive emotion  \n",
       "3  Negative emotion  \n",
       "4  Positive emotion  "
      ]
     },
     "execution_count": 3,
     "metadata": {},
     "output_type": "execute_result"
    }
   ],
   "source": [
    "# Renaming columns to shorter names\n",
    "df_tweets = df.rename(columns={\n",
    "    'tweet_text': 'text',\n",
    "    'emotion_in_tweet_is_directed_at': 'target_device',\n",
    "    'is_there_an_emotion_directed_at_a_brand_or_product': 'emotion'\n",
    "})\n",
    "\n",
    "# Verify the renaming\n",
    "df_tweets.head(5)\n"
   ]
  },
  {
   "cell_type": "code",
   "execution_count": null,
   "metadata": {},
   "outputs": [
    {
     "name": "stdout",
     "output_type": "stream",
     "text": [
      "<class 'pandas.core.frame.DataFrame'>\n",
      "RangeIndex: 9093 entries, 0 to 9092\n",
      "Data columns (total 3 columns):\n",
      " #   Column         Non-Null Count  Dtype \n",
      "---  ------         --------------  ----- \n",
      " 0   text           9092 non-null   object\n",
      " 1   target_device  3291 non-null   object\n",
      " 2   emotion        9093 non-null   object\n",
      "dtypes: object(3)\n",
      "memory usage: 213.2+ KB\n"
     ]
    }
   ],
   "source": [
    "df_tweets.info()"
   ]
  },
  {
   "cell_type": "markdown",
   "metadata": {},
   "source": [
    "check for missing values "
   ]
  },
  {
   "cell_type": "markdown",
   "metadata": {},
   "source": [
    "## Data Exploration\n",
    "\n",
    "Before proceeding with data preprocessing and model building, it's essential to explore the dataset to understand its structure and content. This step helps identify missing data, analyze the distribution of sentiment labels, and inspect the raw text.\n",
    "\n",
    "### Key Steps:\n",
    "1. **Check for missing data**: We ensure there are no missing values in the key columns (`text`, `target_device`, and `emotion`).\n",
    "2. **Examine the distribution of sentiment labels**: This will help us understand whether the data is balanced or imbalanced, which will influence the choice of modeling techniques and evaluation metrics.\n",
    "3. **Sample inspection**: By reviewing a few sample tweets, we can plan the necessary text preprocessing steps (e.g., removing URLs, mentions, and hashtags).\n"
   ]
  },
  {
   "cell_type": "code",
   "execution_count": 5,
   "metadata": {},
   "outputs": [
    {
     "name": "stdout",
     "output_type": "stream",
     "text": [
      "Missing values before handling:\n",
      " text                1\n",
      "target_device    5802\n",
      "emotion             0\n",
      "dtype: int64\n"
     ]
    }
   ],
   "source": [
    "# Check for missing values\n",
    "print(\"Missing values before handling:\\n\", df_tweets.isnull().sum())"
   ]
  },
  {
   "cell_type": "code",
   "execution_count": 6,
   "metadata": {},
   "outputs": [
    {
     "name": "stdout",
     "output_type": "stream",
     "text": [
      "Missing values:\\n text                1\n",
      "target_device    5802\n",
      "emotion             0\n",
      "dtype: int64\n",
      " Distribution of sentiment labels:\\n  emotion\n",
      "No emotion toward brand or product    5389\n",
      "Positive emotion                      2978\n",
      "Negative emotion                       570\n",
      "I can't tell                           156\n",
      "Name: count, dtype: int64\n",
      " \\n Sample tweets:\\n 0    .@wesley83 I have a 3G iPhone. After 3 hrs twe...\n",
      "1    @jessedee Know about @fludapp ? Awesome iPad/i...\n",
      "2    @swonderlin Can not wait for #iPad 2 also. The...\n",
      "3    @sxsw I hope this year's festival isn't as cra...\n",
      "4    @sxtxstate great stuff on Fri #SXSW: Marissa M...\n",
      "Name: text, dtype: object\n",
      "\\ntarget_device:\\n 0                iPhone\n",
      "1    iPad or iPhone App\n",
      "2                  iPad\n",
      "3    iPad or iPhone App\n",
      "4                Google\n",
      "Name: target_device, dtype: object\n"
     ]
    }
   ],
   "source": [
    "# Check for missing values\n",
    "print(r\"Missing values:\\n\", df_tweets.isnull().sum())\n",
    "\n",
    "# Check distribution of sentiment labels\n",
    "print(r\" Distribution of sentiment labels:\\n \", df_tweets['emotion'].value_counts())\n",
    "\n",
    "# Display sample tweets\n",
    "print(r\" \\n Sample tweets:\\n\", df_tweets['text'].head(5))\n",
    "\n",
    "# Display sample tweets\n",
    "print(r\"\\ntarget_device:\\n\", df_tweets['target_device'].head(5))"
   ]
  },
  {
   "cell_type": "markdown",
   "metadata": {},
   "source": [
    "### Handling Missing Values\n",
    "\n",
    "1. Any missing values in the **`target_device`** column are filled with the placeholder value **'Unknown'**. This ensures that missing device information does not result in the exclusion of otherwise useful data.\n",
    "\n",
    "2. Any rows where the tweet **`text`**  is missing are dropped from the dataset. Tweets without content cannot be used for sentiment analysis.\n",
    "After applying these steps, we verify that there are no missing values in the dataset.\n"
   ]
  },
  {
   "cell_type": "code",
   "execution_count": 7,
   "metadata": {},
   "outputs": [
    {
     "name": "stdout",
     "output_type": "stream",
     "text": [
      "missing values after cleaning: text             0\n",
      "target_device    0\n",
      "emotion          0\n",
      "dtype: int64\n"
     ]
    }
   ],
   "source": [
    "#fill missing in the target devise with a placeholder \"unknown\"\n",
    "df_tweets['target_device'].fillna('Unknown'  , inplace= True)\n",
    "#drop missing values in text\n",
    "df_tweets.dropna(subset=['text'], inplace=True)\n",
    "\n",
    "#verify cleaning \n",
    "print(\"missing values after cleaning:\", df_tweets.isna().sum())\n",
    "\n"
   ]
  },
  {
   "cell_type": "code",
   "execution_count": 8,
   "metadata": {},
   "outputs": [
    {
     "data": {
      "image/png": "[encoded data removed]",
      "text/plain": [
       "<Figure size 720x432 with 1 Axes>"
      ]
     },
     "metadata": {
      "needs_background": "light"
     },
     "output_type": "display_data"
    }
   ],
   "source": [
    "import matplotlib.pyplot as plt\n",
    "import seaborn as sns\n",
    "\n",
    "plt.figure(figsize=(10, 6))\n",
    "\n",
    "# Plot the distribution of sentiment labels\n",
    "colors = ['red', 'green', 'blue', 'yellow']\n",
    "sns.countplot(x='emotion', hue= 'emotion', palette = colors, data=df_tweets)\n",
    "plt.title('Distribution of Sentiment Labels')\n",
    "plt.xlabel('Sentiment')\n",
    "plt.ylabel('Frequency')\n",
    "# Show the plots\n",
    "plt.show()\n"
   ]
  },
  {
   "cell_type": "markdown",
   "metadata": {},
   "source": [
    "## Data Preparation and Preprocessing"
   ]
  },
  {
   "cell_type": "markdown",
   "metadata": {},
   "source": [
    "### Mapping Sentiment Labels to Categories\n",
    "\n",
    "Before mapping the sentiment labels, we removed rows where the sentiment is labeled as **\"I can't tell\"** to focus on meaningful sentiment analysis. After removing these irrelevant rows, we map the remaining sentiment labels to numeric categories as follows:\n",
    "\n",
    "- **\"Negative emotion\"** → **0**\n",
    "- **\"Neutral emotion\"** → **1**\n",
    "- **\"Positive emotion\"** → **2**\n",
    "- **\"No emotion toward brand or product\"** → **1** (treated as **neutral**)\n",
    "\n",
    "This mapping ensures that we account for all relevant sentiment categories, with **\"No emotion\"** treated as **neutral**, making the dataset ready for sentiment classification."
   ]
  },
  {
   "cell_type": "code",
   "execution_count": 9,
   "metadata": {},
   "outputs": [
    {
     "data": {
      "text/plain": [
       "sentiment_numeric\n",
       "1    5388\n",
       "2    2978\n",
       "0     570\n",
       "Name: count, dtype: int64"
      ]
     },
     "execution_count": 9,
     "metadata": {},
     "output_type": "execute_result"
    }
   ],
   "source": [
    "# Drop rows where the 'emotion' column contains 'I can't tell'\n",
    "df_tweets = df_tweets[df_tweets['emotion'] != \"I can't tell\"]\n",
    "\n",
    "# Map sentiment values to numeric categories, treating 'No emotion' as neutral (1)\n",
    "sentiment_map = {\n",
    "    'Negative emotion': 0,\n",
    "    'Neutral emotion': 1,\n",
    "    'Positive emotion': 2,\n",
    "    'No emotion toward brand or product': 1  # Treat this as neutral\n",
    "}\n",
    "\n",
    "# Apply the mapping to the 'emotion' column\n",
    "df_tweets['sentiment_numeric'] = df_tweets['emotion'].map(sentiment_map)\n",
    "\n",
    "# Verify the changes and check the distribution of sentiment categories\n",
    "df_tweets['sentiment_numeric'].value_counts()\n"
   ]
  },
  {
   "cell_type": "markdown",
   "metadata": {},
   "source": [
    "### Data Cleaning\n",
    "\n",
    "In this step, we create a function to clean the raw text data to remove noise and prepare it for further processing. The following operations are performed:\n",
    "\n",
    "1. **Remove URLs**: We remove any links in the tweet, as they don’t contribute to the sentiment analysis.\n",
    "2. **Remove Mentions and Hashtags**: We eliminate mentions (`@username`) and hashtags (`#hashtag`) to focus only on the content of the tweet.\n",
    "3. **Remove Special Characters and Numbers**: We remove any non-alphabetic characters, keeping only letters.\n",
    "4. **Convert to Lowercase**: All text is converted to lowercase to avoid case sensitivity issues during modeling.\n",
    "\n",
    "Once cleaned, the `text` column is transformed into a new column called `cleaned_text` for further processing.\n"
   ]
  },
  {
   "cell_type": "code",
   "execution_count": 12,
   "metadata": {},
   "outputs": [
    {
     "data": {
      "text/html": [
       "<div>\n",
       "<style scoped>\n",
       "    .dataframe tbody tr th:only-of-type {\n",
       "        vertical-align: middle;\n",
       "    }\n",
       "\n",
       "    .dataframe tbody tr th {\n",
       "        vertical-align: top;\n",
       "    }\n",
       "\n",
       "    .dataframe thead th {\n",
       "        text-align: right;\n",
       "    }\n",
       "</style>\n",
       "<table border=\"1\" class=\"dataframe\">\n",
       "  <thead>\n",
       "    <tr style=\"text-align: right;\">\n",
       "      <th></th>\n",
       "      <th>text</th>\n",
       "      <th>target_device</th>\n",
       "      <th>emotion</th>\n",
       "      <th>sentiment_numeric</th>\n",
       "      <th>processed_tokens</th>\n",
       "    </tr>\n",
       "  </thead>\n",
       "  <tbody>\n",
       "    <tr>\n",
       "      <th>0</th>\n",
       "      <td>.@wesley83 I have a 3G iPhone. After 3 hrs twe...</td>\n",
       "      <td>iPhone</td>\n",
       "      <td>Negative emotion</td>\n",
       "      <td>0</td>\n",
       "      <td>[iphon, hr, tweet, dead, need, upgrad, plugin,...</td>\n",
       "    </tr>\n",
       "    <tr>\n",
       "      <th>1</th>\n",
       "      <td>@jessedee Know about @fludapp ? Awesome iPad/i...</td>\n",
       "      <td>iPad or iPhone App</td>\n",
       "      <td>Positive emotion</td>\n",
       "      <td>2</td>\n",
       "      <td>[know, awesom, ipad, iphon, app, like, appreci...</td>\n",
       "    </tr>\n",
       "    <tr>\n",
       "      <th>2</th>\n",
       "      <td>@swonderlin Can not wait for #iPad 2 also. The...</td>\n",
       "      <td>iPad</td>\n",
       "      <td>Positive emotion</td>\n",
       "      <td>2</td>\n",
       "      <td>[wait, also, sale]</td>\n",
       "    </tr>\n",
       "    <tr>\n",
       "      <th>3</th>\n",
       "      <td>@sxsw I hope this year's festival isn't as cra...</td>\n",
       "      <td>iPad or iPhone App</td>\n",
       "      <td>Negative emotion</td>\n",
       "      <td>0</td>\n",
       "      <td>[hope, year, festiv, crashi, year, iphon, app]</td>\n",
       "    </tr>\n",
       "    <tr>\n",
       "      <th>4</th>\n",
       "      <td>@sxtxstate great stuff on Fri #SXSW: Marissa M...</td>\n",
       "      <td>Google</td>\n",
       "      <td>Positive emotion</td>\n",
       "      <td>2</td>\n",
       "      <td>[great, stuff, fri, marissa, mayer, googl, tim...</td>\n",
       "    </tr>\n",
       "  </tbody>\n",
       "</table>\n",
       "</div>"
      ],
      "text/plain": [
       "                                                text       target_device  \\\n",
       "0  .@wesley83 I have a 3G iPhone. After 3 hrs twe...              iPhone   \n",
       "1  @jessedee Know about @fludapp ? Awesome iPad/i...  iPad or iPhone App   \n",
       "2  @swonderlin Can not wait for #iPad 2 also. The...                iPad   \n",
       "3  @sxsw I hope this year's festival isn't as cra...  iPad or iPhone App   \n",
       "4  @sxtxstate great stuff on Fri #SXSW: Marissa M...              Google   \n",
       "\n",
       "            emotion  sentiment_numeric  \\\n",
       "0  Negative emotion                  0   \n",
       "1  Positive emotion                  2   \n",
       "2  Positive emotion                  2   \n",
       "3  Negative emotion                  0   \n",
       "4  Positive emotion                  2   \n",
       "\n",
       "                                    processed_tokens  \n",
       "0  [iphon, hr, tweet, dead, need, upgrad, plugin,...  \n",
       "1  [know, awesom, ipad, iphon, app, like, appreci...  \n",
       "2                                 [wait, also, sale]  \n",
       "3     [hope, year, festiv, crashi, year, iphon, app]  \n",
       "4  [great, stuff, fri, marissa, mayer, googl, tim...  "
      ]
     },
     "execution_count": 12,
     "metadata": {},
     "output_type": "execute_result"
    }
   ],
   "source": [
    "import re\n",
    "import nltk\n",
    "from nltk.tokenize import RegexpTokenizer\n",
    "from nltk.corpus import stopwords\n",
    "from nltk.stem import PorterStemmer\n",
    "\n",
    "# initializing the RegexpTokenizer, porterstemmer and stopwords\n",
    "tokenizer = RegexpTokenizer(r\"(?u)\\w{3,}\")  # tokenizer that keeps 3+ letter words\n",
    "stopwords_list = set(stopwords.words('english'))\n",
    "stemmer = PorterStemmer()\n",
    "\n",
    "def preprocess_text(text, tokenizer, stopwords_list, stemmer):\n",
    "    # Step 1: Remove URLs\n",
    "    text = re.sub(r'http\\S+|www\\S+', \" \", text)  # Remove any URL links starting with http or www\n",
    "    # Step 2: Remove mentions, hashtags, and placeholders like {link} and {mention}\n",
    "    text = re.sub(r'@\\w+|#\\w+|\\{link\\}|\\{mention\\}', \" \", text)  # Remove usernames, hashtags, {link}, {mention}\n",
    "    # Step 3: Remove special characters and numbers, keeping only alphabetic characters\n",
    "    text = re.sub(r'[^a-zA-Z\\s]', \" \", text)  # Remove special characters, keeping only words\n",
    "    # Step 4: Standardize case (lowercase the text)\n",
    "    text = text.lower()\n",
    "    \n",
    "    # Step 5: Tokenize - Split text into tokens (words) based on the tokenizer rules\n",
    "    tokens = tokenizer.tokenize(text)\n",
    "    # Step 6: Remove stopwords using stopwords_list\n",
    "    tokens = [word for word in tokens if word not in stopwords_list]  # Remove common stopwords\n",
    "    # Step 7: Stem the tokenized text using stemmer\n",
    "    tokens = [stemmer.stem(word) for word in tokens]  # Reduce words to their root form using stemming\n",
    "    \n",
    "    # Return the preprocessed text\n",
    "    return tokens  # Returns the processed tokens (cleaned and stemmed)\n",
    "\n",
    "# Apply function to the dataframe \n",
    "df_tweets['processed_tokens'] = df_tweets['text'].apply(lambda x: preprocess_text(x, tokenizer, stopwords_list, stemmer))\n",
    "df_tweets.head(5)\n"
   ]
  },
  {
   "cell_type": "markdown",
   "metadata": {},
   "source": [
    "### Feature Extraction with TF-IDF\n",
    "\n",
    "After preprocessing the text, the next step is to convert the cleaned and tokenized text into numerical vectors a format that machine learning models can use for training and predictions.\n",
    "\n",
    "#### Steps:\n",
    "1.  We initialize the `TfidfVectorizer`, which transforms the processed tokens into numerical vectors.\n",
    "2. **Fit and Transform**: We apply the vectorizer to the `processed_tokens` column to obtain the TF-IDF features.\n",
    "3. **Result**: The resulting matrix represents the importance of each word across all tweets."
   ]
  },
  {
   "cell_type": "code",
   "execution_count": 14,
   "metadata": {},
   "outputs": [
    {
     "name": "stdout",
     "output_type": "stream",
     "text": [
      "(8936, 5832)\n"
     ]
    },
    {
     "data": {
      "text/html": [
       "<div>\n",
       "<style scoped>\n",
       "    .dataframe tbody tr th:only-of-type {\n",
       "        vertical-align: middle;\n",
       "    }\n",
       "\n",
       "    .dataframe tbody tr th {\n",
       "        vertical-align: top;\n",
       "    }\n",
       "\n",
       "    .dataframe thead th {\n",
       "        text-align: right;\n",
       "    }\n",
       "</style>\n",
       "<table border=\"1\" class=\"dataframe\">\n",
       "  <thead>\n",
       "    <tr style=\"text-align: right;\">\n",
       "      <th></th>\n",
       "      <th>text</th>\n",
       "      <th>target_device</th>\n",
       "      <th>emotion</th>\n",
       "      <th>sentiment_numeric</th>\n",
       "      <th>processed_tokens</th>\n",
       "      <th>processed_text</th>\n",
       "    </tr>\n",
       "  </thead>\n",
       "  <tbody>\n",
       "    <tr>\n",
       "      <th>0</th>\n",
       "      <td>.@wesley83 I have a 3G iPhone. After 3 hrs twe...</td>\n",
       "      <td>iPhone</td>\n",
       "      <td>Negative emotion</td>\n",
       "      <td>0</td>\n",
       "      <td>[iphon, hr, tweet, dead, need, upgrad, plugin,...</td>\n",
       "      <td>iphon hr tweet dead need upgrad plugin station</td>\n",
       "    </tr>\n",
       "    <tr>\n",
       "      <th>1</th>\n",
       "      <td>@jessedee Know about @fludapp ? Awesome iPad/i...</td>\n",
       "      <td>iPad or iPhone App</td>\n",
       "      <td>Positive emotion</td>\n",
       "      <td>2</td>\n",
       "      <td>[know, awesom, ipad, iphon, app, like, appreci...</td>\n",
       "      <td>know awesom ipad iphon app like appreci design...</td>\n",
       "    </tr>\n",
       "    <tr>\n",
       "      <th>2</th>\n",
       "      <td>@swonderlin Can not wait for #iPad 2 also. The...</td>\n",
       "      <td>iPad</td>\n",
       "      <td>Positive emotion</td>\n",
       "      <td>2</td>\n",
       "      <td>[wait, also, sale]</td>\n",
       "      <td>wait also sale</td>\n",
       "    </tr>\n",
       "    <tr>\n",
       "      <th>3</th>\n",
       "      <td>@sxsw I hope this year's festival isn't as cra...</td>\n",
       "      <td>iPad or iPhone App</td>\n",
       "      <td>Negative emotion</td>\n",
       "      <td>0</td>\n",
       "      <td>[hope, year, festiv, crashi, year, iphon, app]</td>\n",
       "      <td>hope year festiv crashi year iphon app</td>\n",
       "    </tr>\n",
       "    <tr>\n",
       "      <th>4</th>\n",
       "      <td>@sxtxstate great stuff on Fri #SXSW: Marissa M...</td>\n",
       "      <td>Google</td>\n",
       "      <td>Positive emotion</td>\n",
       "      <td>2</td>\n",
       "      <td>[great, stuff, fri, marissa, mayer, googl, tim...</td>\n",
       "      <td>great stuff fri marissa mayer googl tim reilli...</td>\n",
       "    </tr>\n",
       "  </tbody>\n",
       "</table>\n",
       "</div>"
      ],
      "text/plain": [
       "                                                text       target_device  \\\n",
       "0  .@wesley83 I have a 3G iPhone. After 3 hrs twe...              iPhone   \n",
       "1  @jessedee Know about @fludapp ? Awesome iPad/i...  iPad or iPhone App   \n",
       "2  @swonderlin Can not wait for #iPad 2 also. The...                iPad   \n",
       "3  @sxsw I hope this year's festival isn't as cra...  iPad or iPhone App   \n",
       "4  @sxtxstate great stuff on Fri #SXSW: Marissa M...              Google   \n",
       "\n",
       "            emotion  sentiment_numeric  \\\n",
       "0  Negative emotion                  0   \n",
       "1  Positive emotion                  2   \n",
       "2  Positive emotion                  2   \n",
       "3  Negative emotion                  0   \n",
       "4  Positive emotion                  2   \n",
       "\n",
       "                                    processed_tokens  \\\n",
       "0  [iphon, hr, tweet, dead, need, upgrad, plugin,...   \n",
       "1  [know, awesom, ipad, iphon, app, like, appreci...   \n",
       "2                                 [wait, also, sale]   \n",
       "3     [hope, year, festiv, crashi, year, iphon, app]   \n",
       "4  [great, stuff, fri, marissa, mayer, googl, tim...   \n",
       "\n",
       "                                      processed_text  \n",
       "0     iphon hr tweet dead need upgrad plugin station  \n",
       "1  know awesom ipad iphon app like appreci design...  \n",
       "2                                     wait also sale  \n",
       "3             hope year festiv crashi year iphon app  \n",
       "4  great stuff fri marissa mayer googl tim reilli...  "
      ]
     },
     "execution_count": 14,
     "metadata": {},
     "output_type": "execute_result"
    }
   ],
   "source": [
    "from sklearn.feature_extraction.text import TfidfVectorizer\n",
    "\n",
    "# Convert the processed tokens back into a single string for each tweet\n",
    "df_tweets['processed_text'] = df_tweets['processed_tokens'].apply(lambda tokens: ' '.join(tokens))\n",
    "\n",
    "# Initialize the TF-IDF Vectorizer \n",
    "tfidf = TfidfVectorizer()\n",
    "\n",
    "# Fit and transform the 'processed_text' column into TF-IDF features\n",
    "X = tfidf.fit_transform(df_tweets['processed_text'])\n",
    "\n",
    "# Display shape of the resulting matrix\n",
    "print(X.shape)\n",
    "df_tweets.head(5)\n",
    "\n"
   ]
  },
  {
   "cell_type": "markdown",
   "metadata": {},
   "source": [
    "## Modeling \n",
    "### Decision Tree Classifier: First Model\n",
    "\n",
    "With the text data already transformed into numerical features using **TF-IDF**, we now move to building our first classification model: the **Decision Tree Classifier**.\n",
    "\n",
    "#### Steps:\n",
    "**Train-Test Split**: We split the dataset into training (80%) and test (20%) sets to train and evaluate the model.\n",
    "**Training the Decision Tree**: We initialize the **Decision Tree Classifier** and train it using the training set.\n",
    "**Prediction and Evaluation**:\n",
    "   - After training, we make predictions on the test set.\n",
    "   - The performance of the model is evaluated using **accuracy** and a **classification report**, which provides precision, recall, and F1-score for each sentiment category (Negative, Neutral, Positive).\n",
    "\n",
    "This will provide a baseline performance of the Decision Tree model, which can be compared to other models in subsequent steps.\n"
   ]
  },
  {
   "cell_type": "code",
   "execution_count": 15,
   "metadata": {},
   "outputs": [
    {
     "name": "stdout",
     "output_type": "stream",
     "text": [
      "Accuracy: 0.6363297277135397\n",
      "                                    precision    recall  f1-score   support\n",
      "\n",
      "                  Negative emotion       0.36      0.21      0.27       189\n",
      "No emotion toward brand or product       0.69      0.77      0.73      1612\n",
      "                  Positive emotion       0.54      0.48      0.51       880\n",
      "\n",
      "                          accuracy                           0.64      2681\n",
      "                         macro avg       0.53      0.49      0.50      2681\n",
      "                      weighted avg       0.62      0.64      0.63      2681\n",
      "\n"
     ]
    }
   ],
   "source": [
    "from sklearn.tree import DecisionTreeClassifier\n",
    "from sklearn.model_selection import train_test_split\n",
    "from sklearn.metrics import classification_report, accuracy_score, confusion_matrix\n",
    "\n",
    "#splitting the data into training and test sets\n",
    "X = tfidf.fit_transform(df_tweets['processed_text'])  #tfidf features\n",
    "y = df_tweets['emotion'] #target - positive, neutral, negative\n",
    "\n",
    "#split into training and test sets\n",
    "X_train, X_test, y_train, y_test = train_test_split(X, y, test_size= 0.3, random_state= 42)\n",
    "\n",
    "#initialize the tree classifier\n",
    "tree = DecisionTreeClassifier( random_state= 42)\n",
    "\n",
    "#model training\n",
    "tree.fit(X_train, y_train)\n",
    "\n",
    "#make predictions\n",
    "y_pred = tree.predict(X_test)\n",
    "\n",
    "#make evaluations\n",
    "print(f\"Accuracy: {accuracy_score(y_test, y_pred)}\")\n",
    "print(classification_report(y_test, y_pred))\n"
   ]
  },
  {
   "cell_type": "markdown",
   "metadata": {},
   "source": [
    "### Model Performance\n",
    "\n",
    "The **Decision Tree Classifier** achieved an accuracy of **63.63%**. Performance for each sentiment class:\n",
    "\n",
    "- **Negative emotion**: Precision of **0.36** and recall of **0.21**, resulting in an F1-score of **0.27**. The model struggles to identify negative emotions, missing many relevant samples.\n",
    "  \n",
    "- **Neutral emotion**: Precision of **0.69** and recall of **0.77**, with an F1-score of **0.73**. The model is highly effective at identifying neutral sentiments, likely due to their higher frequency in the dataset.\n",
    "\n",
    "- **Positive emotion**: Precision of **0.54** and recall of **0.48**, leading to an F1-score of **0.51**. The model shows moderate performance in identifying positive emotions.\n",
    "\n",
    "### Next Steps:\n",
    "1. **Hyperparameter Tuning**: Further refine the model to boost performance.\n",
    "2. **Handle Class Imbalance**: Implement strategies like `class_weight='balanced'` to improve results for minority classes.\n"
   ]
  },
  {
   "cell_type": "code",
   "execution_count": 16,
   "metadata": {},
   "outputs": [
    {
     "name": "stdout",
     "output_type": "stream",
     "text": [
      "best performers: {'class_weight': 'balanced', 'criterion': 'gini', 'max_depth': None, 'min_samples_leaf': 1, 'min_samples_split': 2}\n",
      "Accuracy after tuning and class weighting: 0.618425960462514\n",
      "                                    precision    recall  f1-score   support\n",
      "\n",
      "                  Negative emotion       0.27      0.30      0.29       189\n",
      "No emotion toward brand or product       0.73      0.69      0.71      1612\n",
      "                  Positive emotion       0.52      0.56      0.54       880\n",
      "\n",
      "                          accuracy                           0.62      2681\n",
      "                         macro avg       0.51      0.52      0.51      2681\n",
      "                      weighted avg       0.63      0.62      0.62      2681\n",
      "\n"
     ]
    },
    {
     "data": {
      "image/png": "[encoded data removed]",
      "text/plain": [
       "<Figure size 576x432 with 2 Axes>"
      ]
     },
     "metadata": {
      "needs_background": "light"
     },
     "output_type": "display_data"
    }
   ],
   "source": [
    "from sklearn.model_selection import GridSearchCV\n",
    "#defining parameters\n",
    "param_grid = {\n",
    "    'max_depth': [5, 10, None],  \n",
    "    'min_samples_split': [2, 10], \n",
    "    'min_samples_leaf': [1, 5], \n",
    "    'criterion': ['gini'], \n",
    "    'class_weight': [ 'balanced'] # Adding class_weight to deal with imbalance\n",
    "    }\n",
    "\n",
    "#initialize the gridsearch CV\n",
    "grid_search = GridSearchCV(DecisionTreeClassifier(random_state=42), param_grid, cv=5, scoring = 'accuracy')\n",
    "\n",
    "#fit the gridsearchCV on training data\n",
    "grid_search.fit(X_train, y_train)\n",
    "\n",
    "#get the best performers\n",
    "print(\"best performers:\", grid_search.best_params_)\n",
    "\n",
    "#evaluate the best parameters\n",
    "best_tree = grid_search.best_estimator_\n",
    "y_pred_best = best_tree.predict(X_test)\n",
    "\n",
    "# Print the new accuracy and classification report\n",
    "print(f\"Accuracy after tuning and class weighting: {accuracy_score(y_test, y_pred_best)}\")\n",
    "print(classification_report(y_test, y_pred_best)) \n",
    "\n",
    "\n",
    "# Generate the confusion matrix\n",
    "cm = confusion_matrix(y_test, y_pred_best, labels=['Negative emotion', 'No emotion toward brand or product', 'Positive emotion'])\n",
    "\n",
    "# Create a heatmap for the confusion matrix\n",
    "plt.figure(figsize=(8, 6))\n",
    "sns.heatmap(cm, annot=True, fmt='d', cmap='Blues', xticklabels=['Negative', 'Neutral', 'Positive'], yticklabels=['Negative', 'Neutral', 'Positive'])\n",
    "plt.title('Confusion Matrix for Decision Tree Classifier')\n",
    "plt.ylabel('Actual Labels')\n",
    "plt.xlabel('Predicted Labels')\n",
    "plt.show()"
   ]
  },
  {
   "cell_type": "markdown",
   "metadata": {},
   "source": [
    "### Hyperparameter Tuning Results with GridSearchCV\n",
    "\n",
    "#### Performance After Tuning:\n",
    "- **Negative emotion**: Precision dropped to **0.27** (previous: 0.36), recall improved to **0.30** (previous: 0.21), and F1-score stabilized at **0.29** (previous: 0.27).\n",
    "- **Neutral emotion**: F1-score slightly decreased to **0.71** (previous: 0.73), with precision improving to **0.73** (previous: 0.69) and recall at **0.69** (previous: 0.77).\n",
    "- **Positive emotion**: Precision held steady at **0.52** (previous: 0.54), recall improved to **0.56** (previous: 0.48), resulting in an F1-score of **0.54** (previous: 0.51).\n"
   ]
  },
  {
   "cell_type": "markdown",
   "metadata": {},
   "source": [
    "### Model 2: XGBoost (Extreme Gradient Boosting)\n",
    "\n",
    "After evaluating the **Decision Tree** model, we observed that while it provided decent results, there are some limitations. \n",
    "#### Why XGBoost?\n",
    "XGBoost is an advanced ensemble learning algorithm based on **Gradient Boosting**. It builds multiple decision trees sequentially, where each tree attempts to correct the errors of the previous one. This boosting technique helps the model generalize better and reduces overfitting, making XGBoost more powerful than a standard Decision Tree.\n",
    "\n",
    "In the next step, we will build the XGBoost model using the same **TF-IDF features** that we used for the Decision Tree and evaluate its performance on the test set.\n"
   ]
  },
  {
   "cell_type": "code",
   "execution_count": 17,
   "metadata": {},
   "outputs": [
    {
     "name": "stdout",
     "output_type": "stream",
     "text": [
      "Accuracy: 0.6795302013422819\n",
      "              precision    recall  f1-score   support\n",
      "\n",
      "           0       0.55      0.13      0.22       126\n",
      "           1       0.70      0.88      0.78      1094\n",
      "           2       0.61      0.42      0.50       568\n",
      "\n",
      "    accuracy                           0.68      1788\n",
      "   macro avg       0.62      0.48      0.50      1788\n",
      "weighted avg       0.66      0.68      0.65      1788\n",
      "\n"
     ]
    },
    {
     "data": {
      "image/png": "[encoded data removed]",
      "text/plain": [
       "<Figure size 432x432 with 2 Axes>"
      ]
     },
     "metadata": {
      "needs_background": "light"
     },
     "output_type": "display_data"
    }
   ],
   "source": [
    "import xgboost as xgb\n",
    "from sklearn.metrics import accuracy_score, classification_report, confusion_matrix\n",
    "from sklearn.preprocessing import LabelEncoder\n",
    "\n",
    "le = LabelEncoder()\n",
    "\n",
    "X = tfidf.fit_transform(df_tweets['processed_text'])\n",
    "y = le.fit_transform(df_tweets['emotion'])\n",
    "\n",
    "#perform test_train_split and flatten y_train and y_test\n",
    "X_train, X_test, y_train, y_test = train_test_split(X, y, test_size=0.2, random_state=42)\n",
    "\n",
    "# Initialize and train XGBoost classifier\n",
    "xgb_model = xgb.XGBClassifier(random_state=42)\n",
    "xgb_model.fit(X_train, y_train)\n",
    "\n",
    "# Make predictions\n",
    "y_pred_xgb = xgb_model.predict(X_test)\n",
    "\n",
    "# Evaluate\n",
    "print(f\"Accuracy: {accuracy_score(y_test, y_pred_xgb)}\")\n",
    "print(classification_report(y_test, y_pred_xgb))\n",
    "\n",
    "# Generate and display confusion matrix\n",
    "cm = confusion_matrix(y_test, y_pred_xgb)\n",
    "plt.figure(figsize=(6, 6))\n",
    "sns.heatmap(cm, annot=True, fmt='d', cmap='Blues', xticklabels=le.classes_, yticklabels=le.classes_)\n",
    "plt.title('Confusion Matrix for XGBoost Classifier')\n",
    "plt.xlabel('Predicted Labels')\n",
    "plt.ylabel('True Labels')\n",
    "plt.show()\n"
   ]
  },
  {
   "cell_type": "markdown",
   "metadata": {},
   "source": [
    "### XGBoost Model Performance\n",
    "\n",
    "#### Performance After Training:\n",
    "-  **Overall Accuracy**: The model improved its overall accuracy to **0.68** (previous: 0.66), indicating a better general performance.\n",
    "- **Negative emotion**: Precision improved to **0.55** (previous: 0.53), but recall remained low at **0.13** (same as previous).\n",
    "- **Neutral emotion**: The model continues to correctly identify neutral sentiments at a high rate.Stable performance with an F1-score of **0.78** (same as previous), with precision of **0.70** (same as previous) \n",
    "\n",
    "- **Positive emotion**: Precision remained consistent at **0.61** (previous: 0.62), while recall slightly decreased to **0.42** (previous: 0.43).\n",
    "\n"
   ]
  },
  {
   "cell_type": "code",
   "execution_count": 18,
   "metadata": {},
   "outputs": [
    {
     "data": {
      "image/png": "[encoded data removed]",
      "text/plain": [
       "<Figure size 576x684 with 1 Axes>"
      ]
     },
     "metadata": {
      "needs_background": "light"
     },
     "output_type": "display_data"
    }
   ],
   "source": [
    "import shap\n",
    "\n",
    "# Initialize SHAP explainer\n",
    "explainer = shap.TreeExplainer(xgb_model)\n",
    "shap_values = explainer.shap_values(X_test)\n",
    "\n",
    "# Plot SHAP summary (shows feature impact across the entire dataset)\n",
    "shap.summary_plot(shap_values, X_test, feature_names=tfidf.get_feature_names_out())"
   ]
  },
  {
   "cell_type": "markdown",
   "metadata": {},
   "source": [
    "#### Feature Importance Interpretation\n",
    "\n",
    "The feature importance plot above shows the most influential words driving predictions across the three sentiment classes:\n",
    "\n",
    "- **Class 0 (Negative)**: Words like \"store,\" \"iphon,\" and \"googl\" play a significant role in negative sentiment predictions. These words might be associated with complaints or issues related to these products and services.\n",
    "  \n",
    "- **Class 1 (Neutral)**: Words such as \"ipad,\" \"appl,\" and \"amp\" influence predictions toward neutral sentiment. These words are frequently mentioned in tweets without a strong positive or negative emotion, indicating their neutral context.\n",
    "\n",
    "- **Class 2 (Positive)**: Positive sentiment predictions are heavily influenced by words like \"ipad,\" \"great,\" and \"awesome,\" which often appear in tweets expressing satisfaction or excitement about products or experiences.\n",
    "\n",
    "The length of each bar represents the importance of the word in the prediction. Notably, words like \"ipad\" and \"iphon\" are influential across multiple classes, indicating their frequent presence in the dataset and their contribution to different sentiment predictions depending on the context.\n"
   ]
  }
 ],
 "metadata": {
  "kernelspec": {
   "display_name": "learn-env",
   "language": "python",
   "name": "python3"
  },
  "language_info": {
   "codemirror_mode": {
    "name": "ipython",
    "version": 3
   },
   "file_extension": ".py",
   "mimetype": "text/x-python",
   "name": "python",
   "nbconvert_exporter": "python",
   "pygments_lexer": "ipython3",
   "version": "3.8.5"
  }
 },
 "nbformat": 4,
 "nbformat_minor": 2
}
