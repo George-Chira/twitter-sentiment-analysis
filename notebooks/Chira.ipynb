{
 "cells": [
  {
   "cell_type": "markdown",
   "metadata": {},
   "source": [
    "## Data Loading and Initial Inspection\n",
    "\n",
    "In this section, we load the dataset and perform an initial inspection to understand its structure. The dataset contains tweets about various devices and the associated emotions directed at those devices. Our goal is to use this data for sentiment classification.\n",
    "\n",
    "### Dataset Description:\n",
    "The dataset consists of the following columns:\n",
    "1. **text**: The content of the tweet.\n",
    "2. **target_device**: The device or product the tweet is directed at (e.g., iPhone, iPad).\n",
    "3. **emotion**: The sentiment expressed in the tweet, labeled as \"Positive emotion\", \"Negative emotion\", or \"Neutral emotion\".\n",
    "\n",
    "### Steps:\n",
    "1. **Load the dataset**: We load the dataset using pandas and check the first few rows to verify that the data has been loaded correctly.\n",
    "2. **Renaming columns**: We rename the columns for easier handling.\n",
    "3. **Explore basic statistics**: We will explore the structure and content of the dataset to understand its properties.\n"
   ]
  },
  {
   "cell_type": "code",
   "execution_count": 2,
   "metadata": {},
   "outputs": [
    {
     "data": {
      "text/html": [
       "<div>\n",
       "<style scoped>\n",
       "    .dataframe tbody tr th:only-of-type {\n",
       "        vertical-align: middle;\n",
       "    }\n",
       "\n",
       "    .dataframe tbody tr th {\n",
       "        vertical-align: top;\n",
       "    }\n",
       "\n",
       "    .dataframe thead th {\n",
       "        text-align: right;\n",
       "    }\n",
       "</style>\n",
       "<table border=\"1\" class=\"dataframe\">\n",
       "  <thead>\n",
       "    <tr style=\"text-align: right;\">\n",
       "      <th></th>\n",
       "      <th>tweet_text</th>\n",
       "      <th>emotion_in_tweet_is_directed_at</th>\n",
       "      <th>is_there_an_emotion_directed_at_a_brand_or_product</th>\n",
       "    </tr>\n",
       "  </thead>\n",
       "  <tbody>\n",
       "    <tr>\n",
       "      <th>0</th>\n",
       "      <td>.@wesley83 I have a 3G iPhone. After 3 hrs twe...</td>\n",
       "      <td>iPhone</td>\n",
       "      <td>Negative emotion</td>\n",
       "    </tr>\n",
       "    <tr>\n",
       "      <th>1</th>\n",
       "      <td>@jessedee Know about @fludapp ? Awesome iPad/i...</td>\n",
       "      <td>iPad or iPhone App</td>\n",
       "      <td>Positive emotion</td>\n",
       "    </tr>\n",
       "    <tr>\n",
       "      <th>2</th>\n",
       "      <td>@swonderlin Can not wait for #iPad 2 also. The...</td>\n",
       "      <td>iPad</td>\n",
       "      <td>Positive emotion</td>\n",
       "    </tr>\n",
       "    <tr>\n",
       "      <th>3</th>\n",
       "      <td>@sxsw I hope this year's festival isn't as cra...</td>\n",
       "      <td>iPad or iPhone App</td>\n",
       "      <td>Negative emotion</td>\n",
       "    </tr>\n",
       "    <tr>\n",
       "      <th>4</th>\n",
       "      <td>@sxtxstate great stuff on Fri #SXSW: Marissa M...</td>\n",
       "      <td>Google</td>\n",
       "      <td>Positive emotion</td>\n",
       "    </tr>\n",
       "  </tbody>\n",
       "</table>\n",
       "</div>"
      ],
      "text/plain": [
       "                                          tweet_text  \\\n",
       "0  .@wesley83 I have a 3G iPhone. After 3 hrs twe...   \n",
       "1  @jessedee Know about @fludapp ? Awesome iPad/i...   \n",
       "2  @swonderlin Can not wait for #iPad 2 also. The...   \n",
       "3  @sxsw I hope this year's festival isn't as cra...   \n",
       "4  @sxtxstate great stuff on Fri #SXSW: Marissa M...   \n",
       "\n",
       "  emotion_in_tweet_is_directed_at  \\\n",
       "0                          iPhone   \n",
       "1              iPad or iPhone App   \n",
       "2                            iPad   \n",
       "3              iPad or iPhone App   \n",
       "4                          Google   \n",
       "\n",
       "  is_there_an_emotion_directed_at_a_brand_or_product  \n",
       "0                                   Negative emotion  \n",
       "1                                   Positive emotion  \n",
       "2                                   Positive emotion  \n",
       "3                                   Negative emotion  \n",
       "4                                   Positive emotion  "
      ]
     },
     "execution_count": 2,
     "metadata": {},
     "output_type": "execute_result"
    }
   ],
   "source": [
    "import pandas as pd\n",
    "\n",
    "# data loading\n",
    "file_url = 'https://raw.githubusercontent.com/George-Chira/twitter-sentiment-analysis/main/data/judge-1377884607_tweet_product_company.csv'\n",
    "df = pd.read_csv(file_url, encoding='ISO-8859-1')\n",
    "\n",
    "# Display the first few rows to verify\n",
    "df.head()\n"
   ]
  },
  {
   "cell_type": "code",
   "execution_count": 3,
   "metadata": {},
   "outputs": [
    {
     "data": {
      "text/html": [
       "<div>\n",
       "<style scoped>\n",
       "    .dataframe tbody tr th:only-of-type {\n",
       "        vertical-align: middle;\n",
       "    }\n",
       "\n",
       "    .dataframe tbody tr th {\n",
       "        vertical-align: top;\n",
       "    }\n",
       "\n",
       "    .dataframe thead th {\n",
       "        text-align: right;\n",
       "    }\n",
       "</style>\n",
       "<table border=\"1\" class=\"dataframe\">\n",
       "  <thead>\n",
       "    <tr style=\"text-align: right;\">\n",
       "      <th></th>\n",
       "      <th>text</th>\n",
       "      <th>target_device</th>\n",
       "      <th>emotion</th>\n",
       "    </tr>\n",
       "  </thead>\n",
       "  <tbody>\n",
       "    <tr>\n",
       "      <th>0</th>\n",
       "      <td>.@wesley83 I have a 3G iPhone. After 3 hrs twe...</td>\n",
       "      <td>iPhone</td>\n",
       "      <td>Negative emotion</td>\n",
       "    </tr>\n",
       "    <tr>\n",
       "      <th>1</th>\n",
       "      <td>@jessedee Know about @fludapp ? Awesome iPad/i...</td>\n",
       "      <td>iPad or iPhone App</td>\n",
       "      <td>Positive emotion</td>\n",
       "    </tr>\n",
       "    <tr>\n",
       "      <th>2</th>\n",
       "      <td>@swonderlin Can not wait for #iPad 2 also. The...</td>\n",
       "      <td>iPad</td>\n",
       "      <td>Positive emotion</td>\n",
       "    </tr>\n",
       "    <tr>\n",
       "      <th>3</th>\n",
       "      <td>@sxsw I hope this year's festival isn't as cra...</td>\n",
       "      <td>iPad or iPhone App</td>\n",
       "      <td>Negative emotion</td>\n",
       "    </tr>\n",
       "    <tr>\n",
       "      <th>4</th>\n",
       "      <td>@sxtxstate great stuff on Fri #SXSW: Marissa M...</td>\n",
       "      <td>Google</td>\n",
       "      <td>Positive emotion</td>\n",
       "    </tr>\n",
       "  </tbody>\n",
       "</table>\n",
       "</div>"
      ],
      "text/plain": [
       "                                                text       target_device  \\\n",
       "0  .@wesley83 I have a 3G iPhone. After 3 hrs twe...              iPhone   \n",
       "1  @jessedee Know about @fludapp ? Awesome iPad/i...  iPad or iPhone App   \n",
       "2  @swonderlin Can not wait for #iPad 2 also. The...                iPad   \n",
       "3  @sxsw I hope this year's festival isn't as cra...  iPad or iPhone App   \n",
       "4  @sxtxstate great stuff on Fri #SXSW: Marissa M...              Google   \n",
       "\n",
       "            emotion  \n",
       "0  Negative emotion  \n",
       "1  Positive emotion  \n",
       "2  Positive emotion  \n",
       "3  Negative emotion  \n",
       "4  Positive emotion  "
      ]
     },
     "execution_count": 3,
     "metadata": {},
     "output_type": "execute_result"
    }
   ],
   "source": [
    "# Renaming columns to shorter names\n",
    "df_tweets = df.rename(columns={\n",
    "    'tweet_text': 'text',\n",
    "    'emotion_in_tweet_is_directed_at': 'target_device',\n",
    "    'is_there_an_emotion_directed_at_a_brand_or_product': 'emotion'\n",
    "})\n",
    "\n",
    "# Verify the renaming\n",
    "df_tweets.head(5)\n"
   ]
  },
  {
   "cell_type": "code",
   "execution_count": 4,
   "metadata": {},
   "outputs": [
    {
     "name": "stdout",
     "output_type": "stream",
     "text": [
      "<class 'pandas.core.frame.DataFrame'>\n",
      "RangeIndex: 9093 entries, 0 to 9092\n",
      "Data columns (total 3 columns):\n",
      " #   Column         Non-Null Count  Dtype \n",
      "---  ------         --------------  ----- \n",
      " 0   text           9092 non-null   object\n",
      " 1   target_device  3291 non-null   object\n",
      " 2   emotion        9093 non-null   object\n",
      "dtypes: object(3)\n",
      "memory usage: 213.2+ KB\n"
     ]
    }
   ],
   "source": [
    "df_tweets.info()"
   ]
  },
  {
   "cell_type": "markdown",
   "metadata": {},
   "source": [
    "check for missing values "
   ]
  },
  {
   "cell_type": "markdown",
   "metadata": {},
   "source": [
    "## Data Exploration\n",
    "\n",
    "Before proceeding with data preprocessing and model building, it's essential to explore the dataset to understand its structure and content. This step helps identify missing data, analyze the distribution of sentiment labels, and inspect the raw text.\n",
    "\n",
    "### Key Steps:\n",
    "1. **Check for missing data**: We ensure there are no missing values in the key columns (`text`, `target_device`, and `emotion`).\n",
    "2. **Examine the distribution of sentiment labels**: This will help us understand whether the data is balanced or imbalanced, which will influence the choice of modeling techniques and evaluation metrics.\n",
    "3. **Sample inspection**: By reviewing a few sample tweets, we can plan the necessary text preprocessing steps (e.g., removing URLs, mentions, and hashtags).\n"
   ]
  },
  {
   "cell_type": "code",
   "execution_count": 5,
   "metadata": {},
   "outputs": [
    {
     "name": "stdout",
     "output_type": "stream",
     "text": [
      "Missing values before handling:\n",
      " text                1\n",
      "target_device    5802\n",
      "emotion             0\n",
      "dtype: int64\n"
     ]
    }
   ],
   "source": [
    "# Check for missing values\n",
    "print(\"Missing values before handling:\\n\", df_tweets.isnull().sum())"
   ]
  },
  {
   "cell_type": "code",
   "execution_count": 6,
   "metadata": {},
   "outputs": [
    {
     "name": "stdout",
     "output_type": "stream",
     "text": [
      "Missing values:\\n text                1\n",
      "target_device    5802\n",
      "emotion             0\n",
      "dtype: int64\n",
      " Distribution of sentiment labels:\\n  emotion\n",
      "No emotion toward brand or product    5389\n",
      "Positive emotion                      2978\n",
      "Negative emotion                       570\n",
      "I can't tell                           156\n",
      "Name: count, dtype: int64\n",
      " \\n Sample tweets:\\n 0    .@wesley83 I have a 3G iPhone. After 3 hrs twe...\n",
      "1    @jessedee Know about @fludapp ? Awesome iPad/i...\n",
      "2    @swonderlin Can not wait for #iPad 2 also. The...\n",
      "3    @sxsw I hope this year's festival isn't as cra...\n",
      "4    @sxtxstate great stuff on Fri #SXSW: Marissa M...\n",
      "Name: text, dtype: object\n",
      "\\ntarget_device:\\n 0                iPhone\n",
      "1    iPad or iPhone App\n",
      "2                  iPad\n",
      "3    iPad or iPhone App\n",
      "4                Google\n",
      "Name: target_device, dtype: object\n"
     ]
    }
   ],
   "source": [
    "# Check for missing values\n",
    "print(r\"Missing values:\\n\", df_tweets.isnull().sum())\n",
    "\n",
    "# Check distribution of sentiment labels\n",
    "print(r\" Distribution of sentiment labels:\\n \", df_tweets['emotion'].value_counts())\n",
    "\n",
    "# Display sample tweets\n",
    "print(r\" \\n Sample tweets:\\n\", df_tweets['text'].head(5))\n",
    "\n",
    "# Display sample tweets\n",
    "print(r\"\\ntarget_device:\\n\", df_tweets['target_device'].head(5))"
   ]
  },
  {
   "cell_type": "markdown",
   "metadata": {},
   "source": [
    "### Handling Missing Values\n",
    "\n",
    "1. Any missing values in the **`target_device`** column are filled with the placeholder value **'Unknown'**. This ensures that missing device information does not result in the exclusion of otherwise useful data.\n",
    "\n",
    "2. Any rows where the tweet **`text`**  is missing are dropped from the dataset. Tweets without content cannot be used for sentiment analysis.\n",
    "After applying these steps, we verify that there are no missing values in the dataset.\n"
   ]
  },
  {
   "cell_type": "code",
   "execution_count": 7,
   "metadata": {},
   "outputs": [
    {
     "name": "stdout",
     "output_type": "stream",
     "text": [
      "missing values after cleaning: text             0\n",
      "target_device    0\n",
      "emotion          0\n",
      "dtype: int64\n"
     ]
    }
   ],
   "source": [
    "#fill missing in the target devise with a placeholder \"unknown\"\n",
    "df_tweets['target_device'].fillna('Unknown'  , inplace= True)\n",
    "#drop missing values in text\n",
    "df_tweets.dropna(subset=['text'], inplace=True)\n",
    "\n",
    "#verify cleaning \n",
    "print(\"missing values after cleaning:\", df_tweets.isna().sum())\n",
    "\n"
   ]
  },
  {
   "cell_type": "code",
   "execution_count": 8,
   "metadata": {},
   "outputs": [
    {
     "data": {
      "image/png": "[encoded data removed]",
      "text/plain": [
       "<Figure size 720x432 with 1 Axes>"
      ]
     },
     "metadata": {
      "needs_background": "light"
     },
     "output_type": "display_data"
    }
   ],
   "source": [
    "import matplotlib.pyplot as plt\n",
    "import seaborn as sns\n",
    "\n",
    "plt.figure(figsize=(10, 6))\n",
    "\n",
    "# Plot the distribution of sentiment labels\n",
    "colors = ['red', 'green', 'blue', 'yellow']\n",
    "sns.countplot(x='emotion', hue= 'emotion', palette = colors, data=df_tweets)\n",
    "plt.title('Distribution of Sentiment Labels')\n",
    "plt.xlabel('Sentiment')\n",
    "plt.ylabel('Frequency')\n",
    "# Show the plots\n",
    "plt.show()\n"
   ]
  },
  {
   "cell_type": "markdown",
   "metadata": {},
   "source": [
    "## Data Preparation and Preprocessing"
   ]
  },
  {
   "cell_type": "markdown",
   "metadata": {},
   "source": [
    "### Mapping Sentiment Labels to Categories\n",
    "\n",
    "Before mapping the sentiment labels, we removed rows where the sentiment is labeled as **\"I can't tell\"** to focus on meaningful sentiment analysis. After removing these irrelevant rows, we map the remaining sentiment labels to numeric categories as follows:\n",
    "\n",
    "- **\"Negative emotion\"** → **0**\n",
    "- **\"Neutral emotion\"** → **1**\n",
    "- **\"Positive emotion\"** → **2**\n",
    "- **\"No emotion toward brand or product\"** → **1** (treated as **neutral**)\n",
    "\n",
    "This mapping ensures that we account for all relevant sentiment categories, with **\"No emotion\"** treated as **neutral**, making the dataset ready for sentiment classification."
   ]
  },
  {
   "cell_type": "code",
   "execution_count": 9,
   "metadata": {},
   "outputs": [
    {
     "data": {
      "text/plain": [
       "sentiment_numeric\n",
       "1    5388\n",
       "2    2978\n",
       "0     570\n",
       "Name: count, dtype: int64"
      ]
     },
     "execution_count": 9,
     "metadata": {},
     "output_type": "execute_result"
    }
   ],
   "source": [
    "# Drop rows where the 'emotion' column contains 'I can't tell'\n",
    "df_tweets = df_tweets[df_tweets['emotion'] != \"I can't tell\"]\n",
    "\n",
    "# Map sentiment values to numeric categories, treating 'No emotion' as neutral (1)\n",
    "sentiment_map = {\n",
    "    'Negative emotion': 0,\n",
    "    'Neutral emotion': 1,\n",
    "    'Positive emotion': 2,\n",
    "    'No emotion toward brand or product': 1  # Treat this as neutral\n",
    "}\n",
    "\n",
    "# Apply the mapping to the 'emotion' column\n",
    "df_tweets['sentiment_numeric'] = df_tweets['emotion'].map(sentiment_map)\n",
    "\n",
    "# Verify the changes and check the distribution of sentiment categories\n",
    "df_tweets['sentiment_numeric'].value_counts()\n"
   ]
  },
  {
   "cell_type": "markdown",
   "metadata": {},
   "source": [
    "### Data Cleaning\n",
    "\n",
    "In this step, we create a function to clean the raw text data to remove noise and prepare it for further processing. The following operations are performed:\n",
    "\n",
    "1. **Remove URLs**: We remove any links in the tweet, as they don’t contribute to the sentiment analysis.\n",
    "2. **Remove Mentions and Hashtags**: We eliminate mentions (`@username`) and hashtags (`#hashtag`) to focus only on the content of the tweet.\n",
    "3. **Remove Special Characters and Numbers**: We remove any non-alphabetic characters, keeping only letters.\n",
    "4. **Convert to Lowercase**: All text is converted to lowercase to avoid case sensitivity issues during modeling.\n",
    "\n",
    "Once cleaned, the `text` column is transformed into a new column called `cleaned_text` for further processing.\n"
   ]
  },
  {
   "cell_type": "code",
   "execution_count": 10,
   "metadata": {},
   "outputs": [
    {
     "name": "stderr",
     "output_type": "stream",
     "text": [
      "[nltk_data] Downloading package stopwords to\n",
      "[nltk_data]     C:\\Users\\GeorgeC\\AppData\\Roaming\\nltk_data...\n",
      "[nltk_data]   Package stopwords is already up-to-date!\n"
     ]
    },
    {
     "data": {
      "text/html": [
       "<div>\n",
       "<style scoped>\n",
       "    .dataframe tbody tr th:only-of-type {\n",
       "        vertical-align: middle;\n",
       "    }\n",
       "\n",
       "    .dataframe tbody tr th {\n",
       "        vertical-align: top;\n",
       "    }\n",
       "\n",
       "    .dataframe thead th {\n",
       "        text-align: right;\n",
       "    }\n",
       "</style>\n",
       "<table border=\"1\" class=\"dataframe\">\n",
       "  <thead>\n",
       "    <tr style=\"text-align: right;\">\n",
       "      <th></th>\n",
       "      <th>text</th>\n",
       "      <th>processed_tokens</th>\n",
       "    </tr>\n",
       "  </thead>\n",
       "  <tbody>\n",
       "    <tr>\n",
       "      <th>0</th>\n",
       "      <td>.@wesley83 I have a 3G iPhone. After 3 hrs twe...</td>\n",
       "      <td>[iphon, hr, tweet, dead, need, upgrad, plugin,...</td>\n",
       "    </tr>\n",
       "    <tr>\n",
       "      <th>1</th>\n",
       "      <td>@jessedee Know about @fludapp ? Awesome iPad/i...</td>\n",
       "      <td>[know, awesom, ipad, iphon, app, like, appreci...</td>\n",
       "    </tr>\n",
       "    <tr>\n",
       "      <th>2</th>\n",
       "      <td>@swonderlin Can not wait for #iPad 2 also. The...</td>\n",
       "      <td>[wait, also, sale]</td>\n",
       "    </tr>\n",
       "    <tr>\n",
       "      <th>3</th>\n",
       "      <td>@sxsw I hope this year's festival isn't as cra...</td>\n",
       "      <td>[hope, year, festiv, crashi, year, iphon, app]</td>\n",
       "    </tr>\n",
       "    <tr>\n",
       "      <th>4</th>\n",
       "      <td>@sxtxstate great stuff on Fri #SXSW: Marissa M...</td>\n",
       "      <td>[great, stuff, fri, marissa, mayer, googl, tim...</td>\n",
       "    </tr>\n",
       "  </tbody>\n",
       "</table>\n",
       "</div>"
      ],
      "text/plain": [
       "                                                text  \\\n",
       "0  .@wesley83 I have a 3G iPhone. After 3 hrs twe...   \n",
       "1  @jessedee Know about @fludapp ? Awesome iPad/i...   \n",
       "2  @swonderlin Can not wait for #iPad 2 also. The...   \n",
       "3  @sxsw I hope this year's festival isn't as cra...   \n",
       "4  @sxtxstate great stuff on Fri #SXSW: Marissa M...   \n",
       "\n",
       "                                    processed_tokens  \n",
       "0  [iphon, hr, tweet, dead, need, upgrad, plugin,...  \n",
       "1  [know, awesom, ipad, iphon, app, like, appreci...  \n",
       "2                                 [wait, also, sale]  \n",
       "3     [hope, year, festiv, crashi, year, iphon, app]  \n",
       "4  [great, stuff, fri, marissa, mayer, googl, tim...  "
      ]
     },
     "execution_count": 10,
     "metadata": {},
     "output_type": "execute_result"
    }
   ],
   "source": [
    "import re\n",
    "import nltk\n",
    "from nltk.tokenize import RegexpTokenizer\n",
    "from nltk.corpus import stopwords\n",
    "from nltk.stem import PorterStemmer\n",
    "\n",
    "# Download necessary NLTK data files\n",
    "nltk.download('stopwords')\n",
    "\n",
    "# initializing the RegexpTokenizer, porterstemmer and stopwords\n",
    "tokenizer = RegexpTokenizer(r\"(?u)\\w{3,}\") #tokenizer that keeps 3 letter words\n",
    "stopwords_list = set(stopwords.words('english'))\n",
    "stemmer = PorterStemmer()\n",
    "\n",
    "def preprocess_text(text, tokenizer, stopwords_list, stemmer):\n",
    "    # Step 1: Remove URLs\n",
    "    text = re.sub(r'http\\S+|www\\S+', \" \" , text)  # Removes any URL links starting with http or www\n",
    "    # Step 2: Remove mentions and hashtags\n",
    "    text = re.sub(r'@\\w+|#\\w+', \" \" , text) #remove usernames and hashtags \n",
    "    # Step 3: Remove special characters and numbers, keeping only alphabetic characters\n",
    "    text = re.sub(r'[^a-zA-Z\\s]', \" \" , text) #remove special characters retaing alphabet words only\n",
    "    # Step 4: Standardize case (lowercase the text)\n",
    "    text = text.lower()\n",
    "    \n",
    "    # Step 5: Tokenize ` Splits text into tokens (words) based on the tokenizer rules\n",
    "    tokens = tokenizer.tokenize(text)  \n",
    "    # Step 6: Remove stopwords using `stopwords_list`\n",
    "    tokens = [word for word in tokens if word not in stopwords_list]  # Removes common stopwords\n",
    "    # Step 7: Stem the tokenized text using `stemmer`\n",
    "    tokens = [stemmer.stem(word) for word in tokens]  # Reduces words to their root form using stemming\n",
    "    # Return the preprocessed text\n",
    "    return tokens  # Returns the processed tokens (cleaned and stemmed)\n",
    "\n",
    "# Apply function to the dataframe \n",
    "df_tweets['processed_tokens'] = df_tweets['text'].apply(lambda x: preprocess_text(x, tokenizer, stopwords_list, stemmer))\n",
    "df_tweets[['text', 'processed_tokens']].head()\n"
   ]
  },
  {
   "cell_type": "markdown",
   "metadata": {},
   "source": [
    "### Feature Extraction with TF-IDF\n",
    "\n",
    "After preprocessing the text, the next step is to convert the cleaned and tokenized text into numerical vectors a format that machine learning models can use for training and predictions.\n",
    "\n",
    "#### Steps:\n",
    "1.  We initialize the `TfidfVectorizer`, which transforms the processed tokens into numerical vectors.\n",
    "2. **Fit and Transform**: We apply the vectorizer to the `processed_tokens` column to obtain the TF-IDF features.\n",
    "3. **Result**: The resulting matrix represents the importance of each word across all tweets."
   ]
  },
  {
   "cell_type": "code",
   "execution_count": 11,
   "metadata": {},
   "outputs": [
    {
     "name": "stdout",
     "output_type": "stream",
     "text": [
      "(8936, 5832)\n"
     ]
    }
   ],
   "source": [
    "from sklearn.feature_extraction.text import TfidfVectorizer\n",
    "\n",
    "# Convert the processed tokens back into a single string for each tweet\n",
    "df_tweets['processed_text'] = df_tweets['processed_tokens'].apply(lambda tokens: ' '.join(tokens))\n",
    "\n",
    "# Initialize the TF-IDF Vectorizer \n",
    "tfidf = TfidfVectorizer()\n",
    "\n",
    "# Fit and transform the 'processed_text' column into TF-IDF features\n",
    "X = tfidf.fit_transform(df_tweets['processed_text'])\n",
    "\n",
    "# Display shape of the resulting matrix\n",
    "print(X.shape)\n",
    "\n"
   ]
  },
  {
   "cell_type": "markdown",
   "metadata": {},
   "source": [
    "## Modeling \n",
    "### Decision Tree Classifier: First Model\n",
    "\n",
    "With the text data already transformed into numerical features using **TF-IDF**, we now move to building our first classification model: the **Decision Tree Classifier**.\n",
    "\n",
    "#### Steps:\n",
    "**Train-Test Split**: We split the dataset into training (80%) and test (20%) sets to train and evaluate the model.\n",
    "**Training the Decision Tree**: We initialize the **Decision Tree Classifier** and train it using the training set.\n",
    "**Prediction and Evaluation**:\n",
    "   - After training, we make predictions on the test set.\n",
    "   - The performance of the model is evaluated using **accuracy** and a **classification report**, which provides precision, recall, and F1-score for each sentiment category (Negative, Neutral, Positive).\n",
    "\n",
    "This will provide a baseline performance of the Decision Tree model, which can be compared to other models in subsequent steps.\n"
   ]
  },
  {
   "cell_type": "code",
   "execution_count": 12,
   "metadata": {},
   "outputs": [
    {
     "name": "stdout",
     "output_type": "stream",
     "text": [
      "Accuracy: 0.638940693770981\n",
      "                                    precision    recall  f1-score   support\n",
      "\n",
      "                  Negative emotion       0.40      0.26      0.32       189\n",
      "No emotion toward brand or product       0.70      0.77      0.73      1612\n",
      "                  Positive emotion       0.54      0.48      0.50       880\n",
      "\n",
      "                          accuracy                           0.64      2681\n",
      "                         macro avg       0.55      0.50      0.52      2681\n",
      "                      weighted avg       0.63      0.64      0.63      2681\n",
      "\n"
     ]
    }
   ],
   "source": [
    "from sklearn.tree import DecisionTreeClassifier\n",
    "from sklearn.model_selection import train_test_split\n",
    "from sklearn.metrics import classification_report, accuracy_score, confusion_matrix\n",
    "\n",
    "#splitting the data into training and test sets\n",
    "X = tfidf.fit_transform(df_tweets['processed_text'])  #tfidf features\n",
    "y = df_tweets['emotion'] #target - positive, neutral, negative\n",
    "\n",
    "#split into training and test sets\n",
    "X_train, X_test, y_train, y_test = train_test_split(X, y, test_size= 0.3, random_state= 42)\n",
    "\n",
    "#initialize the tree classifier\n",
    "tree = DecisionTreeClassifier( random_state= 42)\n",
    "\n",
    "#model training\n",
    "tree.fit(X_train, y_train)\n",
    "\n",
    "#make predictions\n",
    "y_pred = tree.predict(X_test)\n",
    "\n",
    "#make evaluations\n",
    "print(f\"Accuracy: {accuracy_score(y_test, y_pred)}\")\n",
    "print(classification_report(y_test, y_pred))\n"
   ]
  },
  {
   "cell_type": "markdown",
   "metadata": {},
   "source": [
    "### Model Performance\n",
    "\n",
    "The **Decision Tree Classifier** achieved an accuracy of **63.89%**. Performance for each sentiment class:\n",
    "\n",
    "- **Negative emotion**: Precision of **0.40** and recall of **0.26**, resulting in an F1-score of **0.32**. The model struggles to identify negative emotions, missing many relevant samples.\n",
    "  \n",
    "- **Neutral emotion**: Precision of **0.70** and recall of **0.77**, with an F1-score of **0.73**. The model is highly effective at identifying neutral sentiments, likely due to their higher frequency in the dataset.\n",
    "\n",
    "- **Positive emotion**: Precision of **0.54** and recall of **0.48**, leading to an F1-score of **0.50**. The model shows moderate performance in identifying positive emotions.\n",
    "\n",
    "\n",
    "### Next Steps:\n",
    "1. **Hyperparameter Tuning**: Further refine the model to boost performance.\n",
    "2. **Handle Class Imbalance**: Implement strategies like `class_weight='balanced'` to improve results for minority classes.\n"
   ]
  },
  {
   "cell_type": "code",
   "execution_count": 13,
   "metadata": {},
   "outputs": [
    {
     "name": "stdout",
     "output_type": "stream",
     "text": [
      "best performers: {'class_weight': 'balanced', 'criterion': 'gini', 'max_depth': None, 'min_samples_leaf': 1, 'min_samples_split': 2}\n",
      "Accuracy after tuning and class weighting: 0.6199179410667661\n",
      "                                    precision    recall  f1-score   support\n",
      "\n",
      "                  Negative emotion       0.32      0.35      0.33       189\n",
      "No emotion toward brand or product       0.72      0.70      0.71      1612\n",
      "                  Positive emotion       0.52      0.53      0.52       880\n",
      "\n",
      "                          accuracy                           0.62      2681\n",
      "                         macro avg       0.52      0.53      0.52      2681\n",
      "                      weighted avg       0.62      0.62      0.62      2681\n",
      "\n"
     ]
    },
    {
     "data": {
      "image/png": "[encoded data removed]",
      "text/plain": [
       "<Figure size 576x432 with 2 Axes>"
      ]
     },
     "metadata": {
      "needs_background": "light"
     },
     "output_type": "display_data"
    }
   ],
   "source": [
    "from sklearn.model_selection import GridSearchCV\n",
    "#defining parameters\n",
    "param_grid = {\n",
    "    'max_depth': [5, 10, None],  \n",
    "    'min_samples_split': [2, 10], \n",
    "    'min_samples_leaf': [1, 5], \n",
    "    'criterion': ['gini'], \n",
    "    'class_weight': [ 'balanced'] # Adding class_weight to deal with imbalance\n",
    "    }\n",
    "\n",
    "#initialize the gridsearch CV\n",
    "grid_search = GridSearchCV(DecisionTreeClassifier(random_state=42), param_grid, cv=5, scoring = 'accuracy')\n",
    "\n",
    "#fit the gridsearchCV on training data\n",
    "grid_search.fit(X_train, y_train)\n",
    "\n",
    "#get the best performers\n",
    "print(\"best performers:\", grid_search.best_params_)\n",
    "\n",
    "#evaluate the best parameters\n",
    "best_tree = grid_search.best_estimator_\n",
    "y_pred_best = best_tree.predict(X_test)\n",
    "\n",
    "# Print the new accuracy and classification report\n",
    "print(f\"Accuracy after tuning and class weighting: {accuracy_score(y_test, y_pred_best)}\")\n",
    "print(classification_report(y_test, y_pred_best)) \n",
    "\n",
    "\n",
    "# Generate the confusion matrix\n",
    "cm = confusion_matrix(y_test, y_pred_best, labels=['Negative emotion', 'No emotion toward brand or product', 'Positive emotion'])\n",
    "\n",
    "# Create a heatmap for the confusion matrix\n",
    "plt.figure(figsize=(8, 6))\n",
    "sns.heatmap(cm, annot=True, fmt='d', cmap='Blues', xticklabels=['Negative', 'Neutral', 'Positive'], yticklabels=['Negative', 'Neutral', 'Positive'])\n",
    "plt.title('Confusion Matrix for Decision Tree Classifier')\n",
    "plt.ylabel('Actual Labels')\n",
    "plt.xlabel('Predicted Labels')\n",
    "plt.show()"
   ]
  },
  {
   "cell_type": "markdown",
   "metadata": {},
   "source": [
    "### Hyperparameter Tuning Results with GridSearchCV\n",
    "\n",
    "#### Performance After Tuning:\n",
    "- **Negative emotion**: Precision improved to **0.32** (previous: 0.29), recall increased to **0.35** (previous: 0.26), and F1-score rose to **0.33** (previous: 0.29), showing better recognition of negative sentiments.\n",
    "- **Neutral emotion**: Stable performance with an F1-score of **0.71** (previous: 0.73), indicating consistent identification of neutral sentiments.\n",
    "- **Positive emotion**: Precision improved to **0.52** (previous: 0.50), with recall of **0.53** (previous: 0.48), resulting in an F1-score of **0.52** (previous: 0.50), showing slight improvement in identifying positive sentiments.\n",
    "\n"
   ]
  },
  {
   "cell_type": "markdown",
   "metadata": {},
   "source": [
    "### Model 2: XGBoost (Extreme Gradient Boosting)\n",
    "\n",
    "After evaluating the **Decision Tree** model, we observed that while it provided decent results, there are some limitations. \n",
    "#### Why XGBoost?\n",
    "XGBoost is an advanced ensemble learning algorithm based on **Gradient Boosting**. It builds multiple decision trees sequentially, where each tree attempts to correct the errors of the previous one. This boosting technique helps the model generalize better and reduces overfitting, making XGBoost more powerful than a standard Decision Tree.\n",
    "\n",
    "In the next step, we will build the XGBoost model using the same **TF-IDF features** that we used for the Decision Tree and evaluate its performance on the test set.\n"
   ]
  },
  {
   "cell_type": "code",
   "execution_count": 14,
   "metadata": {},
   "outputs": [
    {
     "name": "stdout",
     "output_type": "stream",
     "text": [
      "Accuracy: 0.6828859060402684\n",
      "              precision    recall  f1-score   support\n",
      "\n",
      "           0       0.53      0.13      0.21       126\n",
      "           1       0.70      0.88      0.78      1094\n",
      "           2       0.62      0.43      0.50       568\n",
      "\n",
      "    accuracy                           0.68      1788\n",
      "   macro avg       0.62      0.48      0.50      1788\n",
      "weighted avg       0.67      0.68      0.65      1788\n",
      "\n"
     ]
    },
    {
     "data": {
      "text/plain": [
       "<Figure size 720x576 with 0 Axes>"
      ]
     },
     "metadata": {},
     "output_type": "display_data"
    },
    {
     "data": {
      "image/png": "[encoded data removed]",
      "text/plain": [
       "<Figure size 432x288 with 1 Axes>"
      ]
     },
     "metadata": {
      "needs_background": "light"
     },
     "output_type": "display_data"
    }
   ],
   "source": [
    "import xgboost as xgb\n",
    "from sklearn.metrics import accuracy_score, classification_report, confusion_matrix\n",
    "from sklearn.preprocessing import LabelEncoder\n",
    "\n",
    "le = LabelEncoder()\n",
    "\n",
    "X = tfidf.fit_transform(df_tweets['processed_text'])\n",
    "y = le.fit_transform(df_tweets['emotion'])\n",
    "\n",
    "#perform test_train_split and flatten y_train and y_test\n",
    "X_train, X_test, y_train, y_test = train_test_split(X, y, test_size=0.2, random_state=42)\n",
    "\n",
    "# Initialize and train XGBoost classifier\n",
    "xgb_model = xgb.XGBClassifier(random_state=42)\n",
    "xgb_model.fit(X_train, y_train)\n",
    "\n",
    "# Make predictions\n",
    "y_pred_xgb = xgb_model.predict(X_test)\n",
    "\n",
    "# Evaluate\n",
    "print(f\"Accuracy: {accuracy_score(y_test, y_pred_xgb)}\")\n",
    "print(classification_report(y_test, y_pred_xgb))\n",
    "\n",
    "# Plot feature importance for XGBoost\n",
    "import matplotlib.pyplot as plt\n",
    "from xgboost import plot_importance\n",
    "\n",
    "# Plot the top 10 important features\n",
    "plt.figure(figsize=(10, 8))\n",
    "\n",
    "plot_importance(xgb_model, max_num_features=10)\n",
    "plt.title('Top 10 Feature Importance for XGBoost')\n",
    "plt.show()\n"
   ]
  },
  {
   "cell_type": "markdown",
   "metadata": {},
   "source": [
    "### XGBoost Model Performance\n",
    "\n",
    "#### Performance After Training:\n",
    "- **Negative emotion**: Precision improved to **0.53** (previous: 0.32), but recall dropped to **0.13** (previous: 0.35), resulting in an F1-score of **0.21** (previous: 0.33). While precision increased, recall for negative sentiment significantly worsened.\n",
    "  \n",
    "- **Neutral emotion**: Stable performance with an F1-score of **0.78** (previous: 0.71), with precision of **0.70** (previous: 0.72) and recall of **0.88** (previous: 0.70). The model improved its ability to correctly identify neutral sentiments.\n",
    "\n",
    "- **Positive emotion**: Precision improved to **0.62** (previous: 0.52), though recall slightly decreased to **0.43** (previous: 0.53), resulting in an F1-score of **0.50** (previous: 0.52). Precision improved, but recall dropped slightly.\n",
    "\n",
    "#### Summary:\n",
    "- **Negative emotion** saw a trade-off: improved precision but a drop in recall, leading to a lower F1-score.\n",
    "- **Neutral emotion** continued to perform well, with improved recall and stable precision.\n",
    "- **Positive emotion** showed improved precision but a slight drop in recall, leading to a minor decline in F1-score.\n"
   ]
  },
  {
   "cell_type": "code",
   "execution_count": 15,
   "metadata": {},
   "outputs": [
    {
     "data": {
      "image/png": "[encoded data removed]",
      "text/plain": [
       "<Figure size 576x684 with 1 Axes>"
      ]
     },
     "metadata": {
      "needs_background": "light"
     },
     "output_type": "display_data"
    }
   ],
   "source": [
    "import shap\n",
    "\n",
    "# Initialize SHAP explainer\n",
    "explainer = shap.TreeExplainer(xgb_model)\n",
    "shap_values = explainer.shap_values(X_test)\n",
    "\n",
    "# Plot SHAP summary (shows feature impact across the entire dataset)\n",
    "shap.summary_plot(shap_values, X_test, feature_names=tfidf.get_feature_names_out())"
   ]
  },
  {
   "cell_type": "markdown",
   "metadata": {},
   "source": [
    "#### Feature Importance Interpretation\n",
    "\n",
    "The feature importance plot above shows the most influential words driving predictions across the three sentiment classes:\n",
    "\n",
    "- **Class 0 (Negative)**: Words like \"link\", \"amp\", and \"iphon\" have a significant impact on negative sentiment predictions.\n",
    "- **Class 1 (Neutral)**: Words such as \"ipad\", \"app\", and \"store\" influence predictions toward neutral sentiment.\n",
    "- **Class 2 (Positive)**: Positive sentiment predictions are heavily influenced by words like \"cool\", \"great\", and \"awesome.\"\n",
    "\n",
    "The length of each bar represents the importance of the word in the prediction. Words like \"ipad\" and \"app\" show importance across multiple classes, indicating they contribute to predictions across different sentiments.\n"
   ]
  },
  {
   "cell_type": "code",
   "execution_count": 18,
   "metadata": {},
   "outputs": [],
   "source": [
    "# Convert any non-string data in the 'text' column to strings\n",
    "df_tweets['text'] = df_tweets['text'].astype(str)\n",
    "\n",
    "# Now proceed with tokenization\n",
    "encoded_input = tokenizer(\n",
    "    df_tweets['text'].tolist(),  # Ensure the text is in list form\n",
    "    padding=True,\n",
    "    truncation=True,\n",
    "    return_tensors='tf'\n",
    ")\n"
   ]
  },
  {
   "cell_type": "code",
   "execution_count": 23,
   "metadata": {},
   "outputs": [
    {
     "name": "stderr",
     "output_type": "stream",
     "text": [
      "Some weights of the PyTorch model were not used when initializing the TF 2.0 model TFDistilBertForSequenceClassification: ['vocab_layer_norm.bias', 'vocab_layer_norm.weight', 'vocab_transform.bias', 'vocab_projector.bias', 'vocab_transform.weight']\n",
      "- This IS expected if you are initializing TFDistilBertForSequenceClassification from a PyTorch model trained on another task or with another architecture (e.g. initializing a TFBertForSequenceClassification model from a BertForPreTraining model).\n",
      "- This IS NOT expected if you are initializing TFDistilBertForSequenceClassification from a PyTorch model that you expect to be exactly identical (e.g. initializing a TFBertForSequenceClassification model from a BertForSequenceClassification model).\n",
      "Some weights or buffers of the TF 2.0 model TFDistilBertForSequenceClassification were not initialized from the PyTorch model and are newly initialized: ['pre_classifier.weight', 'pre_classifier.bias', 'classifier.weight', 'classifier.bias']\n",
      "You should probably TRAIN this model on a down-stream task to be able to use it for predictions and inference.\n"
     ]
    },
    {
     "name": "stdout",
     "output_type": "stream",
     "text": [
      "Epoch 1/2\n"
     ]
    },
    {
     "ename": "AttributeError",
     "evalue": "in user code:\n\n    File \"c:\\Users\\GeorgeC\\anaconda3\\envs\\learn-env\\lib\\site-packages\\keras\\engine\\training.py\", line 1284, in train_function  *\n        return step_function(self, iterator)\n    File \"c:\\Users\\GeorgeC\\anaconda3\\envs\\learn-env\\lib\\site-packages\\keras\\engine\\training.py\", line 1268, in step_function  **\n        outputs = model.distribute_strategy.run(run_step, args=(data,))\n    File \"c:\\Users\\GeorgeC\\anaconda3\\envs\\learn-env\\lib\\site-packages\\keras\\engine\\training.py\", line 1249, in run_step  **\n        outputs = model.train_step(data)\n    File \"c:\\Users\\GeorgeC\\anaconda3\\envs\\learn-env\\lib\\site-packages\\transformers\\modeling_tf_utils.py\", line 1630, in train_step\n        x, y, sample_weight = keras.utils.unpack_x_y_sample_weight(data)\n\n    AttributeError: module 'keras.utils' has no attribute 'unpack_x_y_sample_weight'\n",
     "output_type": "error",
     "traceback": [
      "\u001b[1;31m---------------------------------------------------------------------------\u001b[0m",
      "\u001b[1;31mAttributeError\u001b[0m                            Traceback (most recent call last)",
      "\u001b[1;32m<ipython-input-23-27a2a03680aa>\u001b[0m in \u001b[0;36m<module>\u001b[1;34m\u001b[0m\n\u001b[0;32m     66\u001b[0m \u001b[1;33m\u001b[0m\u001b[0m\n\u001b[0;32m     67\u001b[0m \u001b[1;31m# 7. Model Training\u001b[0m\u001b[1;33m\u001b[0m\u001b[1;33m\u001b[0m\u001b[1;33m\u001b[0m\u001b[0m\n\u001b[1;32m---> 68\u001b[1;33m history = model.fit(\n\u001b[0m\u001b[0;32m     69\u001b[0m     \u001b[1;33m[\u001b[0m\u001b[0mX_train_ids\u001b[0m\u001b[1;33m,\u001b[0m \u001b[0mX_train_mask\u001b[0m\u001b[1;33m]\u001b[0m\u001b[1;33m,\u001b[0m \u001b[0my_train\u001b[0m\u001b[1;33m,\u001b[0m\u001b[1;33m\u001b[0m\u001b[1;33m\u001b[0m\u001b[0m\n\u001b[0;32m     70\u001b[0m     \u001b[0mepochs\u001b[0m\u001b[1;33m=\u001b[0m\u001b[1;36m2\u001b[0m\u001b[1;33m,\u001b[0m \u001b[0mbatch_size\u001b[0m\u001b[1;33m=\u001b[0m\u001b[1;36m16\u001b[0m\u001b[1;33m,\u001b[0m\u001b[1;33m\u001b[0m\u001b[1;33m\u001b[0m\u001b[0m\n",
      "\u001b[1;32mc:\\Users\\GeorgeC\\anaconda3\\envs\\learn-env\\lib\\site-packages\\transformers\\modeling_tf_utils.py\u001b[0m in \u001b[0;36mfit\u001b[1;34m(self, *args, **kwargs)\u001b[0m\n\u001b[0;32m   1227\u001b[0m     \u001b[1;32mdef\u001b[0m \u001b[0mfit\u001b[0m\u001b[1;33m(\u001b[0m\u001b[0mself\u001b[0m\u001b[1;33m,\u001b[0m \u001b[1;33m*\u001b[0m\u001b[0margs\u001b[0m\u001b[1;33m,\u001b[0m \u001b[1;33m**\u001b[0m\u001b[0mkwargs\u001b[0m\u001b[1;33m)\u001b[0m\u001b[1;33m:\u001b[0m\u001b[1;33m\u001b[0m\u001b[1;33m\u001b[0m\u001b[0m\n\u001b[0;32m   1228\u001b[0m         \u001b[0margs\u001b[0m\u001b[1;33m,\u001b[0m \u001b[0mkwargs\u001b[0m \u001b[1;33m=\u001b[0m \u001b[0mconvert_batch_encoding\u001b[0m\u001b[1;33m(\u001b[0m\u001b[1;33m*\u001b[0m\u001b[0margs\u001b[0m\u001b[1;33m,\u001b[0m \u001b[1;33m**\u001b[0m\u001b[0mkwargs\u001b[0m\u001b[1;33m)\u001b[0m\u001b[1;33m\u001b[0m\u001b[1;33m\u001b[0m\u001b[0m\n\u001b[1;32m-> 1229\u001b[1;33m         \u001b[1;32mreturn\u001b[0m \u001b[0msuper\u001b[0m\u001b[1;33m(\u001b[0m\u001b[1;33m)\u001b[0m\u001b[1;33m.\u001b[0m\u001b[0mfit\u001b[0m\u001b[1;33m(\u001b[0m\u001b[1;33m*\u001b[0m\u001b[0margs\u001b[0m\u001b[1;33m,\u001b[0m \u001b[1;33m**\u001b[0m\u001b[0mkwargs\u001b[0m\u001b[1;33m)\u001b[0m\u001b[1;33m\u001b[0m\u001b[1;33m\u001b[0m\u001b[0m\n\u001b[0m\u001b[0;32m   1230\u001b[0m \u001b[1;33m\u001b[0m\u001b[0m\n\u001b[0;32m   1231\u001b[0m     \u001b[1;33m@\u001b[0m\u001b[0mfunctools\u001b[0m\u001b[1;33m.\u001b[0m\u001b[0mwraps\u001b[0m\u001b[1;33m(\u001b[0m\u001b[0mkeras\u001b[0m\u001b[1;33m.\u001b[0m\u001b[0mModel\u001b[0m\u001b[1;33m.\u001b[0m\u001b[0mtrain_on_batch\u001b[0m\u001b[1;33m)\u001b[0m\u001b[1;33m\u001b[0m\u001b[1;33m\u001b[0m\u001b[0m\n",
      "\u001b[1;32mc:\\Users\\GeorgeC\\anaconda3\\envs\\learn-env\\lib\\site-packages\\keras\\utils\\traceback_utils.py\u001b[0m in \u001b[0;36merror_handler\u001b[1;34m(*args, **kwargs)\u001b[0m\n\u001b[0;32m     68\u001b[0m             \u001b[1;31m# To get the full stack trace, call:\u001b[0m\u001b[1;33m\u001b[0m\u001b[1;33m\u001b[0m\u001b[1;33m\u001b[0m\u001b[0m\n\u001b[0;32m     69\u001b[0m             \u001b[1;31m# `tf.debugging.disable_traceback_filtering()`\u001b[0m\u001b[1;33m\u001b[0m\u001b[1;33m\u001b[0m\u001b[1;33m\u001b[0m\u001b[0m\n\u001b[1;32m---> 70\u001b[1;33m             \u001b[1;32mraise\u001b[0m \u001b[0me\u001b[0m\u001b[1;33m.\u001b[0m\u001b[0mwith_traceback\u001b[0m\u001b[1;33m(\u001b[0m\u001b[0mfiltered_tb\u001b[0m\u001b[1;33m)\u001b[0m \u001b[1;32mfrom\u001b[0m \u001b[1;32mNone\u001b[0m\u001b[1;33m\u001b[0m\u001b[1;33m\u001b[0m\u001b[0m\n\u001b[0m\u001b[0;32m     71\u001b[0m         \u001b[1;32mfinally\u001b[0m\u001b[1;33m:\u001b[0m\u001b[1;33m\u001b[0m\u001b[1;33m\u001b[0m\u001b[0m\n\u001b[0;32m     72\u001b[0m             \u001b[1;32mdel\u001b[0m \u001b[0mfiltered_tb\u001b[0m\u001b[1;33m\u001b[0m\u001b[1;33m\u001b[0m\u001b[0m\n",
      "\u001b[1;32mc:\\Users\\GeorgeC\\anaconda3\\envs\\learn-env\\lib\\site-packages\\keras\\engine\\training.py\u001b[0m in \u001b[0;36mtf__train_function\u001b[1;34m(iterator)\u001b[0m\n\u001b[0;32m     13\u001b[0m                 \u001b[1;32mtry\u001b[0m\u001b[1;33m:\u001b[0m\u001b[1;33m\u001b[0m\u001b[1;33m\u001b[0m\u001b[0m\n\u001b[0;32m     14\u001b[0m                     \u001b[0mdo_return\u001b[0m \u001b[1;33m=\u001b[0m \u001b[1;32mTrue\u001b[0m\u001b[1;33m\u001b[0m\u001b[1;33m\u001b[0m\u001b[0m\n\u001b[1;32m---> 15\u001b[1;33m                     \u001b[0mretval_\u001b[0m \u001b[1;33m=\u001b[0m \u001b[0mag__\u001b[0m\u001b[1;33m.\u001b[0m\u001b[0mconverted_call\u001b[0m\u001b[1;33m(\u001b[0m\u001b[0mag__\u001b[0m\u001b[1;33m.\u001b[0m\u001b[0mld\u001b[0m\u001b[1;33m(\u001b[0m\u001b[0mstep_function\u001b[0m\u001b[1;33m)\u001b[0m\u001b[1;33m,\u001b[0m \u001b[1;33m(\u001b[0m\u001b[0mag__\u001b[0m\u001b[1;33m.\u001b[0m\u001b[0mld\u001b[0m\u001b[1;33m(\u001b[0m\u001b[0mself\u001b[0m\u001b[1;33m)\u001b[0m\u001b[1;33m,\u001b[0m \u001b[0mag__\u001b[0m\u001b[1;33m.\u001b[0m\u001b[0mld\u001b[0m\u001b[1;33m(\u001b[0m\u001b[0miterator\u001b[0m\u001b[1;33m)\u001b[0m\u001b[1;33m)\u001b[0m\u001b[1;33m,\u001b[0m \u001b[1;32mNone\u001b[0m\u001b[1;33m,\u001b[0m \u001b[0mfscope\u001b[0m\u001b[1;33m)\u001b[0m\u001b[1;33m\u001b[0m\u001b[1;33m\u001b[0m\u001b[0m\n\u001b[0m\u001b[0;32m     16\u001b[0m                 \u001b[1;32mexcept\u001b[0m\u001b[1;33m:\u001b[0m\u001b[1;33m\u001b[0m\u001b[1;33m\u001b[0m\u001b[0m\n\u001b[0;32m     17\u001b[0m                     \u001b[0mdo_return\u001b[0m \u001b[1;33m=\u001b[0m \u001b[1;32mFalse\u001b[0m\u001b[1;33m\u001b[0m\u001b[1;33m\u001b[0m\u001b[0m\n",
      "\u001b[1;32mc:\\Users\\GeorgeC\\anaconda3\\envs\\learn-env\\lib\\site-packages\\transformers\\modeling_tf_utils.py\u001b[0m in \u001b[0;36mtrain_step\u001b[1;34m(self, data)\u001b[0m\n\u001b[0;32m   1628\u001b[0m             \u001b[1;31m# Newer TF train steps leave this out\u001b[0m\u001b[1;33m\u001b[0m\u001b[1;33m\u001b[0m\u001b[1;33m\u001b[0m\u001b[0m\n\u001b[0;32m   1629\u001b[0m             \u001b[0mdata\u001b[0m \u001b[1;33m=\u001b[0m \u001b[0mexpand_1d\u001b[0m\u001b[1;33m(\u001b[0m\u001b[0mdata\u001b[0m\u001b[1;33m)\u001b[0m\u001b[1;33m\u001b[0m\u001b[1;33m\u001b[0m\u001b[0m\n\u001b[1;32m-> 1630\u001b[1;33m         \u001b[0mx\u001b[0m\u001b[1;33m,\u001b[0m \u001b[0my\u001b[0m\u001b[1;33m,\u001b[0m \u001b[0msample_weight\u001b[0m \u001b[1;33m=\u001b[0m \u001b[0mkeras\u001b[0m\u001b[1;33m.\u001b[0m\u001b[0mutils\u001b[0m\u001b[1;33m.\u001b[0m\u001b[0munpack_x_y_sample_weight\u001b[0m\u001b[1;33m(\u001b[0m\u001b[0mdata\u001b[0m\u001b[1;33m)\u001b[0m\u001b[1;33m\u001b[0m\u001b[1;33m\u001b[0m\u001b[0m\n\u001b[0m\u001b[0;32m   1631\u001b[0m         \u001b[1;31m# If the inputs are mutable dictionaries, make a shallow copy of them because we will modify\u001b[0m\u001b[1;33m\u001b[0m\u001b[1;33m\u001b[0m\u001b[1;33m\u001b[0m\u001b[0m\n\u001b[0;32m   1632\u001b[0m         \u001b[1;31m# them during input/label pre-processing. This avoids surprising the user by wrecking their data.\u001b[0m\u001b[1;33m\u001b[0m\u001b[1;33m\u001b[0m\u001b[1;33m\u001b[0m\u001b[0m\n",
      "\u001b[1;31mAttributeError\u001b[0m: in user code:\n\n    File \"c:\\Users\\GeorgeC\\anaconda3\\envs\\learn-env\\lib\\site-packages\\keras\\engine\\training.py\", line 1284, in train_function  *\n        return step_function(self, iterator)\n    File \"c:\\Users\\GeorgeC\\anaconda3\\envs\\learn-env\\lib\\site-packages\\keras\\engine\\training.py\", line 1268, in step_function  **\n        outputs = model.distribute_strategy.run(run_step, args=(data,))\n    File \"c:\\Users\\GeorgeC\\anaconda3\\envs\\learn-env\\lib\\site-packages\\keras\\engine\\training.py\", line 1249, in run_step  **\n        outputs = model.train_step(data)\n    File \"c:\\Users\\GeorgeC\\anaconda3\\envs\\learn-env\\lib\\site-packages\\transformers\\modeling_tf_utils.py\", line 1630, in train_step\n        x, y, sample_weight = keras.utils.unpack_x_y_sample_weight(data)\n\n    AttributeError: module 'keras.utils' has no attribute 'unpack_x_y_sample_weight'\n"
     ]
    }
   ],
   "source": [
    "import pandas as pd\n",
    "from sklearn.model_selection import train_test_split\n",
    "from transformers import DistilBertTokenizer, TFDistilBertForSequenceClassification\n",
    "from transformers import TFAutoModelForSequenceClassification\n",
    "from tensorflow.keras.optimizers import Adam\n",
    "from tensorflow.keras.losses import SparseCategoricalCrossentropy\n",
    "from tensorflow.keras.metrics import SparseCategoricalAccuracy\n",
    "import tensorflow as tf\n",
    "\n",
    "# 1. Data Loading and Preprocessing\n",
    "df_tweets = pd.read_csv('https://raw.githubusercontent.com/George-Chira/twitter-sentiment-analysis/main/data/judge-1377884607_tweet_product_company.csv', encoding='ISO-8859-1')\n",
    "\n",
    "# Renaming columns\n",
    "df_tweets = df_tweets.rename(columns={\n",
    "    'tweet_text': 'text',\n",
    "    'emotion_in_tweet_is_directed_at': 'target_device',\n",
    "    'is_there_an_emotion_directed_at_a_brand_or_product': 'emotion'\n",
    "})\n",
    "\n",
    "# Drop rows where the sentiment is 'I can't tell'\n",
    "df_tweets = df_tweets[df_tweets['emotion'] != \"I can't tell\"]\n",
    "\n",
    "# Convert all text values to strings\n",
    "df_tweets['text'] = df_tweets['text'].astype(str)\n",
    "\n",
    "# 2. Mapping Sentiment Labels to Numeric Categories\n",
    "sentiment_map = {\n",
    "    'Negative emotion': 0,\n",
    "    'Neutral emotion': 1,\n",
    "    'Positive emotion': 2,\n",
    "    'No emotion toward brand or product': 1  # Treat 'No emotion' as neutral\n",
    "}\n",
    "df_tweets['sentiment_numeric'] = df_tweets['emotion'].map(sentiment_map)\n",
    "\n",
    "# Extract features and labels\n",
    "X = df_tweets['text'].tolist()\n",
    "y = df_tweets['sentiment_numeric'].values\n",
    "\n",
    "# 3. Tokenization\n",
    "tokenizer = DistilBertTokenizer.from_pretrained('distilbert-base-uncased')\n",
    "encoded_input = tokenizer(\n",
    "    X, padding=True, truncation=True, max_length=128, return_tensors='tf'\n",
    ")\n",
    "\n",
    "# Convert tensors to numpy arrays for compatibility with sklearn's train_test_split\n",
    "input_ids = encoded_input['input_ids'].numpy()\n",
    "attention_mask = encoded_input['attention_mask'].numpy()\n",
    "\n",
    "# 4. Train-Test Split\n",
    "X_train_ids, X_test_ids, X_train_mask, X_test_mask, y_train, y_test = train_test_split(\n",
    "    input_ids, attention_mask, y, test_size=0.2, random_state=42\n",
    ")\n",
    "\n",
    "# 5. Initialize DistilBERT Model for Sequence Classification\n",
    "num_labels = len(set(y))  # Number of unique sentiment classes\n",
    "model = TFAutoModelForSequenceClassification.from_pretrained(\n",
    "    'distilbert-base-uncased', num_labels=num_labels\n",
    ")\n",
    "\n",
    "# 6. Model Compilation\n",
    "optimizer = Adam(learning_rate=5e-5)\n",
    "loss = SparseCategoricalCrossentropy(from_logits=True)\n",
    "metric = SparseCategoricalAccuracy()\n",
    "\n",
    "model.compile(optimizer=optimizer, loss=loss, metrics=[metric])\n",
    "\n",
    "# 7. Model Training\n",
    "history = model.fit(\n",
    "    [X_train_ids, X_train_mask], y_train,\n",
    "    epochs=2, batch_size=16,\n",
    "    validation_data=([X_test_ids, X_test_mask], y_test)\n",
    ")\n",
    "\n",
    "# 8. Model Evaluation\n",
    "loss, accuracy = model.evaluate([X_test_ids, X_test_mask], y_test)\n",
    "print(f\"Test Accuracy: {accuracy:.4f}\")\n",
    "\n",
    "# Predictions and Classification Report\n",
    "y_pred_logits = model.predict([X_test_ids, X_test_mask]).logits\n",
    "y_pred = tf.argmax(y_pred_logits, axis=1)\n",
    "\n",
    "from sklearn.metrics import classification_report\n",
    "print(classification_report(y_test, y_pred, target_names=['Negative', 'Neutral', 'Positive']))\n"
   ]
  },
  {
   "cell_type": "code",
   "execution_count": null,
   "metadata": {},
   "outputs": [],
   "source": []
  }
 ],
 "metadata": {
  "kernelspec": {
   "display_name": "learn-env",
   "language": "python",
   "name": "python3"
  },
  "language_info": {
   "codemirror_mode": {
    "name": "ipython",
    "version": 3
   },
   "file_extension": ".py",
   "mimetype": "text/x-python",
   "name": "python",
   "nbconvert_exporter": "python",
   "pygments_lexer": "ipython3",
   "version": "3.8.5"
  }
 },
 "nbformat": 4,
 "nbformat_minor": 2
}
